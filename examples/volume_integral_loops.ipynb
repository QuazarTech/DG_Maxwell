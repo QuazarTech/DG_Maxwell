{
 "cells": [
  {
   "cell_type": "code",
   "execution_count": 1,
   "metadata": {},
   "outputs": [
    {
     "name": "stdout",
     "output_type": "stream",
     "text": [
      "gmshtranslator friendly reminder: rules and actions prototypes\n",
      "\n",
      "\n",
      "def node_condition(tag,x,y,z,physgroups): \n",
      "def node_action(tag,x,y,z):\n",
      "def element_condition(eletag,eletype,physgrp,nodes):\n",
      "def element_action(eletag,eletype,physgrp,nodes):\n"
     ]
    },
    {
     "name": "stderr",
     "output_type": "stream",
     "text": [
      "/home/bala/anaconda3/lib/python3.6/site-packages/numpy/lib/polynomial.py:1187: FutureWarning: In the future extra properties will not be copied across when constructing one poly1d from another\n",
      "  other = poly1d(other)\n",
      "/home/bala/anaconda3/lib/python3.6/site-packages/numpy/lib/polynomial.py:1214: FutureWarning: In the future extra properties will not be copied across when constructing one poly1d from another\n",
      "  other = poly1d(other)\n"
     ]
    }
   ],
   "source": [
    "import os\n",
    "import sys\n",
    "sys.path.insert(0, os.path.abspath('../'))\n",
    "\n",
    "import numpy as np\n",
    "from matplotlib import pyplot as plt\n",
    "from mpl_toolkits.mplot3d import Axes3D as ax\n",
    "import arrayfire as af\n",
    "\n",
    "from dg_maxwell import params\n",
    "from dg_maxwell import utils\n",
    "from dg_maxwell import lagrange\n",
    "from dg_maxwell import wave_equation_2d as w2d\n",
    "from dg_maxwell import msh_parser\n",
    "from dg_maxwell import isoparam\n",
    "\n",
    "af.set_backend(params.backend)"
   ]
  },
  {
   "cell_type": "code",
   "execution_count": null,
   "metadata": {
    "collapsed": true
   },
   "outputs": [],
   "source": []
  },
  {
   "cell_type": "code",
   "execution_count": 2,
   "metadata": {},
   "outputs": [
    {
     "name": "stdout",
     "output_type": "stream",
     "text": [
      "gmshTranslator: Initializing...\n",
      "gmshTranslator: Mesh has 10 nodes.\n",
      "gmshTranslator: Mesh has 10 elements.\n",
      "gmshTranslator: Processed 24 lines.\n",
      "gmshTranslator: There are 1 physical groups available: \n",
      "gmshTranslator:      > 0\n",
      "gmshTranslator: Parsing nodes\n",
      "gmshTranslator: Parsing elements\n",
      "gmshTranslator: No rules for elements... skipping elements.\n",
      "gmshTranslator: Parsing nodes\n",
      "gmshTranslator: No rules for nodes... skipping nodes.\n",
      "gmshTranslator: Parsing elements\n"
     ]
    }
   ],
   "source": [
    "nodes, elements = msh_parser.read_order_2_msh('read_and_plot_mesh/mesh/square_single_element.msh')"
   ]
  },
  {
   "cell_type": "code",
   "execution_count": 3,
   "metadata": {
    "scrolled": true
   },
   "outputs": [
    {
     "name": "stderr",
     "output_type": "stream",
     "text": [
      "/home/bala/anaconda3/lib/python3.6/site-packages/numpy/lib/polynomial.py:1187: FutureWarning: In the future extra properties will not be copied across when constructing one poly1d from another\n",
      "  other = poly1d(other)\n",
      "/home/bala/anaconda3/lib/python3.6/site-packages/numpy/lib/polynomial.py:1214: FutureWarning: In the future extra properties will not be copied across when constructing one poly1d from another\n",
      "  other = poly1d(other)\n"
     ]
    },
    {
     "name": "stdout",
     "output_type": "stream",
     "text": [
      "0.0\n"
     ]
    }
   ],
   "source": [
    "N_LGL   = 8\n",
    "\n",
    "xi_LGL  = lagrange.LGL_points(N_LGL)\n",
    "eta_LGL = lagrange.LGL_points(N_LGL)\n",
    "\n",
    "xi_tile  = af.transpose(af.tile(xi_LGL, 1, N_LGL))\n",
    "eta_tile = af.tile(eta_LGL, 1, N_LGL) \n",
    "\n",
    "xi_i    = af.moddims(af.transpose(af.tile(xi_LGL, 1, N_LGL)), N_LGL ** 2)\n",
    "eta_j   = af.tile(eta_LGL, N_LGL)\n",
    "xi_i    = af.np_to_af_array(np.array(xi_i))\n",
    "eta_j   = af.np_to_af_array(np.array(eta_j))\n",
    "\n",
    "L_p_coeffs = af.np_to_af_array(lagrange.lagrange_polynomials(xi_LGL)[1])\n",
    "L_q_coeffs = af.np_to_af_array(lagrange.lagrange_polynomials(eta_LGL)[1])\n",
    "\n",
    "dLp_dxi_coeffs  = utils.polynomial_derivative(L_p_coeffs)\n",
    "dLq_deta_coeffs = utils.polynomial_derivative(L_q_coeffs)\n",
    "print(af.sum(dLp_dxi_coeffs - params.dl_dxi_coeffs))"
   ]
  },
  {
   "cell_type": "code",
   "execution_count": 4,
   "metadata": {},
   "outputs": [
    {
     "name": "stdout",
     "output_type": "stream",
     "text": [
      "arrayfire.Array()\n",
      "Type: double\n",
      "\n",
      "[64 1 1 1]\n",
      "   -1.0000 \n",
      "   -1.0000 \n",
      "   -1.0000 \n",
      "   -1.0000 \n",
      "   -1.0000 \n",
      "   -1.0000 \n",
      "   -1.0000 \n",
      "   -1.0000 \n",
      "   -0.8717 \n",
      "   -0.8717 \n",
      "   -0.8717 \n",
      "   -0.8717 \n",
      "   -0.8717 \n",
      "   -0.8717 \n",
      "   -0.8717 \n",
      "   -0.8717 \n",
      "   -0.5917 \n",
      "   -0.5917 \n",
      "   -0.5917 \n",
      "   -0.5917 \n",
      "   -0.5917 \n",
      "   -0.5917 \n",
      "   -0.5917 \n",
      "   -0.5917 \n",
      "   -0.2093 \n",
      "   -0.2093 \n",
      "   -0.2093 \n",
      "   -0.2093 \n",
      "   -0.2093 \n",
      "   -0.2093 \n",
      "   -0.2093 \n",
      "   -0.2093 \n",
      "    0.2093 \n",
      "    0.2093 \n",
      "    0.2093 \n",
      "    0.2093 \n",
      "    0.2093 \n",
      "    0.2093 \n",
      "    0.2093 \n",
      "    0.2093 \n",
      "    0.5917 \n",
      "    0.5917 \n",
      "    0.5917 \n",
      "    0.5917 \n",
      "    0.5917 \n",
      "    0.5917 \n",
      "    0.5917 \n",
      "    0.5917 \n",
      "    0.8717 \n",
      "    0.8717 \n",
      "    0.8717 \n",
      "    0.8717 \n",
      "    0.8717 \n",
      "    0.8717 \n",
      "    0.8717 \n",
      "    0.8717 \n",
      "    1.0000 \n",
      "    1.0000 \n",
      "    1.0000 \n",
      "    1.0000 \n",
      "    1.0000 \n",
      "    1.0000 \n",
      "    1.0000 \n",
      "    1.0000 \n",
      "\n",
      "\n"
     ]
    }
   ],
   "source": [
    "print(xi_i)"
   ]
  },
  {
   "cell_type": "code",
   "execution_count": null,
   "metadata": {
    "collapsed": true
   },
   "outputs": [],
   "source": []
  },
  {
   "cell_type": "code",
   "execution_count": 5,
   "metadata": {},
   "outputs": [
    {
     "name": "stdout",
     "output_type": "stream",
     "text": [
      "gmshTranslator: Ending\n"
     ]
    }
   ],
   "source": [
    "dxi_dx  = w2d.dxi_dx(nodes[elements[0]][:, 0], nodes[elements[0]][:, 1], xi_i, eta_j)\n",
    "dxi_dy  = w2d.dxi_dy(nodes[elements[0]][:, 0], nodes[elements[0]][:, 1], xi_i, eta_j)\n",
    "deta_dx = w2d.deta_dx(nodes[elements[0]][:, 0], nodes[elements[0]][:, 1], xi_i, eta_j)\n",
    "deta_dy = w2d.deta_dy(nodes[elements[0]][:, 0], nodes[elements[0]][:, 1], xi_i, eta_j)"
   ]
  },
  {
   "cell_type": "code",
   "execution_count": 6,
   "metadata": {
    "collapsed": true
   },
   "outputs": [],
   "source": [
    "def F_xi(u):\n",
    "    '''\n",
    "    '''\n",
    "    F_xi_u = w2d.F_x(u) * dxi_dx + w2d.F_y(u) * dxi_dy\n",
    "\n",
    "    return F_xi_u\n",
    "\n",
    "def F_eta(u):\n",
    "    '''\n",
    "    '''\n",
    "    F_eta_u = w2d.F_x(u) * deta_dx + w2d.F_y(u) * deta_dy\n",
    "    return F_eta_u"
   ]
  },
  {
   "cell_type": "code",
   "execution_count": 7,
   "metadata": {},
   "outputs": [],
   "source": [
    "def g_dd(x_nodes, y_nodes, xi, eta):\n",
    "    '''\n",
    "    '''\n",
    "    ans00  =   (w2d.dx_dxi(x_nodes, xi, eta))**2 \\\n",
    "             + (w2d.dy_dxi(y_nodes, xi, eta))**2\n",
    "    ans11  =   (w2d.dx_deta(x_nodes, xi, eta))**2 \\\n",
    "             + (w2d.dy_deta(y_nodes, xi, eta))**2\n",
    "    \n",
    "    ans01  =  (w2d.dx_dxi(x_nodes, xi, eta))  \\\n",
    "            * (w2d.dx_deta(x_nodes, xi, eta)) \\\n",
    "            + (w2d.dy_dxi(y_nodes, xi, eta))  \\\n",
    "            * (w2d.dy_deta(y_nodes, xi, eta))\n",
    "    \n",
    "    ans =  [[ans00, ans01],\n",
    "            [ans01, ans11]\n",
    "           ]\n",
    "    \n",
    "    return ans\n",
    "\n",
    "\n",
    "def g_uu(x_nodes, y_nodes, xi, eta):\n",
    "    gCov = g_dd(x_nodes, y_nodes, xi, eta)\n",
    "    \n",
    "    \n",
    "    a = gCov[0][0]\n",
    "    b = gCov[0][1]\n",
    "    c = gCov[1][0]\n",
    "    d = gCov[1][1]\n",
    "    \n",
    "    det = (a*d - b*c)\n",
    "    \n",
    "    ans = [[d / det, -b / det],\n",
    "           [-c / det, a / det]]\n",
    "    \n",
    "    return ans"
   ]
  },
  {
   "cell_type": "code",
   "execution_count": 8,
   "metadata": {
    "collapsed": true
   },
   "outputs": [],
   "source": [
    "g_ab = g_uu(nodes[elements[0]][:, 0], nodes[elements[0]][:, 1], xi_i, eta_j)"
   ]
  },
  {
   "cell_type": "code",
   "execution_count": 9,
   "metadata": {
    "collapsed": true
   },
   "outputs": [],
   "source": [
    "u_ij = np.e ** (- (xi_i**2) / (0.4 ** 2))\n",
    "\n",
    "u_ij_tile = af.moddims(u_ij, N_LGL, N_LGL)"
   ]
  },
  {
   "cell_type": "code",
   "execution_count": 10,
   "metadata": {
    "scrolled": true
   },
   "outputs": [
    {
     "data": {
      "image/png": "[encoded data removed]",
      "text/plain": [
       "<matplotlib.figure.Figure at 0x7f04be757630>"
      ]
     },
     "metadata": {},
     "output_type": "display_data"
    }
   ],
   "source": [
    "color_levels = np.linspace(0., 1., 100)\n",
    "plt.contourf(np.array(xi_tile), np.array(eta_tile), np.array(u_ij_tile),200, levels = color_levels, cmap = 'jet')\n",
    "plt.xlabel(r\"$x$\")\n",
    "plt.ylabel(r\"$y$\")\n",
    "plt.colorbar()\n",
    "plt.show()"
   ]
  },
  {
   "cell_type": "code",
   "execution_count": 11,
   "metadata": {},
   "outputs": [
    {
     "name": "stderr",
     "output_type": "stream",
     "text": [
      "/home/bala/anaconda3/lib/python3.6/site-packages/numpy/lib/polynomial.py:1187: FutureWarning: In the future extra properties will not be copied across when constructing one poly1d from another\n",
      "  other = poly1d(other)\n",
      "/home/bala/anaconda3/lib/python3.6/site-packages/numpy/lib/polynomial.py:1214: FutureWarning: In the future extra properties will not be copied across when constructing one poly1d from another\n",
      "  other = poly1d(other)\n"
     ]
    }
   ],
   "source": [
    "N_LGL = 8\n",
    "xi_LGL  = lagrange.LGL_points(N_LGL)\n",
    "eta_LGL = lagrange.LGL_points(N_LGL)\n",
    "Xi, Eta = utils.af_meshgrid(xi_LGL, eta_LGL)\n",
    "\n",
    "_, Li_xi  = lagrange.lagrange_polynomials(xi_LGL)\n",
    "_, Lj_eta = lagrange.lagrange_polynomials(eta_LGL)\n",
    "\n",
    "Li_xi  = af.np_to_af_array(Li_xi)\n",
    "Lj_eta = af.np_to_af_array(Lj_eta)\n",
    "Lp_xi  = Li_xi.copy()\n",
    "Lq_eta = Lj_eta.copy()\n",
    "\n",
    "# print(Lq_eta)\n",
    "Lp_xi_tile = af.reorder(Lq_eta, d0 = 2, d1 = 0, d2 = 1)\n",
    "Lp_xi_tile = af.tile(Lp_xi_tile, d0 = N_LGL)\n",
    "Lp_xi_tile = af.moddims(Lp_xi_tile, d0 = N_LGL * N_LGL, d1 = 1, d2 = N_LGL)\n",
    "Lp_xi_tile = af.reorder(Lp_xi_tile, d0 = 0, d1 = 2, d2 = 1)\n",
    "Li_xi_tile = Lp_xi_tile\n",
    "\n",
    "Lq_eta_tile = af.reorder(Lq_eta, d0 = 0, d1 = 2, d2 = 1)\n",
    "Lq_eta_tile = af.tile(Lq_eta_tile, d0 = N_LGL)\n",
    "Lq_eta_tile = af.reorder(Lq_eta_tile, d0 = 0, d1 = 2, d2 = 1)\n",
    "Lj_eta_tile = Lq_eta_tile"
   ]
  },
  {
   "cell_type": "code",
   "execution_count": 12,
   "metadata": {},
   "outputs": [
    {
     "name": "stdout",
     "output_type": "stream",
     "text": [
      "-0.5000000000002015\n"
     ]
    }
   ],
   "source": [
    "xi_i = af.np_to_af_array(np.array(xi_i))\n",
    "eta_j = af.np_to_af_array(np.array(eta_j))\n",
    "print(af.sum(params.dl_dxi_coeffs[0, :]))"
   ]
  },
  {
   "cell_type": "code",
   "execution_count": 23,
   "metadata": {},
   "outputs": [],
   "source": [
    "p = 0\n",
    "q = 0\n",
    "xi_i = af.np_to_af_array(np.array(xi_i))\n",
    "eta_j = af.np_to_af_array(np.array(eta_j))\n",
    "Lp_value_LGL_points = af.transpose(utils.polyval_1d(L_p_coeffs[p], xi_i))\n",
    "Lq_value_LGL_points = af.transpose(utils.polyval_1d(L_q_coeffs[q], eta_j))\n",
    "\n",
    "dLp_dxi_LGL_points  = af.transpose(utils.polyval_1d(dLp_dxi_coeffs[p], xi_i))\n",
    "dLq_deta_LGL_points = af.transpose(utils.polyval_1d(dLq_deta_coeffs[q], eta_j))\n",
    "\n",
    "g_00 = g_ab[0][0]\n",
    "\n",
    "#print(F_xi(u_ij).shape, Lq_value_LGL_points.shape, dLp_dxi_LGL_points.shape)\n",
    "v_00            = g_00 * F_xi(u_ij) * Lq_value_LGL_points * dLp_dxi_LGL_points\n",
    "volume_integral = af.sum(v_00 * utils.integrate_2d(Li_xi_tile, Lj_eta_tile, order = 9, scheme = 'gauss'))"
   ]
  },
  {
   "cell_type": "code",
   "execution_count": 24,
   "metadata": {},
   "outputs": [
    {
     "name": "stdout",
     "output_type": "stream",
     "text": [
      "[ -2.70263579e-02  -7.20126836e-17  -1.20021139e-17  -5.62599090e-19\n",
      "  -7.50132121e-19  -4.50079272e-18  -1.80031709e-17  -2.40042279e-17\n",
      "  -2.77832109e-02  -7.40293451e-17  -1.23382242e-17  -5.78354259e-19\n",
      "  -7.71139011e-19  -4.62683407e-18  -1.85073363e-17  -2.46764484e-17\n",
      "   8.88528097e-02   2.36751444e-16   3.94585740e-17   1.84962066e-18\n",
      "   2.46616088e-18   1.47969653e-17   5.91878611e-17   7.89171481e-17\n",
      "  -2.83017760e-01  -7.54110802e-16  -1.25685134e-16  -5.89149064e-18\n",
      "  -7.85532085e-18  -4.71319251e-17  -1.88527700e-16  -2.51370267e-16\n",
      "   1.85051277e-01   4.93075652e-16   8.21792754e-17   3.85215353e-18\n",
      "   5.13620471e-18   3.08172283e-17   1.23268913e-16   1.64358551e-16\n",
      "  -2.27923490e-02  -6.07310176e-17  -1.01218363e-17  -4.74461075e-19\n",
      "  -6.32614767e-19  -3.79568860e-18  -1.51827544e-17  -2.02436725e-17\n",
      "   1.90382757e-03   5.07281570e-18   8.45469283e-19   3.96313726e-20\n",
      "   5.28418302e-20   3.17050981e-19   1.26820392e-18   1.69093857e-18\n",
      "  -9.65227068e-04  -2.57188156e-18  -4.28646926e-19  -2.00928247e-20\n",
      "  -2.67904329e-20  -1.60742597e-19  -6.42970389e-19  -8.57293852e-19]\n"
     ]
    }
   ],
   "source": [
    "print(np.array(v_00))"
   ]
  },
  {
   "cell_type": "code",
   "execution_count": 26,
   "metadata": {},
   "outputs": [
    {
     "name": "stdout",
     "output_type": "stream",
     "text": [
      "-0.000868750371603\n"
     ]
    }
   ],
   "source": [
    "print(np.sum(np.array(utils.integrate_2d(Li_xi_tile, Lj_eta_tile, order = 9, scheme = 'gauss')) * np.array(v_00)))"
   ]
  },
  {
   "cell_type": "code",
   "execution_count": null,
   "metadata": {},
   "outputs": [],
   "source": [
    "def v_interp"
   ]
  },
  {
   "cell_type": "code",
   "execution_count": null,
   "metadata": {
    "collapsed": true
   },
   "outputs": [],
   "source": []
  },
  {
   "cell_type": "code",
   "execution_count": null,
   "metadata": {},
   "outputs": [],
   "source": [
    "print(u_ij)"
   ]
  },
  {
   "cell_type": "code",
   "execution_count": 19,
   "metadata": {},
   "outputs": [
    {
     "data": {
      "text/plain": [
       "2.047153304298341"
      ]
     },
     "execution_count": 19,
     "metadata": {},
     "output_type": "execute_result"
    }
   ],
   "source": [
    "(0.0008687503716034615 / 0.000424369962806095)"
   ]
  },
  {
   "cell_type": "code",
   "execution_count": 20,
   "metadata": {},
   "outputs": [
    {
     "data": {
      "text/plain": [
       "2.0471533042837198"
      ]
     },
     "execution_count": 20,
     "metadata": {},
     "output_type": "execute_result"
    }
   ],
   "source": [
    "(0.005125382517612013 / 0.00250366326102057)"
   ]
  },
  {
   "cell_type": "code",
   "execution_count": null,
   "metadata": {},
   "outputs": [],
   "source": [
    "(0.008297813043957767 / 0.00405334228103847)"
   ]
  },
  {
   "cell_type": "code",
   "execution_count": null,
   "metadata": {},
   "outputs": [],
   "source": [
    "0.010033064471541696 / 0.00490098345377580"
   ]
  },
  {
   "cell_type": "code",
   "execution_count": null,
   "metadata": {},
   "outputs": [],
   "source": [
    "print(xi_i)"
   ]
  },
  {
   "cell_type": "code",
   "execution_count": null,
   "metadata": {},
   "outputs": [],
   "source": [
    "xi_i = af.np_to_af_array(np.array(xi_i))\n",
    "eta_j = af.np_to_af_array(np.array(eta_j))\n",
    "func = np.e ** (xi_i + eta_j)\n",
    "print(func)"
   ]
  },
  {
   "cell_type": "code",
   "execution_count": null,
   "metadata": {
    "collapsed": true
   },
   "outputs": [],
   "source": []
  },
  {
   "cell_type": "code",
   "execution_count": null,
   "metadata": {},
   "outputs": [],
   "source": [
    "print(af.sum(func * utils.integrate_2d(Lp_xi_tile, Lq_eta_tile, order = 9, scheme = 'gauss')))"
   ]
  },
  {
   "cell_type": "code",
   "execution_count": null,
   "metadata": {
    "collapsed": true
   },
   "outputs": [],
   "source": []
  },
  {
   "cell_type": "code",
   "execution_count": null,
   "metadata": {},
   "outputs": [],
   "source": [
    "utils.integrate_2d(Lp_xi_tile, Lq_eta_tile, order = 9, scheme = 'gauss')"
   ]
  },
  {
   "cell_type": "code",
   "execution_count": null,
   "metadata": {},
   "outputs": [],
   "source": [
    "0.000424369962806095 / 0.0008687503715943605"
   ]
  },
  {
   "cell_type": "code",
   "execution_count": null,
   "metadata": {},
   "outputs": [],
   "source": [
    "-0.00250366326102057 / -0.0051253825175652055"
   ]
  },
  {
   "cell_type": "code",
   "execution_count": null,
   "metadata": {},
   "outputs": [],
   "source": [
    "0.0015928056643658513 / 0.000308073349716018"
   ]
  },
  {
   "cell_type": "code",
   "execution_count": null,
   "metadata": {
    "collapsed": true
   },
   "outputs": [],
   "source": []
  }
 ],
 "metadata": {
  "kernelspec": {
   "display_name": "Python 3",
   "language": "python",
   "name": "python3"
  },
  "language_info": {
   "codemirror_mode": {
    "name": "ipython",
    "version": 3
   },
   "file_extension": ".py",
   "mimetype": "text/x-python",
   "name": "python",
   "nbconvert_exporter": "python",
   "pygments_lexer": "ipython3",
   "version": "3.6.1"
  }
 },
 "nbformat": 4,
 "nbformat_minor": 2
}
