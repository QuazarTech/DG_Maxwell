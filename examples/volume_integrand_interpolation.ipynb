{
 "cells": [
  {
   "cell_type": "code",
   "execution_count": 1,
   "metadata": {},
   "outputs": [
    {
     "name": "stdout",
     "output_type": "stream",
     "text": [
      "gmshtranslator friendly reminder: rules and actions prototypes\n",
      "\n",
      "\n",
      "def node_condition(tag,x,y,z,physgroups): \n",
      "def node_action(tag,x,y,z):\n",
      "def element_condition(eletag,eletype,physgrp,nodes):\n",
      "def element_action(eletag,eletype,physgrp,nodes):\n"
     ]
    },
    {
     "name": "stderr",
     "output_type": "stream",
     "text": [
      "/home/ubermensch/.local/anaconda3/lib/python3.6/site-packages/numpy/lib/polynomial.py:1193: FutureWarning: In the future extra properties will not be copied across when constructing one poly1d from another\n",
      "  other = poly1d(other)\n",
      "/home/ubermensch/.local/anaconda3/lib/python3.6/site-packages/numpy/lib/polynomial.py:1220: FutureWarning: In the future extra properties will not be copied across when constructing one poly1d from another\n",
      "  other = poly1d(other)\n"
     ]
    }
   ],
   "source": [
    "import os\n",
    "import sys\n",
    "sys.path.insert(0, os.path.abspath('../'))\n",
    "\n",
    "import numpy as np\n",
    "from matplotlib import pyplot as plt\n",
    "from mpl_toolkits.mplot3d import Axes3D as ax\n",
    "import arrayfire as af\n",
    "\n",
    "from dg_maxwell import params\n",
    "from dg_maxwell import utils\n",
    "from dg_maxwell import lagrange\n",
    "from dg_maxwell import wave_equation_2d as w2d\n",
    "from dg_maxwell import msh_parser\n",
    "from dg_maxwell import isoparam\n",
    "\n",
    "af.set_backend(params.backend)"
   ]
  },
  {
   "cell_type": "code",
   "execution_count": 2,
   "metadata": {},
   "outputs": [
    {
     "name": "stdout",
     "output_type": "stream",
     "text": [
      "gmshTranslator: Initializing...\n",
      "gmshTranslator: Mesh has 9 nodes.\n",
      "gmshTranslator: Mesh has 9 elements.\n",
      "gmshTranslator: Processed 22 lines.\n",
      "gmshTranslator: There are 1 physical groups available: \n",
      "gmshTranslator:      > 0\n",
      "gmshTranslator: Parsing nodes\n",
      "gmshTranslator: Parsing elements\n",
      "gmshTranslator: No rules for elements... skipping elements.\n",
      "gmshTranslator: Parsing nodes\n",
      "gmshTranslator: No rules for nodes... skipping nodes.\n",
      "gmshTranslator: Parsing elements\n"
     ]
    }
   ],
   "source": [
    "nodes, elements = msh_parser.read_order_2_msh('read_and_plot_mesh/mesh/square_1.msh')"
   ]
  },
  {
   "cell_type": "code",
   "execution_count": 3,
   "metadata": {},
   "outputs": [
    {
     "name": "stderr",
     "output_type": "stream",
     "text": [
      "/home/ubermensch/.local/anaconda3/lib/python3.6/site-packages/numpy/lib/polynomial.py:1193: FutureWarning: In the future extra properties will not be copied across when constructing one poly1d from another\n",
      "  other = poly1d(other)\n",
      "/home/ubermensch/.local/anaconda3/lib/python3.6/site-packages/numpy/lib/polynomial.py:1220: FutureWarning: In the future extra properties will not be copied across when constructing one poly1d from another\n",
      "  other = poly1d(other)\n"
     ]
    }
   ],
   "source": [
    "N_LGL = 8\n",
    "xi_LGL  = lagrange.LGL_points(N_LGL)\n",
    "eta_LGL = lagrange.LGL_points(N_LGL)\n",
    "Xi, Eta = utils.af_meshgrid(xi_LGL, eta_LGL)\n",
    "\n",
    "_, Li_xi  = lagrange.lagrange_polynomials(xi_LGL)\n",
    "_, Lj_eta = lagrange.lagrange_polynomials(eta_LGL)\n",
    "\n",
    "Li_xi  = af.np_to_af_array(Li_xi)\n",
    "Lj_eta = af.np_to_af_array(Lj_eta)\n",
    "Lp_xi  = Li_xi.copy()\n",
    "Lq_eta = Lj_eta.copy()"
   ]
  },
  {
   "cell_type": "code",
   "execution_count": 4,
   "metadata": {},
   "outputs": [],
   "source": [
    "xi_ij  = af.np_to_af_array(np.array(af.flat(Xi)))\n",
    "eta_ij = af.np_to_af_array(np.array(af.flat(Eta)))"
   ]
  },
  {
   "cell_type": "code",
   "execution_count": 9,
   "metadata": {},
   "outputs": [],
   "source": [
    "dxi_dx  = w2d.dxi_dx(nodes[elements[0]][:, 0], nodes[elements[0]][:, 1],  xi_ij, eta_ij)\n",
    "dxi_dy  = w2d.dxi_dy(nodes[elements[0]][:, 0], nodes[elements[0]][:, 1],  xi_ij, eta_ij)\n",
    "deta_dx = w2d.deta_dx(nodes[elements[0]][:, 0], nodes[elements[0]][:, 1], xi_ij, eta_ij)\n",
    "deta_dy = w2d.deta_dy(nodes[elements[0]][:, 0], nodes[elements[0]][:, 1], xi_ij, eta_ij)"
   ]
  },
  {
   "cell_type": "code",
   "execution_count": 10,
   "metadata": {},
   "outputs": [],
   "source": [
    "def F_xi(u):\n",
    "    '''\n",
    "    '''\n",
    "    F_xi_u = w2d.F_x(u) * dxi_dx + w2d.F_y(u) * dxi_dy\n",
    "\n",
    "    return F_xi_u\n",
    "\n",
    "def F_eta(u):\n",
    "    '''\n",
    "    '''\n",
    "    F_eta_u = w2d.F_x(u) * deta_dx + w2d.F_y(u) * deta_dy\n",
    "    return F_eta_u"
   ]
  },
  {
   "cell_type": "code",
   "execution_count": 11,
   "metadata": {},
   "outputs": [],
   "source": [
    "def g_dd(x_nodes, y_nodes, xi, eta):\n",
    "    '''\n",
    "    '''\n",
    "    ans00  =   (w2d.dx_dxi(x_nodes, xi, eta))**2 \\\n",
    "             + (w2d.dy_dxi(y_nodes, xi, eta))**2\n",
    "    ans11  =   (w2d.dx_deta(x_nodes, xi, eta))**2 \\\n",
    "             + (w2d.dy_deta(y_nodes, xi, eta))**2\n",
    "    \n",
    "    ans01  =  (w2d.dx_dxi(x_nodes, xi, eta))  \\\n",
    "            * (w2d.dx_deta(x_nodes, xi, eta)) \\\n",
    "            + (w2d.dy_dxi(y_nodes, xi, eta))  \\\n",
    "            * (w2d.dy_deta(y_nodes, xi, eta))\n",
    "    \n",
    "    ans =  [[ans00, ans01],\n",
    "            [ans01, ans11]\n",
    "           ]\n",
    "    \n",
    "    return ans\n",
    "\n",
    "\n",
    "def g_uu(x_nodes, y_nodes, xi, eta):\n",
    "    gCov = g_dd(x_nodes, y_nodes, xi, eta)\n",
    "    \n",
    "    \n",
    "    a = gCov[0][0]\n",
    "    b = gCov[0][1]\n",
    "    c = gCov[1][0]\n",
    "    d = gCov[1][1]\n",
    "    \n",
    "    det = (a*d - b*c)\n",
    "    \n",
    "    ans = [[d / det, -b / det],\n",
    "           [-c / det, a / det]]\n",
    "    \n",
    "    return ans"
   ]
  },
  {
   "cell_type": "code",
   "execution_count": 12,
   "metadata": {},
   "outputs": [],
   "source": [
    "g_ab = g_uu(nodes[elements[0]][:, 0], nodes[elements[0]][:, 1], xi_ij, eta_ij)"
   ]
  },
  {
   "cell_type": "code",
   "execution_count": 16,
   "metadata": {},
   "outputs": [],
   "source": [
    "u_ij = np.e ** (- (xi_ij**2) / (0.4 ** 2))\n",
    "\n",
    "u_ij_tile = af.moddims(u_ij, N_LGL, N_LGL)"
   ]
  },
  {
   "cell_type": "code",
   "execution_count": 17,
   "metadata": {},
   "outputs": [
    {
     "data": {
      "image/png": "[encoded data removed]",
      "text/plain": [
       "<matplotlib.figure.Figure at 0x7f3dc8a3cc88>"
      ]
     },
     "metadata": {},
     "output_type": "display_data"
    }
   ],
   "source": [
    "color_levels = np.linspace(0., 1., 100)\n",
    "plt.contourf(np.array(Xi), np.array(Eta), np.array(u_ij_tile),200, levels = color_levels, cmap = 'jet')\n",
    "plt.xlabel(r\"$x$\")\n",
    "plt.ylabel(r\"$y$\")\n",
    "plt.colorbar()\n",
    "plt.show()"
   ]
  },
  {
   "cell_type": "code",
   "execution_count": 18,
   "metadata": {},
   "outputs": [],
   "source": [
    "# print(Lq_eta)\n",
    "Lp_xi_tile = af.reorder(Lq_eta, d0 = 2, d1 = 0, d2 = 1)\n",
    "Lp_xi_tile = af.tile(Lp_xi_tile, d0 = N_LGL)\n",
    "Lp_xi_tile = af.moddims(Lp_xi_tile, d0 = N_LGL * N_LGL, d1 = 1, d2 = N_LGL)\n",
    "Lp_xi_tile = af.reorder(Lp_xi_tile, d0 = 0, d1 = 2, d2 = 1)\n",
    "\n",
    "Lq_eta_tile = af.reorder(Lq_eta, d0 = 0, d1 = 2, d2 = 1)\n",
    "Lq_eta_tile = af.tile(Lq_eta_tile, d0 = N_LGL)\n",
    "Lq_eta_tile = af.reorder(Lq_eta_tile, d0 = 0, d1 = 2, d2 = 1)"
   ]
  },
  {
   "cell_type": "code",
   "execution_count": 21,
   "metadata": {},
   "outputs": [],
   "source": [
    "dLp_dxi_tile  = utils.polynomial_derivative(Lp_xi_tile)\n",
    "dLq_deta_tile = utils.polynomial_derivative(Lq_eta_tile)"
   ]
  },
  {
   "cell_type": "code",
   "execution_count": 26,
   "metadata": {},
   "outputs": [
    {
     "name": "stdout",
     "output_type": "stream",
     "text": [
      "arrayfire.Array()\n",
      "Type: double\n",
      "\n",
      "[1 7 1 1]\n",
      "  -23.4609    20.1094    19.3359   -15.4688    -3.1641     2.1094     0.0391 \n",
      "\n"
     ]
    }
   ],
   "source": [
    "print(dLp_dxi_tile[0])"
   ]
  },
  {
   "cell_type": "code",
   "execution_count": 37,
   "metadata": {},
   "outputs": [],
   "source": [
    "dLp_dxi_val = af.transpose(utils.polyval_1d(dLp_dxi_tile[0], af.np_to_af_array(np.array(xi_ij))))\n",
    "Lq_val      = af.transpose(utils.polyval_1d(Lq_eta_tile[0], af.np_to_af_array(np.array(eta_ij))))\n",
    "F_xi_val    = F_xi(af.np_to_af_array(np.array(xi_ij)))\n",
    "\n",
    "v_ij        = g_ab[0][0] * dLp_dxi_val * Lq_val * F_xi_val"
   ]
  },
  {
   "cell_type": "code",
   "execution_count": 47,
   "metadata": {},
   "outputs": [
    {
     "name": "stdout",
     "output_type": "stream",
     "text": [
      "arrayfire.Array()\n",
      "Type: double\n",
      "\n",
      "[64 1 1 1]\n",
      "   -1.0000 \n",
      "   -0.8717 \n",
      "   -0.5917 \n",
      "   -0.2093 \n",
      "    0.2093 \n",
      "    0.5917 \n",
      "    0.8717 \n",
      "    1.0000 \n",
      "   -1.0000 \n",
      "   -0.8717 \n",
      "   -0.5917 \n",
      "   -0.2093 \n",
      "    0.2093 \n",
      "    0.5917 \n",
      "    0.8717 \n",
      "    1.0000 \n",
      "   -1.0000 \n",
      "   -0.8717 \n",
      "   -0.5917 \n",
      "   -0.2093 \n",
      "    0.2093 \n",
      "    0.5917 \n",
      "    0.8717 \n",
      "    1.0000 \n",
      "   -1.0000 \n",
      "   -0.8717 \n",
      "   -0.5917 \n",
      "   -0.2093 \n",
      "    0.2093 \n",
      "    0.5917 \n",
      "    0.8717 \n",
      "    1.0000 \n",
      "   -1.0000 \n",
      "   -0.8717 \n",
      "   -0.5917 \n",
      "   -0.2093 \n",
      "    0.2093 \n",
      "    0.5917 \n",
      "    0.8717 \n",
      "    1.0000 \n",
      "   -1.0000 \n",
      "   -0.8717 \n",
      "   -0.5917 \n",
      "   -0.2093 \n",
      "    0.2093 \n",
      "    0.5917 \n",
      "    0.8717 \n",
      "    1.0000 \n",
      "   -1.0000 \n",
      "   -0.8717 \n",
      "   -0.5917 \n",
      "   -0.2093 \n",
      "    0.2093 \n",
      "    0.5917 \n",
      "    0.8717 \n",
      "    1.0000 \n",
      "   -1.0000 \n",
      "   -0.8717 \n",
      "   -0.5917 \n",
      "   -0.2093 \n",
      "    0.2093 \n",
      "    0.5917 \n",
      "    0.8717 \n",
      "    1.0000 \n",
      "\n",
      "\n"
     ]
    }
   ],
   "source": [
    "print(F_eta(af.np_to_af_array(np.array(eta_ij))))"
   ]
  },
  {
   "cell_type": "code",
   "execution_count": 38,
   "metadata": {},
   "outputs": [
    {
     "name": "stdout",
     "output_type": "stream",
     "text": [
      "arrayfire.Array()\n",
      "Type: double\n",
      "\n",
      "[64 1 1 1]\n",
      "   14.0000 \n",
      "    0.0000 \n",
      "    0.0000 \n",
      "    0.0000 \n",
      "    0.0000 \n",
      "    0.0000 \n",
      "    0.0000 \n",
      "    0.0000 \n",
      "    2.7982 \n",
      "    0.0000 \n",
      "    0.0000 \n",
      "    0.0000 \n",
      "    0.0000 \n",
      "    0.0000 \n",
      "    0.0000 \n",
      "    0.0000 \n",
      "   -0.4689 \n",
      "   -0.0000 \n",
      "   -0.0000 \n",
      "   -0.0000 \n",
      "   -0.0000 \n",
      "   -0.0000 \n",
      "   -0.0000 \n",
      "   -0.0000 \n",
      "    0.0779 \n",
      "    0.0000 \n",
      "    0.0000 \n",
      "    0.0000 \n",
      "    0.0000 \n",
      "    0.0000 \n",
      "    0.0000 \n",
      "    0.0000 \n",
      "    0.0509 \n",
      "    0.0000 \n",
      "    0.0000 \n",
      "    0.0000 \n",
      "    0.0000 \n",
      "    0.0000 \n",
      "    0.0000 \n",
      "    0.0000 \n",
      "   -0.1203 \n",
      "   -0.0000 \n",
      "   -0.0000 \n",
      "   -0.0000 \n",
      "   -0.0000 \n",
      "   -0.0000 \n",
      "   -0.0000 \n",
      "   -0.0000 \n",
      "    0.1917 \n",
      "    0.0000 \n",
      "    0.0000 \n",
      "    0.0000 \n",
      "    0.0000 \n",
      "    0.0000 \n",
      "    0.0000 \n",
      "    0.0000 \n",
      "   -0.5000 \n",
      "   -0.0000 \n",
      "   -0.0000 \n",
      "   -0.0000 \n",
      "   -0.0000 \n",
      "   -0.0000 \n",
      "   -0.0000 \n",
      "   -0.0000 \n",
      "\n",
      "\n"
     ]
    }
   ],
   "source": [
    "print(v_ij)"
   ]
  },
  {
   "cell_type": "code",
   "execution_count": null,
   "metadata": {},
   "outputs": [],
   "source": []
  }
 ],
 "metadata": {
  "kernelspec": {
   "display_name": "Python 3",
   "language": "python",
   "name": "python3"
  },
  "language_info": {
   "codemirror_mode": {
    "name": "ipython",
    "version": 3
   },
   "file_extension": ".py",
   "mimetype": "text/x-python",
   "name": "python",
   "nbconvert_exporter": "python",
   "pygments_lexer": "ipython3",
   "version": "3.6.3"
  }
 },
 "nbformat": 4,
 "nbformat_minor": 2
}
