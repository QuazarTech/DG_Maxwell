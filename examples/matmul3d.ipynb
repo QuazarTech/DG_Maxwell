{
 "cells": [
  {
   "cell_type": "code",
   "execution_count": 8,
   "metadata": {},
   "outputs": [],
   "source": [
    "import os\n",
    "import sys\n",
    "sys.path.insert(0, os.path.abspath('../'))\n",
    "\n",
    "import numpy as np\n",
    "from matplotlib import pyplot as plt\n",
    "import arrayfire as af\n",
    "af.set_backend('cpu')\n",
    "\n",
    "from dg_maxwell import utils\n",
    "from dg_maxwell import lagrange\n",
    "\n",
    "plt.rcParams['figure.figsize']     = 12, 7.5\n",
    "plt.rcParams['lines.linewidth']    = 1.5\n",
    "plt.rcParams['font.family']        = 'serif'\n",
    "plt.rcParams['font.weight']        = 'bold'\n",
    "plt.rcParams['font.size']          = 20  \n",
    "plt.rcParams['font.sans-serif']    = 'serif'\n",
    "plt.rcParams['text.usetex']        = True\n",
    "plt.rcParams['axes.linewidth']     = 1.5\n",
    "plt.rcParams['axes.titlesize']     = 'medium'\n",
    "plt.rcParams['axes.labelsize']     = 'medium'\n",
    "\n",
    "plt.rcParams['xtick.major.size']   = 8\n",
    "plt.rcParams['xtick.minor.size']   = 4\n",
    "plt.rcParams['xtick.major.pad']    = 8\n",
    "plt.rcParams['xtick.minor.pad']    = 8\n",
    "plt.rcParams['xtick.color']        = 'k'\n",
    "plt.rcParams['xtick.labelsize']    = 'medium'\n",
    "plt.rcParams['xtick.direction']    = 'in'    \n",
    "\n",
    "plt.rcParams['ytick.major.size']   = 8\n",
    "plt.rcParams['ytick.minor.size']   = 4\n",
    "plt.rcParams['ytick.major.pad']    = 8\n",
    "plt.rcParams['ytick.minor.pad']    = 8\n",
    "plt.rcParams['ytick.color']        = 'k'\n",
    "plt.rcParams['ytick.labelsize']    = 'medium'\n",
    "plt.rcParams['ytick.direction']    = 'in'\n",
    "plt.rcParams['text.usetex']        = True\n",
    "plt.rcParams['text.latex.unicode'] = True"
   ]
  },
  {
   "cell_type": "code",
   "execution_count": 34,
   "metadata": {},
   "outputs": [],
   "source": [
    "M = 2\n",
    "N = 3\n",
    "P = 4\n",
    "Q = 3\n",
    "\n",
    "a = af.range(M * N * Q, dtype = af.Dtype.u32)\n",
    "b = af.range(N * P * Q, dtype = af.Dtype.u32)\n",
    "\n",
    "a = af.moddims(a, d0 = M, d1 = N, d2 = Q)\n",
    "b = af.moddims(b, d0 = N, d1 = P, d2 = Q)\n",
    "\n",
    "a_init = a\n",
    "b_init = b"
   ]
  },
  {
   "cell_type": "code",
   "execution_count": 35,
   "metadata": {},
   "outputs": [
    {
     "name": "stdout",
     "output_type": "stream",
     "text": [
      "arrayfire.Array()\n",
      "Type: unsigned int\n",
      "\n",
      "[2 3 3 1]\n",
      "         0          2          4 \n",
      "         1          3          5 \n",
      "\n",
      "         6          8         10 \n",
      "         7          9         11 \n",
      "\n",
      "        12         14         16 \n",
      "        13         15         17 \n",
      "\n",
      "\n",
      "\n",
      "arrayfire.Array()\n",
      "Type: unsigned int\n",
      "\n",
      "[3 4 3 1]\n",
      "         0          3          6          9 \n",
      "         1          4          7         10 \n",
      "         2          5          8         11 \n",
      "\n",
      "        12         15         18         21 \n",
      "        13         16         19         22 \n",
      "        14         17         20         23 \n",
      "\n",
      "        24         27         30         33 \n",
      "        25         28         31         34 \n",
      "        26         29         32         35 \n",
      "\n",
      "\n",
      "\n"
     ]
    }
   ],
   "source": [
    "print(a)\n",
    "print(b)"
   ]
  },
  {
   "cell_type": "code",
   "execution_count": 36,
   "metadata": {},
   "outputs": [
    {
     "name": "stdout",
     "output_type": "stream",
     "text": [
      "arrayfire.Array()\n",
      "Type: unsigned int\n",
      "\n",
      "[2 4 3 1]\n",
      "        10         28         46         64 \n",
      "        13         40         67         94 \n",
      "\n",
      "       316        388        460        532 \n",
      "       355        436        517        598 \n",
      "\n",
      "      1054       1180       1306       1432 \n",
      "      1129       1264       1399       1534 \n",
      "\n",
      "\n",
      "\n"
     ]
    }
   ],
   "source": [
    "a_dot_b = utils.matmul_3D(a, b)\n",
    "print(a_dot_b)"
   ]
  },
  {
   "cell_type": "code",
   "execution_count": 41,
   "metadata": {},
   "outputs": [
    {
     "name": "stdout",
     "output_type": "stream",
     "text": [
      "matmul_0 = \n",
      " [[10 28 46 64]\n",
      " [13 40 67 94]]\n",
      "\n",
      "matmul_1 = \n",
      " [[316 388 460 532]\n",
      " [355 436 517 598]]\n",
      "\n",
      "matmul_2 = \n",
      " [[1054 1180 1306 1432]\n",
      " [1129 1264 1399 1534]]\n"
     ]
    }
   ],
   "source": [
    "print('matmul_0 = \\n', np.matmul(np.array(a_init[:, :, 0]),\n",
    "                                 np.array(b_init[:, :, 0])), end = '\\n\\n')\n",
    "print('matmul_1 = \\n', np.matmul(np.array(a_init[:, :, 1]),\n",
    "                                 np.array(b_init[:, :, 1])), end = '\\n\\n')\n",
    "print('matmul_2 = \\n', np.matmul(np.array(a_init[:, :, 2]),\n",
    "                                 np.array(b_init[:, :, 2])))"
   ]
  },
  {
   "cell_type": "code",
   "execution_count": null,
   "metadata": {},
   "outputs": [],
   "source": []
  },
  {
   "cell_type": "code",
   "execution_count": null,
   "metadata": {},
   "outputs": [],
   "source": []
  },
  {
   "cell_type": "code",
   "execution_count": null,
   "metadata": {},
   "outputs": [],
   "source": []
  }
 ],
 "metadata": {
  "kernelspec": {
   "display_name": "Python 3",
   "language": "python",
   "name": "python3"
  },
  "language_info": {
   "codemirror_mode": {
    "name": "ipython",
    "version": 3
   },
   "file_extension": ".py",
   "mimetype": "text/x-python",
   "name": "python",
   "nbconvert_exporter": "python",
   "pygments_lexer": "ipython3",
   "version": "3.5.2"
  }
 },
 "nbformat": 4,
 "nbformat_minor": 2
}
