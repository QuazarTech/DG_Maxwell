{
 "cells": [
  {
   "cell_type": "markdown",
   "metadata": {},
   "source": [
    "## 1D Wave equation Solver example\n",
    "This is an example usage of the `dg_maxwell` library to\n",
    "find the time_evolution of the wave equation.\n",
    "\n",
    "### Parameters\n",
    "The 1D wave equation needs the following parameters to find\n",
    "the time evolution of the wave equation. You may find the\n",
    "parameters in the **dg_maxwell/params.py** file.\n",
    "Below is the list of the parameters you need to set before\n",
    "you run the program.\n",
    "\n",
    "\n",
    "| Variable               | Description                                                           |\n",
    "|:-----------------------|:----------------------------------------------------------------------|\n",
    "| x_nodes                | The domain of the wave function.                                      |\n",
    "| N_LGL                  | The number of LGL points into which an element is split.              |\n",
    "| N_Elements             | Number of elements the domain is to be divided into.                  |\n",
    "| scheme                 |The scheme to be used for integration. Values are either               |\n",
    "|                        |'gauss_quadrature' or 'lobatto_quadrature'                             |\n",
    "| volume_integral_scheme | The scheme to integrate the volume integral flux                      |\n",
    "| N_quad                 | The number quadrature points to be used for integration.              |\n",
    "| c                      | Wave speed.                                                           |\n",
    "| total_time             | The total time for which the wave is to be evolved by the simulation. |\n",
    "| c_lax                  | The c_lax to be used in the Lax-Friedrichs flux.                      |\n",
    "\n",
    "You will also have to change the **arrayfire** backend you want to use in all the files where the\n",
    "function **arrayfire.set_backend(< backend \\>)** is being used. You may choose from the following\n",
    "three backends:\n",
    "1. ``cuda``\n",
    "2. ``opencl``\n",
    "3. ``cpu``\n",
    "\n",
    "**Caution:** If you change the backend, make sure to change the backend\n",
    "in every file. Failing to do so may result in unexpected errors.\n",
    "\n",
    "## Results\n",
    "The time evolution of the wave will be stored in the **results/1D_Wave_images**\n",
    "directory.\n",
    "\n",
    "To create a video from the images on Ubuntu16.04, enter the following in the terminal\n",
    "```\n",
    "sudo apt-get install ffmpeg\n",
    "cd results/1D_Wave_images\n",
    "ffmpeg -f image2 -i %04d.png -vcodec mpeg4 -mbd rd -trellis 2 -cmp 2 -g 300 -pass 1 -r 25 -b 18000000 movie.mp4\n",
    "```\n",
    "\n",
    "This will store your video in **results/1D_Wave_images/movie.mp4**."
   ]
  },
  {
   "cell_type": "code",
   "execution_count": 1,
   "metadata": {
    "collapsed": true
   },
   "outputs": [],
   "source": [
    "import os\n",
    "import sys\n",
    "sys.path.insert(0, os.path.abspath('../'))\n",
    "\n",
    "from dg_maxwell import wave_equation"
   ]
  },
  {
   "cell_type": "code",
   "execution_count": 2,
   "metadata": {},
   "outputs": [
    {
     "name": "stderr",
     "output_type": "stream",
     "text": [
      "100%|██████████| 15592/15592 [01:04<00:00, 243.23it/s]\n",
      "  0%|          | 0/15592 [00:00<?, ?it/s]"
     ]
    },
    {
     "name": "stdout",
     "output_type": "stream",
     "text": [
      "u calculated!\n"
     ]
    },
    {
     "name": "stderr",
     "output_type": "stream",
     "text": [
      "100%|██████████| 15592/15592 [00:35<00:00, 437.35it/s]\n"
     ]
    }
   ],
   "source": [
    "wave_equation.time_evolution()"
   ]
  },
  {
   "cell_type": "code",
   "execution_count": null,
   "metadata": {
    "collapsed": true
   },
   "outputs": [],
   "source": []
  }
 ],
 "metadata": {
  "kernelspec": {
   "display_name": "Python 3",
   "language": "python",
   "name": "python3"
  },
  "language_info": {
   "codemirror_mode": {
    "name": "ipython",
    "version": 3
   },
   "file_extension": ".py",
   "mimetype": "text/x-python",
   "name": "python",
   "nbconvert_exporter": "python",
   "pygments_lexer": "ipython3",
   "version": "3.5.2"
  }
 },
 "nbformat": 4,
 "nbformat_minor": 2
}
