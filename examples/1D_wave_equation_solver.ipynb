{
 "cells": [
  {
   "cell_type": "markdown",
   "metadata": {},
   "source": [
    "## 1D Wave equation Solver example\n",
    "This is an example usage of the `dg_maxwell` library to\n",
    "find the time_evolution of the wave equation.\n",
    "\n",
    "### Parameters\n",
    "The 1D wave equation needs the following parameters to find\n",
    "the time evolution of the wave equation. You may find the\n",
    "parameters in the **dg_maxwell/params.py** file.\n",
    "Below is the list of the parameters you need to set before\n",
    "you run the program.\n",
    "\n",
    "\n",
    "| Variable               | Description                                                           |\n",
    "|:-----------------------|:----------------------------------------------------------------------|\n",
    "| x_nodes                | The domain of the wave function.                                      |\n",
    "| N_LGL                  | The number of LGL points into which an element is split.              |\n",
    "| N_Elements             | Number of elements the domain is to be divided into.                  |\n",
    "| scheme                 |The scheme to be used for integration. Values are either               |\n",
    "|                        |'gauss_quadrature' or 'lobatto_quadrature'                             |\n",
    "| volume_integral_scheme | The scheme to integrate the volume integral flux                      |\n",
    "| N_quad                 | The number quadrature points to be used for integration.              |\n",
    "| c                      | Wave speed.                                                           |\n",
    "| total_time             | The total time for which the wave is to be evolved by the simulation. |\n",
    "| c_lax                  | The c_lax to be used in the Lax-Friedrichs flux.                      |\n",
    "\n",
    "You will also have to change the **arrayfire** backend you want to use in all the files where the\n",
    "function **arrayfire.set_backend(< backend \\>)** is being used. You may choose from the following\n",
    "three backends:\n",
    "1. cuda\n",
    "2. opencl\n",
    "3. cpu\n",
    "\n",
    "**Caution:** If you change the backend, make sure to change the backend\n",
    "in every file. Failing to do so may result in unexpected errors.\n",
    "\n",
    "## Results\n",
    "The time evolution of the wave will be stored in the **results/1D_Wave_images**\n",
    "directory.\n",
    "\n",
    "To create a video from the images on Ubuntu16.04, follow these steps\n",
    "```\n",
    "sudo apt-get install ffmpeg\n",
    "cd results/1D_Wave_images\n",
    "ffmpeg -f image2 -i %04d.png -vcodec mpeg4 -mbd rd -trellis 2 -cmp 2 -g 300 -pass 1 -r 25 -b 18000000 movie.mp4\n",
    "```\n",
    "\n",
    "This will store your video in **results/1D_Wave_images/movie.mp4**."
   ]
  },
  {
   "cell_type": "code",
   "execution_count": 1,
   "metadata": {
    "collapsed": true
   },
   "outputs": [
    {
     "name": "stderr",
     "output_type": "stream",
     "text": [
      "/home/ubermensch/.local/anaconda3/lib/python3.6/site-packages/numpy/lib/polynomial.py:1193: FutureWarning: In the future extra properties will not be copied across when constructing one poly1d from another\n",
      "  other = poly1d(other)\n",
      "/home/ubermensch/.local/anaconda3/lib/python3.6/site-packages/numpy/lib/polynomial.py:1220: FutureWarning: In the future extra properties will not be copied across when constructing one poly1d from another\n",
      "  other = poly1d(other)\n"
     ]
    }
   ],
   "source": [
    "import os\n",
    "import sys\n",
    "sys.path.insert(0, os.path.abspath('../'))\n",
    "\n",
    "from dg_maxwell import wave_equation"
   ]
  },
  {
   "cell_type": "code",
   "execution_count": 2,
   "metadata": {},
   "outputs": [
    {
     "name": "stderr",
     "output_type": "stream",
     "text": [
      "\r",
      "  0%|          | 0/313 [00:00<?, ?it/s]\r",
      "  0%|          | 1/313 [00:02<11:16,  2.17s/it]\r",
      "  1%|          | 2/313 [00:02<06:37,  1.28s/it]\r",
      "  2%|▏         | 5/313 [00:02<02:45,  1.86it/s]\r",
      "  3%|▎         | 8/313 [00:02<01:47,  2.85it/s]\r",
      "  4%|▎         | 11/313 [00:02<01:20,  3.75it/s]\r",
      "  4%|▍         | 14/313 [00:03<01:05,  4.59it/s]\r",
      "  5%|▌         | 17/313 [00:03<00:55,  5.37it/s]\r",
      "  6%|▋         | 20/313 [00:03<00:48,  6.09it/s]\r",
      "  7%|▋         | 23/313 [00:03<00:44,  6.59it/s]\r",
      "  8%|▊         | 26/313 [00:03<00:39,  7.20it/s]\r",
      "  9%|▉         | 29/313 [00:03<00:36,  7.79it/s]\r",
      " 10%|█         | 32/313 [00:03<00:33,  8.33it/s]\r",
      " 11%|█         | 35/313 [00:03<00:31,  8.85it/s]\r",
      " 12%|█▏        | 38/313 [00:04<00:29,  9.34it/s]\r",
      " 13%|█▎        | 41/313 [00:04<00:27,  9.79it/s]\r",
      " 14%|█▍        | 44/313 [00:04<00:26, 10.16it/s]\r",
      " 15%|█▌        | 47/313 [00:04<00:25, 10.57it/s]\r",
      " 16%|█▌        | 50/313 [00:04<00:23, 10.96it/s]\r",
      " 17%|█▋        | 53/313 [00:04<00:22, 11.33it/s]\r",
      " 18%|█▊        | 56/313 [00:04<00:22, 11.68it/s]\r",
      " 19%|█▉        | 59/313 [00:04<00:21, 11.96it/s]\r",
      " 20%|█▉        | 62/313 [00:05<00:20, 12.27it/s]\r",
      " 21%|██        | 65/313 [00:05<00:19, 12.57it/s]\r",
      " 22%|██▏       | 68/313 [00:05<00:19, 12.80it/s]\r",
      " 23%|██▎       | 71/313 [00:05<00:18, 13.07it/s]\r",
      " 24%|██▎       | 74/313 [00:05<00:17, 13.34it/s]\r",
      " 25%|██▍       | 77/313 [00:05<00:17, 13.61it/s]Exception ignored in: <object repr() failed>\n",
      "Traceback (most recent call last):\n",
      "  File \"/home/ubermensch/.local/anaconda3/lib/python3.6/site-packages/arrayfire/array.py\", line 550, in __del__\n",
      "    backend.get().af_release_array(self.arr)\n",
      "KeyboardInterrupt\n",
      "\r",
      " 26%|██▌       | 80/313 [00:05<00:16, 13.83it/s]\r",
      " 27%|██▋       | 83/313 [00:05<00:16, 13.90it/s]\r",
      " 27%|██▋       | 86/313 [00:06<00:16, 14.10it/s]\r",
      " 28%|██▊       | 89/313 [00:06<00:15, 14.29it/s]\r",
      " 29%|██▉       | 92/313 [00:06<00:15, 14.42it/s]\r",
      " 30%|███       | 95/313 [00:06<00:14, 14.61it/s]\r",
      " 31%|███▏      | 98/313 [00:06<00:14, 14.78it/s]\r",
      " 32%|███▏      | 101/313 [00:06<00:14, 14.98it/s]\r",
      " 33%|███▎      | 104/313 [00:06<00:13, 15.15it/s]\r",
      " 34%|███▍      | 107/313 [00:06<00:13, 15.33it/s]\r",
      " 35%|███▌      | 110/313 [00:07<00:13, 15.50it/s]\r",
      " 36%|███▌      | 113/313 [00:07<00:12, 15.67it/s]\r",
      " 37%|███▋      | 116/313 [00:07<00:12, 15.80it/s]\r",
      " 38%|███▊      | 119/313 [00:07<00:12, 15.96it/s]\r",
      " 39%|███▉      | 122/313 [00:07<00:11, 16.07it/s]\r",
      " 40%|███▉      | 125/313 [00:07<00:11, 16.20it/s]\r",
      " 41%|████      | 128/313 [00:07<00:11, 16.35it/s]\r",
      " 42%|████▏     | 131/313 [00:07<00:11, 16.48it/s]\r",
      " 43%|████▎     | 134/313 [00:08<00:10, 16.48it/s]\r",
      " 44%|████▍     | 137/313 [00:08<00:10, 16.56it/s]\r",
      " 45%|████▍     | 140/313 [00:08<00:10, 16.59it/s]\r",
      " 46%|████▌     | 143/313 [00:08<00:10, 16.71it/s]\r",
      " 47%|████▋     | 146/313 [00:08<00:09, 16.82it/s]\r",
      " 48%|████▊     | 149/313 [00:08<00:09, 16.93it/s]\r",
      " 49%|████▊     | 152/313 [00:08<00:09, 16.98it/s]\r",
      " 50%|████▉     | 155/313 [00:09<00:09, 17.04it/s]\r",
      " 50%|█████     | 158/313 [00:09<00:09, 17.12it/s]\r",
      " 51%|█████▏    | 161/313 [00:09<00:08, 17.19it/s]\r",
      " 52%|█████▏    | 164/313 [00:09<00:08, 17.30it/s]\r",
      " 53%|█████▎    | 167/313 [00:09<00:08, 17.40it/s]\r",
      " 54%|█████▍    | 170/313 [00:09<00:08, 17.51it/s]\r",
      " 55%|█████▌    | 173/313 [00:09<00:07, 17.60it/s]\r",
      " 56%|█████▌    | 176/313 [00:09<00:07, 17.69it/s]\r",
      " 57%|█████▋    | 179/313 [00:10<00:07, 17.76it/s]\r",
      " 58%|█████▊    | 182/313 [00:10<00:07, 17.82it/s]\r",
      " 59%|█████▉    | 185/313 [00:10<00:07, 17.92it/s]\r",
      " 60%|██████    | 188/313 [00:10<00:06, 17.99it/s]\r",
      " 61%|██████    | 191/313 [00:10<00:06, 18.01it/s]\r",
      " 62%|██████▏   | 194/313 [00:10<00:06, 18.04it/s]\r",
      " 63%|██████▎   | 197/313 [00:10<00:06, 18.11it/s]\r",
      " 64%|██████▍   | 200/313 [00:10<00:06, 18.20it/s]\r",
      " 65%|██████▍   | 203/313 [00:11<00:06, 18.27it/s]\r",
      " 66%|██████▌   | 206/313 [00:11<00:05, 18.34it/s]\r",
      " 67%|██████▋   | 209/313 [00:11<00:05, 18.39it/s]\r",
      " 68%|██████▊   | 212/313 [00:11<00:05, 18.47it/s]\r",
      " 69%|██████▊   | 215/313 [00:11<00:05, 18.53it/s]\r",
      " 70%|██████▉   | 218/313 [00:11<00:05, 18.60it/s]\r",
      " 71%|███████   | 221/313 [00:11<00:04, 18.60it/s]\r",
      " 72%|███████▏  | 224/313 [00:11<00:04, 18.67it/s]\r",
      " 73%|███████▎  | 227/313 [00:12<00:04, 18.74it/s]\r",
      " 73%|███████▎  | 230/313 [00:12<00:04, 18.81it/s]"
     ]
    },
    {
     "ename": "KeyboardInterrupt",
     "evalue": "",
     "output_type": "error",
     "traceback": [
      "\u001b[0;31m---------------------------------------------------------------------------\u001b[0m",
      "\u001b[0;31mKeyboardInterrupt\u001b[0m                         Traceback (most recent call last)",
      "\u001b[0;32m<ipython-input-2-eec26fc11f12>\u001b[0m in \u001b[0;36m<module>\u001b[0;34m()\u001b[0m\n\u001b[0;32m----> 1\u001b[0;31m \u001b[0mwave_equation\u001b[0m\u001b[0;34m.\u001b[0m\u001b[0mtime_evolution\u001b[0m\u001b[0;34m(\u001b[0m\u001b[0;34m)\u001b[0m\u001b[0;34m\u001b[0m\u001b[0m\n\u001b[0m",
      "\u001b[0;32m~/workspace/quazar/git/amanabt/DG_Maxwell/dg_maxwell/wave_equation.py\u001b[0m in \u001b[0;36mtime_evolution\u001b[0;34m()\u001b[0m\n\u001b[1;32m    762\u001b[0m \u001b[0;34m\u001b[0m\u001b[0m\n\u001b[1;32m    763\u001b[0m         \u001b[0;31m# Implementing RK 4 scheme\u001b[0m\u001b[0;34m\u001b[0m\u001b[0;34m\u001b[0m\u001b[0m\n\u001b[0;32m--> 764\u001b[0;31m         \u001b[0mu\u001b[0m \u001b[0;34m+=\u001b[0m \u001b[0mRK4_timestepping\u001b[0m\u001b[0;34m(\u001b[0m\u001b[0mA_inverse\u001b[0m\u001b[0;34m,\u001b[0m \u001b[0mu\u001b[0m\u001b[0;34m,\u001b[0m \u001b[0mdelta_t\u001b[0m\u001b[0;34m)\u001b[0m\u001b[0;34m\u001b[0m\u001b[0m\n\u001b[0m\u001b[1;32m    765\u001b[0m \u001b[0;34m\u001b[0m\u001b[0m\n\u001b[1;32m    766\u001b[0m         \u001b[0;31m# Implementing RK 6 scheme\u001b[0m\u001b[0;34m\u001b[0m\u001b[0;34m\u001b[0m\u001b[0m\n",
      "\u001b[0;32m~/workspace/quazar/git/amanabt/DG_Maxwell/dg_maxwell/wave_equation.py\u001b[0m in \u001b[0;36mRK4_timestepping\u001b[0;34m(A_inverse, u, delta_t)\u001b[0m\n\u001b[1;32m    639\u001b[0m     \u001b[0mk1\u001b[0m \u001b[0;34m=\u001b[0m \u001b[0maf\u001b[0m\u001b[0;34m.\u001b[0m\u001b[0mmatmul\u001b[0m\u001b[0;34m(\u001b[0m\u001b[0mA_inverse\u001b[0m\u001b[0;34m,\u001b[0m \u001b[0mb_vector\u001b[0m\u001b[0;34m(\u001b[0m\u001b[0mu\u001b[0m\u001b[0;34m)\u001b[0m\u001b[0;34m)\u001b[0m\u001b[0;34m\u001b[0m\u001b[0m\n\u001b[1;32m    640\u001b[0m     \u001b[0mk2\u001b[0m \u001b[0;34m=\u001b[0m \u001b[0maf\u001b[0m\u001b[0;34m.\u001b[0m\u001b[0mmatmul\u001b[0m\u001b[0;34m(\u001b[0m\u001b[0mA_inverse\u001b[0m\u001b[0;34m,\u001b[0m \u001b[0mb_vector\u001b[0m\u001b[0;34m(\u001b[0m\u001b[0mu\u001b[0m \u001b[0;34m+\u001b[0m \u001b[0mk1\u001b[0m \u001b[0;34m*\u001b[0m \u001b[0mdelta_t\u001b[0m \u001b[0;34m/\u001b[0m \u001b[0;36m2\u001b[0m\u001b[0;34m)\u001b[0m\u001b[0;34m)\u001b[0m\u001b[0;34m\u001b[0m\u001b[0m\n\u001b[0;32m--> 641\u001b[0;31m     \u001b[0mk3\u001b[0m \u001b[0;34m=\u001b[0m \u001b[0maf\u001b[0m\u001b[0;34m.\u001b[0m\u001b[0mmatmul\u001b[0m\u001b[0;34m(\u001b[0m\u001b[0mA_inverse\u001b[0m\u001b[0;34m,\u001b[0m \u001b[0mb_vector\u001b[0m\u001b[0;34m(\u001b[0m\u001b[0mu\u001b[0m \u001b[0;34m+\u001b[0m \u001b[0mk2\u001b[0m \u001b[0;34m*\u001b[0m \u001b[0mdelta_t\u001b[0m \u001b[0;34m/\u001b[0m \u001b[0;36m2\u001b[0m\u001b[0;34m)\u001b[0m\u001b[0;34m)\u001b[0m\u001b[0;34m\u001b[0m\u001b[0m\n\u001b[0m\u001b[1;32m    642\u001b[0m     \u001b[0mk4\u001b[0m \u001b[0;34m=\u001b[0m \u001b[0maf\u001b[0m\u001b[0;34m.\u001b[0m\u001b[0mmatmul\u001b[0m\u001b[0;34m(\u001b[0m\u001b[0mA_inverse\u001b[0m\u001b[0;34m,\u001b[0m \u001b[0mb_vector\u001b[0m\u001b[0;34m(\u001b[0m\u001b[0mu\u001b[0m \u001b[0;34m+\u001b[0m \u001b[0mk3\u001b[0m \u001b[0;34m*\u001b[0m \u001b[0mdelta_t\u001b[0m\u001b[0;34m)\u001b[0m\u001b[0;34m)\u001b[0m\u001b[0;34m\u001b[0m\u001b[0m\n\u001b[1;32m    643\u001b[0m \u001b[0;34m\u001b[0m\u001b[0m\n",
      "\u001b[0;32m~/.local/anaconda3/lib/python3.6/site-packages/arrayfire/array.py\u001b[0m in \u001b[0;36m__mul__\u001b[0;34m(self, other)\u001b[0m\n\u001b[1;32m    869\u001b[0m         \u001b[0mReturn\u001b[0m \u001b[0mself\u001b[0m \u001b[0;34m*\u001b[0m \u001b[0mother\u001b[0m\u001b[0;34m.\u001b[0m\u001b[0;34m\u001b[0m\u001b[0m\n\u001b[1;32m    870\u001b[0m         \"\"\"\n\u001b[0;32m--> 871\u001b[0;31m         \u001b[0;32mreturn\u001b[0m \u001b[0m_binary_func\u001b[0m\u001b[0;34m(\u001b[0m\u001b[0mself\u001b[0m\u001b[0;34m,\u001b[0m \u001b[0mother\u001b[0m\u001b[0;34m,\u001b[0m \u001b[0mbackend\u001b[0m\u001b[0;34m.\u001b[0m\u001b[0mget\u001b[0m\u001b[0;34m(\u001b[0m\u001b[0;34m)\u001b[0m\u001b[0;34m.\u001b[0m\u001b[0maf_mul\u001b[0m\u001b[0;34m)\u001b[0m\u001b[0;34m\u001b[0m\u001b[0m\n\u001b[0m\u001b[1;32m    872\u001b[0m \u001b[0;34m\u001b[0m\u001b[0m\n\u001b[1;32m    873\u001b[0m     \u001b[0;32mdef\u001b[0m \u001b[0m__imul__\u001b[0m\u001b[0;34m(\u001b[0m\u001b[0mself\u001b[0m\u001b[0;34m,\u001b[0m \u001b[0mother\u001b[0m\u001b[0;34m)\u001b[0m\u001b[0;34m:\u001b[0m\u001b[0;34m\u001b[0m\u001b[0m\n",
      "\u001b[0;32m~/.local/anaconda3/lib/python3.6/site-packages/arrayfire/array.py\u001b[0m in \u001b[0;36m_binary_func\u001b[0;34m(lhs, rhs, c_func)\u001b[0m\n\u001b[1;32m    165\u001b[0m     \u001b[0mother\u001b[0m \u001b[0;34m=\u001b[0m \u001b[0mrhs\u001b[0m\u001b[0;34m\u001b[0m\u001b[0m\n\u001b[1;32m    166\u001b[0m \u001b[0;34m\u001b[0m\u001b[0m\n\u001b[0;32m--> 167\u001b[0;31m     \u001b[0;32mif\u001b[0m \u001b[0;34m(\u001b[0m\u001b[0m_is_number\u001b[0m\u001b[0;34m(\u001b[0m\u001b[0mrhs\u001b[0m\u001b[0;34m)\u001b[0m\u001b[0;34m)\u001b[0m\u001b[0;34m:\u001b[0m\u001b[0;34m\u001b[0m\u001b[0m\n\u001b[0m\u001b[1;32m    168\u001b[0m         \u001b[0mldims\u001b[0m \u001b[0;34m=\u001b[0m \u001b[0mdim4_to_tuple\u001b[0m\u001b[0;34m(\u001b[0m\u001b[0mlhs\u001b[0m\u001b[0;34m.\u001b[0m\u001b[0mdims\u001b[0m\u001b[0;34m(\u001b[0m\u001b[0;34m)\u001b[0m\u001b[0;34m)\u001b[0m\u001b[0;34m\u001b[0m\u001b[0m\n\u001b[1;32m    169\u001b[0m         \u001b[0mrty\u001b[0m \u001b[0;34m=\u001b[0m \u001b[0mimplicit_dtype\u001b[0m\u001b[0;34m(\u001b[0m\u001b[0mrhs\u001b[0m\u001b[0;34m,\u001b[0m \u001b[0mlhs\u001b[0m\u001b[0;34m.\u001b[0m\u001b[0mtype\u001b[0m\u001b[0;34m(\u001b[0m\u001b[0;34m)\u001b[0m\u001b[0;34m)\u001b[0m\u001b[0;34m\u001b[0m\u001b[0m\n",
      "\u001b[0;32m~/.local/anaconda3/lib/python3.6/site-packages/arrayfire/util.py\u001b[0m in \u001b[0;36m_is_number\u001b[0;34m(a)\u001b[0m\n\u001b[1;32m     25\u001b[0m \u001b[0;34m\u001b[0m\u001b[0m\n\u001b[1;32m     26\u001b[0m \u001b[0;32mdef\u001b[0m \u001b[0m_is_number\u001b[0m\u001b[0;34m(\u001b[0m\u001b[0ma\u001b[0m\u001b[0;34m)\u001b[0m\u001b[0;34m:\u001b[0m\u001b[0;34m\u001b[0m\u001b[0m\n\u001b[0;32m---> 27\u001b[0;31m     \u001b[0;32mreturn\u001b[0m \u001b[0misinstance\u001b[0m\u001b[0;34m(\u001b[0m\u001b[0ma\u001b[0m\u001b[0;34m,\u001b[0m \u001b[0mnumbers\u001b[0m\u001b[0;34m.\u001b[0m\u001b[0mNumber\u001b[0m\u001b[0;34m)\u001b[0m\u001b[0;34m\u001b[0m\u001b[0m\n\u001b[0m\u001b[1;32m     28\u001b[0m \u001b[0;34m\u001b[0m\u001b[0m\n\u001b[1;32m     29\u001b[0m \u001b[0;32mdef\u001b[0m \u001b[0mnumber_dtype\u001b[0m\u001b[0;34m(\u001b[0m\u001b[0ma\u001b[0m\u001b[0;34m)\u001b[0m\u001b[0;34m:\u001b[0m\u001b[0;34m\u001b[0m\u001b[0m\n",
      "\u001b[0;31mKeyboardInterrupt\u001b[0m: "
     ]
    },
    {
     "name": "stderr",
     "output_type": "stream",
     "text": [
      "\r",
      " 73%|███████▎  | 230/313 [00:30<00:10,  7.66it/s]"
     ]
    }
   ],
   "source": [
    "wave_equation.time_evolution()"
   ]
  },
  {
   "cell_type": "code",
   "execution_count": null,
   "metadata": {
    "collapsed": true
   },
   "outputs": [],
   "source": []
  }
 ],
 "metadata": {
  "kernelspec": {
   "display_name": "Python 3",
   "language": "python",
   "name": "python3"
  },
  "language_info": {
   "codemirror_mode": {
    "name": "ipython",
    "version": 3
   },
   "file_extension": ".py",
   "mimetype": "text/x-python",
   "name": "python",
   "nbconvert_exporter": "python",
   "pygments_lexer": "ipython3",
   "version": "3.6.3"
  }
 },
 "nbformat": 4,
 "nbformat_minor": 2
}
