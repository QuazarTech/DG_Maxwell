{
 "cells": [
  {
   "cell_type": "markdown",
   "metadata": {},
   "source": [
    "## Product of two polynomial using convolve\n",
    "\n",
    "This example illustrates the use of `af.convolve1` to find\n",
    "the product of two polynomials.\n",
    "\n",
    "It is assumed that the initial polynomials are of the form\n",
    "\n",
    "$$\n",
    "P = \n",
    "\\begin{bmatrix}\n",
    "a^0_0 & a^0_1 & ... &a^0_{N - 1} \\\\ \n",
    "a^1_0 & a^1_1 & ... &a^1_{N - 1} \\\\\n",
    "...   & ...   & ... & ... \\\\\n",
    "a^M_0 & a^M_1 & ... &a^M_{N - 1}\n",
    "\\end{bmatrix}\n",
    "$$\n",
    "\n",
    "where,\n",
    "$a^m_n$ is the $n^{th}$ coefficient of the $m^{th}$ polynomial.\n",
    "\n",
    "The degree of the two polynomial sets could be different, but the\n",
    "pairs of polynomials to be multiplied should be the same."
   ]
  },
  {
   "cell_type": "code",
   "execution_count": 1,
   "metadata": {},
   "outputs": [],
   "source": [
    "import os\n",
    "import sys\n",
    "sys.path.insert(0, os.path.abspath('../'))\n",
    "\n",
    "import numpy as np\n",
    "from matplotlib import pyplot as plt\n",
    "import arrayfire as af\n",
    "\n",
    "from dg_maxwell import utils\n",
    "from dg_maxwell import lagrange\n",
    "from dg_maxwell import params\n",
    "\n",
    "af.set_backend(params.backend)"
   ]
  },
  {
   "cell_type": "code",
   "execution_count": 2,
   "metadata": {},
   "outputs": [
    {
     "name": "stdout",
     "output_type": "stream",
     "text": [
      "arrayfire.Array()\n",
      "Type: unsigned int\n",
      "\n",
      "[3 3 1 1]\n",
      "         0          3          6 \n",
      "         1          4          7 \n",
      "         2          5          8 \n",
      "\n",
      "\n",
      "arrayfire.Array()\n",
      "Type: unsigned int\n",
      "\n",
      "[3 2 1 1]\n",
      "         0          3 \n",
      "         1          4 \n",
      "         2          5 \n",
      "\n",
      "\n"
     ]
    }
   ],
   "source": [
    "N   = 3\n",
    "\n",
    "N_a = 3\n",
    "foo = af.range(N * N_a, dtype = af.Dtype.u32)\n",
    "foo = af.moddims(foo, d0 = N, d1 = N_a)\n",
    "\n",
    "N_b = 2\n",
    "bar = af.range(N * N_b, dtype = af.Dtype.u32)\n",
    "bar = af.moddims(bar, d0 = N, d1 = N_b)\n",
    "\n",
    "print(foo)\n",
    "print(bar)"
   ]
  },
  {
   "cell_type": "code",
   "execution_count": 3,
   "metadata": {},
   "outputs": [
    {
     "name": "stdout",
     "output_type": "stream",
     "text": [
      "original polynomials\n",
      "arrayfire.Array()\n",
      "Type: unsigned int\n",
      "\n",
      "[3 3 1 1]\n",
      "         0          3          6 \n",
      "         1          4          7 \n",
      "         2          5          8 \n",
      "\n",
      "\n",
      "arrayfire.Array()\n",
      "Type: unsigned int\n",
      "\n",
      "[3 2 1 1]\n",
      "         0          3 \n",
      "         1          4 \n",
      "         2          5 \n",
      "\n",
      "\n",
      "Poly1d square using convolve1\n",
      "arrayfire.Array()\n",
      "Type: unsigned int\n",
      "\n",
      "[3 4 1 1]\n",
      "         0          0          9         18 \n",
      "         1          8         23         28 \n",
      "         4         20         41         40 \n",
      "\n",
      "\n"
     ]
    }
   ],
   "source": [
    "print('original polynomials')\n",
    "print(foo)\n",
    "print(bar)\n",
    "\n",
    "print('Poly1d square using convolve1')\n",
    "# print(af.transpose(af.convolve1(af.transpose(foo), af.transpose(bar), conv_mode = af.CONV_MODE.EXPAND)))\n",
    "print(utils.poly1d_product(foo, bar))\n"
   ]
  },
  {
   "cell_type": "code",
   "execution_count": 4,
   "metadata": {},
   "outputs": [
    {
     "name": "stdout",
     "output_type": "stream",
     "text": [
      " \n",
      "3 x + 6\t<---------- original foo polynomial\n",
      "\n",
      " \n",
      "3\t<---------- original bar polynomial\n",
      "\n",
      " \n",
      "9 x + 18\t<---------- foo_poly * bar_poly\n",
      "\n",
      "\n",
      "*********************************************************\n",
      "\n",
      "   2\n",
      "1 x + 4 x + 7\t<---------- original foo polynomial\n",
      "\n",
      " \n",
      "1 x + 4\t<---------- original bar polynomial\n",
      "\n",
      "   3     2\n",
      "1 x + 8 x + 23 x + 28\t<---------- foo_poly * bar_poly\n",
      "\n",
      "\n",
      "*********************************************************\n",
      "\n",
      "   2\n",
      "2 x + 5 x + 8\t<---------- original foo polynomial\n",
      "\n",
      " \n",
      "2 x + 5\t<---------- original bar polynomial\n",
      "\n",
      "   3      2\n",
      "4 x + 20 x + 41 x + 40\t<---------- foo_poly * bar_poly\n",
      "\n",
      "\n",
      "*********************************************************\n",
      "\n"
     ]
    }
   ],
   "source": [
    "for poly_foo, poly_bar in zip(foo, bar):\n",
    "    foo_poly = np.poly1d(np.array(af.transpose(poly_foo)))\n",
    "    bar_poly = np.poly1d(np.array(af.transpose(poly_bar)))\n",
    "    print(foo_poly, end = '')\n",
    "    print('\\t<---------- original foo polynomial\\n')\n",
    "    print(bar_poly, end = '')\n",
    "    print('\\t<---------- original bar polynomial\\n')\n",
    "\n",
    "    print(foo_poly * bar_poly, end = '')\n",
    "    print('\\t<---------- foo_poly * bar_poly\\n')\n",
    "    print('\\n*********************************************************\\n')"
   ]
  },
  {
   "cell_type": "code",
   "execution_count": null,
   "metadata": {},
   "outputs": [],
   "source": []
  }
 ],
 "metadata": {
  "kernelspec": {
   "display_name": "Python 3",
   "language": "python",
   "name": "python3"
  },
  "language_info": {
   "codemirror_mode": {
    "name": "ipython",
    "version": 3
   },
   "file_extension": ".py",
   "mimetype": "text/x-python",
   "name": "python",
   "nbconvert_exporter": "python",
   "pygments_lexer": "ipython3",
   "version": "3.6.3"
  }
 },
 "nbformat": 4,
 "nbformat_minor": 2
}
