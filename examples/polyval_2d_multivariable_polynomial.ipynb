{
 "cells": [
  {
   "cell_type": "code",
   "execution_count": 1,
   "metadata": {},
   "outputs": [
    {
     "name": "stderr",
     "output_type": "stream",
     "text": [
      "/home/ubermensch/.local/anaconda3/lib/python3.6/site-packages/numpy/lib/polynomial.py:1193: FutureWarning: In the future extra properties will not be copied across when constructing one poly1d from another\n",
      "  other = poly1d(other)\n",
      "/home/ubermensch/.local/anaconda3/lib/python3.6/site-packages/numpy/lib/polynomial.py:1220: FutureWarning: In the future extra properties will not be copied across when constructing one poly1d from another\n",
      "  other = poly1d(other)\n"
     ]
    }
   ],
   "source": [
    "import os\n",
    "import sys\n",
    "sys.path.insert(0, os.path.abspath('../'))\n",
    "\n",
    "import arrayfire as af\n",
    "import numpy as np\n",
    "\n",
    "from dg_maxwell import params\n",
    "from dg_maxwell import utils\n",
    "\n",
    "af.set_backend(params.backend)"
   ]
  },
  {
   "cell_type": "code",
   "execution_count": 2,
   "metadata": {},
   "outputs": [],
   "source": [
    "def polynomial_product_coeffs(poly1_coeffs, poly2_coeffs):\n",
    "    '''\n",
    "    '''\n",
    "    poly1_coeffs_tile = af.transpose(af.tile(poly1_coeffs, 1, poly1_coeffs.shape[0]))\n",
    "    poly2_coeffs_tile = af.tile(poly2_coeffs, 1, poly2_coeffs.shape[0])\n",
    "\n",
    "    product_coeffs = poly1_coeffs_tile * poly2_coeffs_tile\n",
    "\n",
    "    return product_coeffs"
   ]
  },
  {
   "cell_type": "code",
   "execution_count": 3,
   "metadata": {},
   "outputs": [],
   "source": [
    "foo_degree = 4\n",
    "foo = af.flip(af.np_to_af_array(np.arange(1, foo_degree)))\n",
    "\n",
    "bar_degree = 4\n",
    "bar = af.flip(af.np_to_af_array(np.arange(1, bar_degree)))"
   ]
  },
  {
   "cell_type": "code",
   "execution_count": 4,
   "metadata": {},
   "outputs": [],
   "source": [
    "x = utils.linspace(-1, 1, 8)\n",
    "y = utils.linspace(-1, 1, 8)"
   ]
  },
  {
   "cell_type": "code",
   "execution_count": 5,
   "metadata": {},
   "outputs": [
    {
     "name": "stdout",
     "output_type": "stream",
     "text": [
      "arrayfire.Array()\n",
      "Type: long int\n",
      "\n",
      "[3 3 8 1]\n",
      "         9          6          3 \n",
      "         6          4          2 \n",
      "         3          2          1 \n",
      "\n",
      "         9          6          3 \n",
      "         6          4          2 \n",
      "         3          2          1 \n",
      "\n",
      "         9          6          3 \n",
      "         6          4          2 \n",
      "         3          2          1 \n",
      "\n",
      "         9          6          3 \n",
      "         6          4          2 \n",
      "         3          2          1 \n",
      "\n",
      "         9          6          3 \n",
      "         6          4          2 \n",
      "         3          2          1 \n",
      "\n",
      "         9          6          3 \n",
      "         6          4          2 \n",
      "         3          2          1 \n",
      "\n",
      "         9          6          3 \n",
      "         6          4          2 \n",
      "         3          2          1 \n",
      "\n",
      "         9          6          3 \n",
      "         6          4          2 \n",
      "         3          2          1 \n",
      "\n",
      "\n",
      "\n"
     ]
    }
   ],
   "source": [
    "poly_xy = polynomial_product_coeffs(foo, bar)\n",
    "poly_xy = af.tile(poly_xy, d0 = 1, d1 = 1, d2 = x.shape[0])\n",
    "print(poly_xy)"
   ]
  },
  {
   "cell_type": "code",
   "execution_count": 6,
   "metadata": {},
   "outputs": [],
   "source": [
    "x_power = af.flip(af.range(poly_xy.shape[1], dtype = af.Dtype.u32))\n",
    "x_power = af.tile(af.transpose(x_power), d0 = poly_xy.shape[0])\n",
    "x_power = af.tile(x_power, d0 = 1, d1 = 1, d2 = x.shape[0])\n",
    "# print(x_power)"
   ]
  },
  {
   "cell_type": "code",
   "execution_count": 7,
   "metadata": {},
   "outputs": [],
   "source": [
    "y_power = af.flip(af.range(poly_xy.shape[0], dtype = af.Dtype.u32))\n",
    "y_power = af.tile(y_power, d0 = 1, d1 = poly_xy.shape[1])\n",
    "y_power = af.tile(y_power, d0 = 1, d1 = 1, d2 = y.shape[0])\n",
    "# print(y_power)"
   ]
  },
  {
   "cell_type": "code",
   "execution_count": 8,
   "metadata": {},
   "outputs": [],
   "source": [
    "X = af.reorder(x, d0 = 2, d1 = 1, d2 = 0)\n",
    "X = af.tile(X, d0 = poly_xy.shape[0], d1 = poly_xy.shape[1])\n",
    "X = X**x_power\n",
    "# print(X**x_power)\n",
    "\n",
    "Y = af.reorder(y, d0 = 2, d1 = 1, d2 = 0)\n",
    "Y = af.tile(Y, d0 = poly_xy.shape[0], d1 = poly_xy.shape[1])\n",
    "Y = Y**y_power\n",
    "# print(Y**y_power)"
   ]
  },
  {
   "cell_type": "code",
   "execution_count": 9,
   "metadata": {},
   "outputs": [],
   "source": [
    "af.display(x, 14)"
   ]
  },
  {
   "cell_type": "code",
   "execution_count": 10,
   "metadata": {},
   "outputs": [],
   "source": [
    "XY = X * Y\n",
    "poly_val = poly_xy * XY\n",
    "poly_val = af.sum(af.sum(poly_val, dim = 0), dim = 1)\n",
    "poly_val = af.reorder(poly_val, d0 = 2, d1 = 1, d2 = 0)\n",
    "# print(Y[:, :, 0])\n",
    "# print(poly_xy[:, :, 0])\n",
    "af.display(poly_val, 14)"
   ]
  },
  {
   "cell_type": "code",
   "execution_count": 11,
   "metadata": {},
   "outputs": [
    {
     "name": "stdout",
     "output_type": "stream",
     "text": [
      "arrayfire.Array()\n",
      "Type: double\n",
      "\n",
      "[1 8 1 1]\n",
      "    4.0000     1.2145     0.4815     0.6014     1.8142     5.7993    15.6751    36.0000 \n",
      "\n"
     ]
    }
   ],
   "source": [
    "print(utils.polyval_2d(polynomial_product_coeffs(foo, bar), x, y))"
   ]
  },
  {
   "cell_type": "code",
   "execution_count": 12,
   "metadata": {},
   "outputs": [],
   "source": [
    "multiple_poly = af.tile(polynomial_product_coeffs(foo, bar), d0 = 1, d1 = 1, d2 = 3)\n",
    "poly_2d = multiple_poly\n",
    "xi = x\n",
    "eta = y"
   ]
  },
  {
   "cell_type": "code",
   "execution_count": 13,
   "metadata": {},
   "outputs": [
    {
     "data": {
      "text/plain": [
       "arrayfire.Array()\n",
       "Type: double\n",
       "Dims: (3, 8)"
      ]
     },
     "execution_count": 13,
     "metadata": {},
     "output_type": "execute_result"
    }
   ],
   "source": [
    "utils.polyval_2d(multiple_poly, x, y)"
   ]
  },
  {
   "cell_type": "code",
   "execution_count": null,
   "metadata": {},
   "outputs": [],
   "source": []
  }
 ],
 "metadata": {
  "kernelspec": {
   "display_name": "Python 3",
   "language": "python",
   "name": "python3"
  },
  "language_info": {
   "codemirror_mode": {
    "name": "ipython",
    "version": 3
   },
   "file_extension": ".py",
   "mimetype": "text/x-python",
   "name": "python",
   "nbconvert_exporter": "python",
   "pygments_lexer": "ipython3",
   "version": "3.6.3"
  }
 },
 "nbformat": 4,
 "nbformat_minor": 2
}
