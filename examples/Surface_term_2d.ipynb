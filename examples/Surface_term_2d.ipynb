{
 "cells": [
  {
   "cell_type": "code",
   "execution_count": 1,
   "metadata": {},
   "outputs": [
    {
     "name": "stdout",
     "output_type": "stream",
     "text": [
      "gmshtranslator friendly reminder: rules and actions prototypes\n",
      "\n",
      "\n",
      "def node_condition(tag,x,y,z,physgroups): \n",
      "def node_action(tag,x,y,z):\n",
      "def element_condition(eletag,eletype,physgrp,nodes):\n",
      "def element_action(eletag,eletype,physgrp,nodes):\n"
     ]
    },
    {
     "name": "stderr",
     "output_type": "stream",
     "text": [
      "/home/bala/anaconda3/lib/python3.6/site-packages/numpy/lib/polynomial.py:1187: FutureWarning: In the future extra properties will not be copied across when constructing one poly1d from another\n",
      "  other = poly1d(other)\n",
      "/home/bala/anaconda3/lib/python3.6/site-packages/numpy/lib/polynomial.py:1214: FutureWarning: In the future extra properties will not be copied across when constructing one poly1d from another\n",
      "  other = poly1d(other)\n"
     ]
    }
   ],
   "source": [
    "import os\n",
    "import sys\n",
    "import csv\n",
    "sys.path.insert(0, os.path.abspath('../'))\n",
    "\n",
    "import numpy as np\n",
    "from matplotlib import pyplot as plt\n",
    "from mpl_toolkits.mplot3d import Axes3D as ax\n",
    "import arrayfire as af\n",
    "\n",
    "from dg_maxwell import params\n",
    "from dg_maxwell import utils\n",
    "from dg_maxwell import lagrange\n",
    "from dg_maxwell import wave_equation_2d as w2d\n",
    "from dg_maxwell import msh_parser\n",
    "from dg_maxwell import isoparam\n",
    "\n",
    "af.set_backend(params.backend)\n",
    "af.set_device(params.device)"
   ]
  },
  {
   "cell_type": "code",
   "execution_count": null,
   "metadata": {},
   "outputs": [],
   "source": [
    "nodes, elements = msh_parser.read_order_2_msh('read_and_plot_mesh/mesh/square_10_10.msh')"
   ]
  },
  {
   "cell_type": "code",
   "execution_count": null,
   "metadata": {
    "collapsed": true
   },
   "outputs": [],
   "source": [
    "def u_init(x, y):\n",
    "    return np.e**(-(x**2) / 0.6**2)"
   ]
  },
  {
   "cell_type": "code",
   "execution_count": null,
   "metadata": {},
   "outputs": [],
   "source": [
    "axes_handler = plt.axes()\n",
    "\n",
    "# for element_id in np.arange(10, 20):\n",
    "element_id = 2\n",
    "msh_parser.plot_element_boundary(nodes[elements[element_id], 0],\n",
    "                                 nodes[elements[element_id], 1],\n",
    "                                 axes_handler)\n",
    "\n",
    "plt.xlabel(r'$x$')\n",
    "plt.ylabel(r'$y$')\n",
    "\n",
    "plt.xlim(-1.1, 1.1)\n",
    "plt.ylim(-1.1, 1.1)\n",
    "plt.axes().set_aspect('equal')\n",
    "# plt.savefig('square.png')\n",
    "plt.show()\n"
   ]
  },
  {
   "cell_type": "code",
   "execution_count": null,
   "metadata": {},
   "outputs": [],
   "source": [
    "N_LGL      = 8\n",
    "N_Elements = 10\n",
    "\n",
    "x_e_ij  = af.np_to_af_array(np.zeros([N_LGL * N_LGL, len(elements)]))\n",
    "y_e_ij  = af.np_to_af_array(np.zeros([N_LGL * N_LGL, len(elements)]))\n",
    "\n",
    "xi_LGL  = lagrange.LGL_points(N_LGL)\n",
    "eta_LGL = lagrange.LGL_points(N_LGL)\n",
    "\n",
    "Xi_LGL, Eta_LGL = utils.af_meshgrid(xi_LGL, eta_LGL)\n",
    "xi_i  = af.flat(Xi_LGL)\n",
    "eta_j = af.flat(Eta_LGL)\n",
    "\n",
    "for element_tag, element in enumerate(elements):\n",
    "    x_e_ij[:, element_tag] = isoparam.isoparam_x_2D(nodes[element, 0], xi_i, eta_j)\n",
    "    y_e_ij[:, element_tag] = isoparam.isoparam_y_2D(nodes[element, 1], xi_i, eta_j)\n"
   ]
  },
  {
   "cell_type": "code",
   "execution_count": null,
   "metadata": {
    "collapsed": true
   },
   "outputs": [],
   "source": [
    "u_e_ij = u_init(x_e_ij, y_e_ij)"
   ]
  },
  {
   "cell_type": "code",
   "execution_count": null,
   "metadata": {},
   "outputs": [],
   "source": [
    "print(u_e_ij[:,0])"
   ]
  },
  {
   "cell_type": "code",
   "execution_count": null,
   "metadata": {
    "collapsed": true
   },
   "outputs": [],
   "source": [
    "dxi_dx  = af.constant(0, N_LGL**2, len(elements), dtype = af.Dtype.f64)\n",
    "dxi_dy  = af.constant(0, N_LGL**2, len(elements), dtype = af.Dtype.f64)\n",
    "deta_dx = af.constant(0, N_LGL**2, len(elements), dtype = af.Dtype.f64)\n",
    "deta_dy = af.constant(0, N_LGL**2, len(elements), dtype = af.Dtype.f64)\n",
    "\n",
    "for element_tag, element in enumerate(elements):\n",
    "    dxi_dx[:, element_tag]  = w2d.dxi_dx(nodes[element][:, 0], nodes[element][:, 1], xi_i, eta_j)\n",
    "    dxi_dy[:, element_tag]  = w2d.dxi_dy(nodes[element][:, 0], nodes[element][:, 1], xi_i, eta_j)\n",
    "    deta_dx[:, element_tag] = w2d.deta_dx(nodes[element][:, 0], nodes[element][:, 1], xi_i, eta_j)\n",
    "    deta_dy[:, element_tag] = w2d.deta_dy(nodes[element][:, 0], nodes[element][:, 1], xi_i, eta_j)"
   ]
  },
  {
   "cell_type": "code",
   "execution_count": null,
   "metadata": {
    "collapsed": true
   },
   "outputs": [],
   "source": [
    "def F_xi(u, dxi_dx, dxi_dy):\n",
    "    '''\n",
    "    '''\n",
    "    F_xi_u = w2d.F_x(u) * dxi_dx + w2d.F_y(u) * dxi_dy\n",
    "\n",
    "    return F_xi_u\n",
    "\n",
    "def F_eta(u, deta_dx, deta_dy):\n",
    "    '''\n",
    "    '''\n",
    "    F_eta_u = w2d.F_x(u) * deta_dx + w2d.F_y(u) * deta_dy\n",
    "    \n",
    "    return F_eta_u"
   ]
  },
  {
   "cell_type": "code",
   "execution_count": null,
   "metadata": {
    "collapsed": true
   },
   "outputs": [],
   "source": [
    "def g_dd(x_nodes, y_nodes, xi, eta):\n",
    "    '''\n",
    "    '''\n",
    "    ans00  =   (w2d.dx_dxi(x_nodes, xi, eta))**2 \\\n",
    "             + (w2d.dy_dxi(y_nodes, xi, eta))**2\n",
    "    ans11  =   (w2d.dx_deta(x_nodes, xi, eta))**2 \\\n",
    "             + (w2d.dy_deta(y_nodes, xi, eta))**2\n",
    "    \n",
    "    ans01  =  (w2d.dx_dxi(x_nodes, xi, eta))  \\\n",
    "            * (w2d.dx_deta(x_nodes, xi, eta)) \\\n",
    "            + (w2d.dy_dxi(y_nodes, xi, eta))  \\\n",
    "            * (w2d.dy_deta(y_nodes, xi, eta))\n",
    "    \n",
    "    ans =  [[ans00, ans01],\n",
    "            [ans01, ans11]\n",
    "           ]\n",
    "    \n",
    "    return ans\n",
    "\n",
    "\n",
    "def g_uu(x_nodes, y_nodes, xi, eta):\n",
    "    gCov = g_dd(x_nodes, y_nodes, xi, eta)\n",
    "    \n",
    "    \n",
    "    a = gCov[0][0]\n",
    "    b = gCov[0][1]\n",
    "    c = gCov[1][0]\n",
    "    d = gCov[1][1]\n",
    "    \n",
    "    det = (a*d - b*c)\n",
    "    \n",
    "    ans = [[d / det, -b / det],\n",
    "           [-c / det, a / det]]\n",
    "    \n",
    "    return ans"
   ]
  },
  {
   "cell_type": "code",
   "execution_count": null,
   "metadata": {
    "collapsed": true
   },
   "outputs": [],
   "source": [
    "G_ab = [[af.constant(0, N_LGL * N_LGL, len(elements), dtype = af.Dtype.f64),\n",
    "         af.constant(0, N_LGL * N_LGL, len(elements), dtype = af.Dtype.f64)],\n",
    "        [af.constant(0, N_LGL * N_LGL, len(elements), dtype = af.Dtype.f64),\n",
    "         af.constant(0, N_LGL * N_LGL, len(elements), dtype = af.Dtype.f64)]]\n",
    "\n",
    "for element_tag, element in enumerate(elements):\n",
    "    g_ab = g_uu(nodes[element][:, 0], nodes[element][:, 1], xi_i, eta_j)\n",
    "    G_ab[0][0][:, element_tag] = g_ab[0][0]\n",
    "    G_ab[0][1][:, element_tag] = g_ab[0][1]\n",
    "    G_ab[1][0][:, element_tag] = g_ab[1][0]\n",
    "    G_ab[1][1][:, element_tag] = g_ab[1][1]"
   ]
  },
  {
   "cell_type": "code",
   "execution_count": null,
   "metadata": {
    "collapsed": true
   },
   "outputs": [],
   "source": [
    "f_xi  = F_xi(u_e_ij, dxi_dx, deta_dy)\n",
    "f_eta = F_eta(u_e_ij, deta_dx, deta_dy)"
   ]
  },
  {
   "cell_type": "code",
   "execution_count": null,
   "metadata": {
    "collapsed": true
   },
   "outputs": [],
   "source": []
  },
  {
   "cell_type": "code",
   "execution_count": null,
   "metadata": {
    "collapsed": true
   },
   "outputs": [],
   "source": []
  },
  {
   "cell_type": "code",
   "execution_count": null,
   "metadata": {
    "collapsed": true
   },
   "outputs": [],
   "source": [
    "def lax_friedrichs_flux(u):\n",
    "    '''\n",
    "    '''\n",
    "    params.N_LGL = 8\n",
    "    u = af.reorder(af.moddims(u, params.N_LGL ** 2, N_Elements, N_Elements), 2, 1, 0)\n",
    "\n",
    "    diff_u_boundary = af.np_to_af_array(np.zeros([N_Elements, N_Elements, params.N_LGL ** 2]))\n",
    "\n",
    "    u_xi_minus1_boundary_right   = u[:, :, :params.N_LGL]\n",
    "    u_xi_minus1_boundary_left    = af.shift(u[:, :, -params.N_LGL:], d0=0, d1 = 1)\n",
    "    u[:, :, :params.N_LGL] = (u_xi_minus1_boundary_right + u_xi_minus1_boundary_left) / 2\n",
    "    \n",
    "    diff_u_boundary[:, :, :params.N_LGL] = (u_xi_minus1_boundary_right - u_xi_minus1_boundary_left)\n",
    "\n",
    "    u_xi_1_boundary_left  = u[:, :, -params.N_LGL:]\n",
    "    u_xi_1_boundary_right = af.shift(u[:, :, :params.N_LGL], d0=0, d1=-1)\n",
    "    u[:, :, :params.N_LGL]     = (u_xi_minus1_boundary_left + u_xi_minus1_boundary_right) / 2\n",
    "    \n",
    "    diff_u_boundary[:, :, -params.N_LGL:] = (u_xi_minus1_boundary_left - u_xi_minus1_boundary_right)\n",
    "\n",
    "    u_eta_1_boundary_down = u[:, :, params.N_LGL - 1:params.N_LGL ** 2:params.N_LGL]\n",
    "    u_eta_1_boundary_up   = af.shift(u[:, :, 0:-params.N_LGL + 1:params.N_LGL], d0=1)\n",
    "    \n",
    "    u[:, :, params.N_LGL - 1:params.N_LGL ** 2:params.N_LGL] = (u_eta_1_boundary_up\\\n",
    "                                                              +u_eta_1_boundary_down) / 2\n",
    "\n",
    "    diff_u_boundary[:, :, params.N_LGL - 1:params.N_LGL ** 2:params.N_LGL] = (u_eta_1_boundary_up\\\n",
    "                                                                             -u_eta_1_boundary_down)\n",
    "\n",
    "\n",
    "    u_eta_minus1_boundary_down = af.shift(u[:, :, params.N_LGL - 1:params.N_LGL ** 2:params.N_LGL], d0=-1)\n",
    "    u_eta_minus1_boundary_up   = u[:, :, 0:-params.N_LGL + 1:params.N_LGL]\n",
    "    u[:, :, 0:-params.N_LGL + 1:params.N_LGL] = (u_eta_minus1_boundary_down\\\n",
    "                                               + u_eta_minus1_boundary_up) / 2\n",
    "\n",
    "    diff_u_boundary[:, :, 0:-params.N_LGL + 1:params.N_LGL] = (u_eta_minus1_boundary_down\\\n",
    "                                                             - u_eta_minus1_boundary_up)\n",
    "\n",
    "\n",
    "    u = af.moddims(af.reorder(u, 2, 1, 0), params.N_LGL ** 2, N_Elements ** 2)\n",
    "    diff_u_boundary = af.moddims(af.reorder(diff_u_boundary, 2, 1, 0), params.N_LGL ** 2, N_Elements ** 2)\n",
    "    F_xi_e_ij  = F_xi(u, dxi_dx, deta_dy) - params.c_lax * diff_u_boundary\n",
    "    F_eta_e_ij = F_eta(u, deta_dx, deta_dy) - params.c_lax * diff_u_boundary\n",
    "\n",
    "    return F_xi_e_ij, F_eta_e_ij"
   ]
  },
  {
   "cell_type": "code",
   "execution_count": null,
   "metadata": {},
   "outputs": [],
   "source": [
    "print(af.max(af.abs(lax_friedrichs_flux(u_e_ij)[1][:, :] - f_eta[:, :])))"
   ]
  },
  {
   "cell_type": "code",
   "execution_count": null,
   "metadata": {},
   "outputs": [],
   "source": [
    "print(G_ab[0][0].shape)"
   ]
  },
  {
   "cell_type": "code",
   "execution_count": null,
   "metadata": {},
   "outputs": [],
   "source": [
    "print(f_xi.shape)"
   ]
  },
  {
   "cell_type": "code",
   "execution_count": null,
   "metadata": {
    "collapsed": true
   },
   "outputs": [],
   "source": [
    "lagrange_coeffs = af.np_to_af_array(lagrange.lagrange_polynomials(xi_LGL)[1])"
   ]
  },
  {
   "cell_type": "code",
   "execution_count": null,
   "metadata": {},
   "outputs": [],
   "source": [
    "print(lagrange_coeffs)"
   ]
  },
  {
   "cell_type": "code",
   "execution_count": null,
   "metadata": {
    "collapsed": true
   },
   "outputs": [],
   "source": [
    "def surface_term(u):\n",
    "    '''\n",
    "    '''\n",
    "    error = af.np_to_af_array(np.zeros([params.N_LGL ** 2]))\n",
    "    for p in range(params.N_LGL):\n",
    "        for q in range(params.N_LGL):\n",
    "\n",
    "            f_xi_surface_term  = lax_friedrichs_flux(u)[0]\n",
    "            f_eta_surface_term = lax_friedrichs_flux(u)[1]\n",
    "\n",
    "            Lp_coeffs = lagrange_coeffs[p]\n",
    "            Lq_coeffs = lagrange_coeffs[q]\n",
    "            Lq_eta    = af.transpose(utils.polyval_1d(Lq_coeffs, eta_LGL))\n",
    "            Lp_xi     = af.transpose(utils.polyval_1d(Lp_coeffs, xi_LGL))\n",
    "            Lp_1      = utils.polyval_1d(lagrange_coeffs[p], xi_LGL[-1])\n",
    "            Lq_1      = utils.polyval_1d(lagrange_coeffs[q], eta_LGL[-1])\n",
    "            Lp_minus1 = utils.polyval_1d(lagrange_coeffs[p], xi_LGL[0])\n",
    "            Lq_minus1 = utils.polyval_1d(lagrange_coeffs[q], eta_LGL[0])\n",
    "\n",
    "            # xi = 1 boundary\n",
    "            Lq_eta_F = af.broadcast(utils.multiply, \\\n",
    "                                    Lq_eta, G_ab[0][0][-params.N_LGL:, :] * f_xi_surface_term[-params.N_LGL:, :]\\\n",
    "                                           + G_ab[1][0][-params.N_LGL:, :] * f_eta_surface_term[-params.N_LGL:, :])\n",
    "            Lq_eta_F = af.reorder(Lq_eta_F, 0, 2, 1)\n",
    "\n",
    "            lag_interpolation_1 = af.reorder(\\\n",
    "                                             af.sum(af.broadcast(utils.multiply, lagrange_coeffs, Lq_eta_F), 0),\\\n",
    "                                             2, 1, 0)\n",
    "\n",
    "            surface_term_pq_xi_1 = af.sum(Lp_1) * lagrange.integrate(lag_interpolation_1)\n",
    "\n",
    "            # eta = 1 boundary\n",
    "            Lp_xi_F = af.broadcast(utils.multiply,\\\n",
    "                                  Lp_xi, G_ab[1][0][params.N_LGL - 1:params.N_LGL ** 2:params.N_LGL]\\\n",
    "                                       * f_xi_surface_term[params.N_LGL - 1:params.N_LGL ** 2:params.N_LGL]\\\n",
    "                                       + G_ab[1][1][params.N_LGL - 1:params.N_LGL ** 2:params.N_LGL]\\\n",
    "                                       * f_eta_surface_term[params.N_LGL - 1:params.N_LGL ** 2:params.N_LGL])\n",
    "            Lp_xi_F = af.reorder(Lp_xi_F, 0, 2, 1)\n",
    "\n",
    "            lag_interpolation_2 = af.reorder(\\\n",
    "                                  af.sum(af.broadcast(utils.multiply, lagrange_coeffs, Lp_xi_F), 0),\\\n",
    "                                             2, 1, 0)\n",
    "            surface_term_pq_eta_1 = af.sum(Lq_1) * lagrange.integrate(lag_interpolation_2)\n",
    "\n",
    "            # xi = -1 boundary\n",
    "            Lq_eta_F = af.broadcast(utils.multiply,\\\n",
    "                                   Lq_eta, G_ab[0][0][:params.N_LGL] * f_xi_surface_term[:params.N_LGL]\\\n",
    "                                         + G_ab[1][0][:params.N_LGL] * f_eta_surface_term[:params.N_LGL])\n",
    "            Lq_eta_F = af.reorder(Lq_eta_F, 0, 2, 1)\n",
    "\n",
    "            lag_interpolation_3 = af.reorder(\\\n",
    "                                  af.sum(af.broadcast(utils.multiply, lagrange_coeffs, Lq_eta_F), 0),\\\n",
    "                                             2, 1, 0)\n",
    "            surface_term_pq_xi_minus1 = af.sum(Lp_minus1) * lagrange.integrate(lag_interpolation_3)\n",
    "\n",
    "            # eta = -1 boundary\n",
    "            Lp_xi_F = af.broadcast(utils.multiply,\\\n",
    "                                  Lp_xi, G_ab[1][0][0:-params.N_LGL + 1:params.N_LGL]\\\n",
    "                                * f_xi_surface_term[0:-params.N_LGL + 1:params.N_LGL]\\\n",
    "                                + G_ab[1][1][0:-params.N_LGL + 1:params.N_LGL]\\\n",
    "                                * f_eta_surface_term[0:-params.N_LGL + 1:params.N_LGL])\n",
    "            Lp_xi_F = af.reorder(Lp_xi_F, 0, 2, 1)\n",
    "\n",
    "            lag_interpolation_4 = af.reorder(\\\n",
    "                                  af.sum(af.broadcast(utils.multiply, lagrange_coeffs, Lp_xi_F), 0),\\\n",
    "                                             2, 1, 0)\n",
    "            surface_term_pq_eta_minus1 = af.sum(Lp_minus1) * lagrange.integrate(lag_interpolation_4)\n",
    "\n",
    "           # print(surface_term_pq_xi_1, surface_term_pq_eta_1, surface_term_pq_eta_minus1, surface_term_pq_xi_minus1)\n",
    "\n",
    "            surface_term_pq = surface_term_pq_xi_1 + surface_term_pq_eta_1\\\n",
    "                            + surface_term_pq_xi_minus1 + surface_term_pq_eta_minus1\n",
    "            \n",
    "            \n",
    "            error[p * params.N_LGL + q] = (surface_term_pq[19])\n",
    "    \n",
    "    return error"
   ]
  },
  {
   "cell_type": "code",
   "execution_count": null,
   "metadata": {},
   "outputs": [],
   "source": [
    "print(surface_term(u_e_ij))"
   ]
  },
  {
   "cell_type": "code",
   "execution_count": null,
   "metadata": {
    "collapsed": true
   },
   "outputs": [],
   "source": [
    "print(u_e_ij)"
   ]
  },
  {
   "cell_type": "code",
   "execution_count": null,
   "metadata": {
    "collapsed": true
   },
   "outputs": [],
   "source": [
    "analytical_result = af.np_to_af_array(np.zeros([64]))\n",
    "analytical_result[:8] = af.np_to_af_array(\\\n",
    "                                   np.array([2.22059014363387,13.1008564405414,\\\n",
    "                                             21.2098232837490,25.6452541541919,\\\n",
    "                                             25.6452541541918,21.2098232837492,\\\n",
    "                                             13.1008564405413,2.22059014363390]))\n",
    "analytical_result[-8:] = af.np_to_af_array(\\\n",
    "                                   np.array([6.03618983589522, 35.6118199995744,\\\n",
    "                                             57.6542772170424, 69.7110283535537,\\\n",
    "                                             69.7110283535533, 57.6542772170429,\\\n",
    "                                             35.6118199995742, 6.03618983589531]))"
   ]
  },
  {
   "cell_type": "code",
   "execution_count": null,
   "metadata": {
    "collapsed": true
   },
   "outputs": [],
   "source": [
    "print(af.max(af.abs(surface_term(u_e_ij) - analytical_result)))"
   ]
  },
  {
   "cell_type": "code",
   "execution_count": null,
   "metadata": {
    "collapsed": true
   },
   "outputs": [],
   "source": [
    "print(nodes[elements[19]])"
   ]
  },
  {
   "cell_type": "code",
   "execution_count": null,
   "metadata": {
    "collapsed": true
   },
   "outputs": [],
   "source": []
  }
 ],
 "metadata": {
  "kernelspec": {
   "display_name": "Python 3",
   "language": "python",
   "name": "python3"
  },
  "language_info": {
   "codemirror_mode": {
    "name": "ipython",
    "version": 3
   },
   "file_extension": ".py",
   "mimetype": "text/x-python",
   "name": "python",
   "nbconvert_exporter": "python",
   "pygments_lexer": "ipython3",
   "version": "3.6.1"
  }
 },
 "nbformat": 4,
 "nbformat_minor": 2
}
