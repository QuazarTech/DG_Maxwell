{
 "cells": [
  {
   "cell_type": "code",
   "execution_count": 19,
   "metadata": {},
   "outputs": [],
   "source": [
    "import os\n",
    "import sys\n",
    "import csv\n",
    "sys.path.insert(0, os.path.abspath('../'))\n",
    "\n",
    "import numpy as np\n",
    "from matplotlib import pyplot as plt\n",
    "from mpl_toolkits.mplot3d import Axes3D as ax\n",
    "import arrayfire as af\n",
    "\n",
    "from dg_maxwell import params\n",
    "from dg_maxwell import utils\n",
    "from dg_maxwell import lagrange\n",
    "from dg_maxwell import wave_equation_2d as w2d\n",
    "from dg_maxwell import msh_parser\n",
    "from dg_maxwell import isoparam\n",
    "\n",
    "af.set_backend(params.backend)"
   ]
  },
  {
   "cell_type": "code",
   "execution_count": 26,
   "metadata": {
    "scrolled": true
   },
   "outputs": [
    {
     "name": "stdout",
     "output_type": "stream",
     "text": [
      "gmshTranslator: Initializing...\n",
      "gmshTranslator: Mesh has 9 nodes.\n",
      "gmshTranslator: Mesh has 9 elements.\n",
      "gmshTranslator: Processed 22 lines.\n",
      "gmshTranslator: There are 1 physical groups available: \n",
      "gmshTranslator:      > 0\n",
      "gmshTranslator: Parsing nodes\n",
      "gmshTranslator: Parsing elements\n",
      "gmshTranslator: No rules for elements... skipping elements.\n",
      "gmshTranslator: Parsing nodes\n",
      "gmshTranslator: No rules for nodes... skipping nodes.\n",
      "gmshTranslator: Parsing elements\n"
     ]
    }
   ],
   "source": [
    "nodes, elements = msh_parser.read_order_2_msh('read_and_plot_mesh/mesh/square_1.msh')"
   ]
  },
  {
   "cell_type": "code",
   "execution_count": 27,
   "metadata": {},
   "outputs": [
    {
     "name": "stdout",
     "output_type": "stream",
     "text": [
      "[[0 4 3 5 2 6 1 7 8]]\n"
     ]
    }
   ],
   "source": [
    "print(elements)"
   ]
  },
  {
   "cell_type": "code",
   "execution_count": 3,
   "metadata": {
    "scrolled": true
   },
   "outputs": [
    {
     "name": "stderr",
     "output_type": "stream",
     "text": [
      "/home/bala/anaconda3/lib/python3.6/site-packages/numpy/lib/polynomial.py:1187: FutureWarning: In the future extra properties will not be copied across when constructing one poly1d from another\n",
      "  other = poly1d(other)\n",
      "/home/bala/anaconda3/lib/python3.6/site-packages/numpy/lib/polynomial.py:1214: FutureWarning: In the future extra properties will not be copied across when constructing one poly1d from another\n",
      "  other = poly1d(other)\n"
     ]
    }
   ],
   "source": [
    "N_LGL   = 8\n",
    "\n",
    "xi_LGL  = lagrange.LGL_points(N_LGL)\n",
    "eta_LGL = lagrange.LGL_points(N_LGL)\n",
    "\n",
    "Xi_LGL, Eta_LGL = utils.af_meshgrid(xi_LGL, eta_LGL)\n",
    "xi_i  = af.flat(Xi_LGL)\n",
    "eta_j = af.flat(Eta_LGL)\n",
    "\n",
    "_, Lp_xi  = lagrange.lagrange_polynomials(xi_LGL)\n",
    "_, Lq_eta = lagrange.lagrange_polynomials(eta_LGL)\n",
    "Lp_xi = af.np_to_af_array(Lp_xi)\n",
    "Lq_eta = af.np_to_af_array(Lq_eta)\n",
    "\n",
    "dLp_dxi_coeffs  = utils.polynomial_derivative(Lp_xi)\n",
    "dLq_deta_coeffs = utils.polynomial_derivative(Lq_eta)"
   ]
  },
  {
   "cell_type": "code",
   "execution_count": 4,
   "metadata": {
    "collapsed": true
   },
   "outputs": [],
   "source": [
    "Lp_xi_tp = af.reorder(Lp_xi, d0 = 2, d1 = 0, d2 = 1)\n",
    "Lp_xi_tp = af.tile(Lp_xi_tp, d0 = N_LGL)\n",
    "Lp_xi_tp = af.moddims(Lp_xi_tp, d0 = N_LGL * N_LGL, d1 = 1, d2 = N_LGL)\n",
    "Lp_xi_tp = af.reorder(Lp_xi_tp, d0 = 0, d1 = 2, d2 = 1)\n",
    "\n",
    "Lq_eta_tp = af.reorder(Lq_eta, d0 = 0, d1 = 2, d2 = 1)\n",
    "Lq_eta_tp = af.tile(Lq_eta_tp, d0 = N_LGL)\n",
    "Lq_eta_tp = af.reorder(Lq_eta_tp, d0 = 0, d1 = 2, d2 = 1)"
   ]
  },
  {
   "cell_type": "code",
   "execution_count": 5,
   "metadata": {
    "collapsed": true
   },
   "outputs": [],
   "source": [
    "dLp_dxi_tp = af.reorder(dLp_dxi_coeffs, d0 = 2, d1 = 0, d2 = 1)\n",
    "dLp_dxi_tp = af.tile(dLp_dxi_tp, d0 = N_LGL)\n",
    "dLp_dxi_tp = af.moddims(dLp_dxi_tp, d0 = N_LGL * N_LGL, d1 = 1, d2 = N_LGL - 1)\n",
    "dLp_dxi_tp = af.reorder(dLp_dxi_tp, d0 = 0, d1 = 2, d2 = 1)\n",
    "\n",
    "dLq_deta_tp = af.reorder(dLq_deta_coeffs, d0 = 0, d1 = 2, d2 = 1)\n",
    "dLq_deta_tp = af.tile(dLq_deta_tp, d0 = N_LGL)\n",
    "dLq_deta_tp = af.reorder(dLq_deta_tp, d0 = 0, d1 = 2, d2 = 1)"
   ]
  },
  {
   "cell_type": "code",
   "execution_count": 6,
   "metadata": {},
   "outputs": [
    {
     "name": "stdout",
     "output_type": "stream",
     "text": [
      "gmshTranslator: Ending\n"
     ]
    },
    {
     "ename": "IndexError",
     "evalue": "index 0 is out of bounds for axis 0 with size 0",
     "output_type": "error",
     "traceback": [
      "\u001b[0;31m---------------------------------------------------------------------------\u001b[0m",
      "\u001b[0;31mIndexError\u001b[0m                                Traceback (most recent call last)",
      "\u001b[0;32m<ipython-input-6-e01e3bcea11f>\u001b[0m in \u001b[0;36m<module>\u001b[0;34m()\u001b[0m\n\u001b[0;32m----> 1\u001b[0;31m \u001b[0mdxi_dx\u001b[0m  \u001b[0;34m=\u001b[0m \u001b[0mw2d\u001b[0m\u001b[0;34m.\u001b[0m\u001b[0mdxi_dx\u001b[0m\u001b[0;34m(\u001b[0m\u001b[0mnodes\u001b[0m\u001b[0;34m[\u001b[0m\u001b[0melements\u001b[0m\u001b[0;34m[\u001b[0m\u001b[0;36m0\u001b[0m\u001b[0;34m]\u001b[0m\u001b[0;34m]\u001b[0m\u001b[0;34m[\u001b[0m\u001b[0;34m:\u001b[0m\u001b[0;34m,\u001b[0m \u001b[0;36m0\u001b[0m\u001b[0;34m]\u001b[0m\u001b[0;34m,\u001b[0m \u001b[0mnodes\u001b[0m\u001b[0;34m[\u001b[0m\u001b[0melements\u001b[0m\u001b[0;34m[\u001b[0m\u001b[0;36m0\u001b[0m\u001b[0;34m]\u001b[0m\u001b[0;34m]\u001b[0m\u001b[0;34m[\u001b[0m\u001b[0;34m:\u001b[0m\u001b[0;34m,\u001b[0m \u001b[0;36m1\u001b[0m\u001b[0;34m]\u001b[0m\u001b[0;34m,\u001b[0m \u001b[0mxi_i\u001b[0m\u001b[0;34m,\u001b[0m \u001b[0meta_j\u001b[0m\u001b[0;34m)\u001b[0m\u001b[0;34m\u001b[0m\u001b[0m\n\u001b[0m\u001b[1;32m      2\u001b[0m \u001b[0mdxi_dy\u001b[0m  \u001b[0;34m=\u001b[0m \u001b[0mw2d\u001b[0m\u001b[0;34m.\u001b[0m\u001b[0mdxi_dy\u001b[0m\u001b[0;34m(\u001b[0m\u001b[0mnodes\u001b[0m\u001b[0;34m[\u001b[0m\u001b[0melements\u001b[0m\u001b[0;34m[\u001b[0m\u001b[0;36m0\u001b[0m\u001b[0;34m]\u001b[0m\u001b[0;34m]\u001b[0m\u001b[0;34m[\u001b[0m\u001b[0;34m:\u001b[0m\u001b[0;34m,\u001b[0m \u001b[0;36m0\u001b[0m\u001b[0;34m]\u001b[0m\u001b[0;34m,\u001b[0m \u001b[0mnodes\u001b[0m\u001b[0;34m[\u001b[0m\u001b[0melements\u001b[0m\u001b[0;34m[\u001b[0m\u001b[0;36m0\u001b[0m\u001b[0;34m]\u001b[0m\u001b[0;34m]\u001b[0m\u001b[0;34m[\u001b[0m\u001b[0;34m:\u001b[0m\u001b[0;34m,\u001b[0m \u001b[0;36m1\u001b[0m\u001b[0;34m]\u001b[0m\u001b[0;34m,\u001b[0m \u001b[0mxi_i\u001b[0m\u001b[0;34m,\u001b[0m \u001b[0meta_j\u001b[0m\u001b[0;34m)\u001b[0m\u001b[0;34m\u001b[0m\u001b[0m\n\u001b[1;32m      3\u001b[0m \u001b[0mdeta_dx\u001b[0m \u001b[0;34m=\u001b[0m \u001b[0mw2d\u001b[0m\u001b[0;34m.\u001b[0m\u001b[0mdeta_dx\u001b[0m\u001b[0;34m(\u001b[0m\u001b[0mnodes\u001b[0m\u001b[0;34m[\u001b[0m\u001b[0melements\u001b[0m\u001b[0;34m[\u001b[0m\u001b[0;36m0\u001b[0m\u001b[0;34m]\u001b[0m\u001b[0;34m]\u001b[0m\u001b[0;34m[\u001b[0m\u001b[0;34m:\u001b[0m\u001b[0;34m,\u001b[0m \u001b[0;36m0\u001b[0m\u001b[0;34m]\u001b[0m\u001b[0;34m,\u001b[0m \u001b[0mnodes\u001b[0m\u001b[0;34m[\u001b[0m\u001b[0melements\u001b[0m\u001b[0;34m[\u001b[0m\u001b[0;36m0\u001b[0m\u001b[0;34m]\u001b[0m\u001b[0;34m]\u001b[0m\u001b[0;34m[\u001b[0m\u001b[0;34m:\u001b[0m\u001b[0;34m,\u001b[0m \u001b[0;36m1\u001b[0m\u001b[0;34m]\u001b[0m\u001b[0;34m,\u001b[0m \u001b[0mxi_i\u001b[0m\u001b[0;34m,\u001b[0m \u001b[0meta_j\u001b[0m\u001b[0;34m)\u001b[0m\u001b[0;34m\u001b[0m\u001b[0m\n\u001b[1;32m      4\u001b[0m \u001b[0mdeta_dy\u001b[0m \u001b[0;34m=\u001b[0m \u001b[0mw2d\u001b[0m\u001b[0;34m.\u001b[0m\u001b[0mdeta_dy\u001b[0m\u001b[0;34m(\u001b[0m\u001b[0mnodes\u001b[0m\u001b[0;34m[\u001b[0m\u001b[0melements\u001b[0m\u001b[0;34m[\u001b[0m\u001b[0;36m0\u001b[0m\u001b[0;34m]\u001b[0m\u001b[0;34m]\u001b[0m\u001b[0;34m[\u001b[0m\u001b[0;34m:\u001b[0m\u001b[0;34m,\u001b[0m \u001b[0;36m0\u001b[0m\u001b[0;34m]\u001b[0m\u001b[0;34m,\u001b[0m \u001b[0mnodes\u001b[0m\u001b[0;34m[\u001b[0m\u001b[0melements\u001b[0m\u001b[0;34m[\u001b[0m\u001b[0;36m0\u001b[0m\u001b[0;34m]\u001b[0m\u001b[0;34m]\u001b[0m\u001b[0;34m[\u001b[0m\u001b[0;34m:\u001b[0m\u001b[0;34m,\u001b[0m \u001b[0;36m1\u001b[0m\u001b[0;34m]\u001b[0m\u001b[0;34m,\u001b[0m \u001b[0mxi_i\u001b[0m\u001b[0;34m,\u001b[0m \u001b[0meta_j\u001b[0m\u001b[0;34m)\u001b[0m\u001b[0;34m\u001b[0m\u001b[0m\n",
      "\u001b[0;31mIndexError\u001b[0m: index 0 is out of bounds for axis 0 with size 0"
     ]
    }
   ],
   "source": [
    "dxi_dx  = w2d.dxi_dx(nodes[elements[0]][:, 0], nodes[elements[0]][:, 1], xi_i, eta_j)\n",
    "dxi_dy  = w2d.dxi_dy(nodes[elements[0]][:, 0], nodes[elements[0]][:, 1], xi_i, eta_j)\n",
    "deta_dx = w2d.deta_dx(nodes[elements[0]][:, 0], nodes[elements[0]][:, 1], xi_i, eta_j)\n",
    "deta_dy = w2d.deta_dy(nodes[elements[0]][:, 0], nodes[elements[0]][:, 1], xi_i, eta_j)"
   ]
  },
  {
   "cell_type": "code",
   "execution_count": 8,
   "metadata": {},
   "outputs": [
    {
     "name": "stdout",
     "output_type": "stream",
     "text": [
      "[]\n"
     ]
    }
   ],
   "source": [
    "print(elements)"
   ]
  },
  {
   "cell_type": "code",
   "execution_count": 31,
   "metadata": {
    "collapsed": true
   },
   "outputs": [],
   "source": [
    "def F_xi(u):\n",
    "    '''\n",
    "    '''\n",
    "    F_xi_u = w2d.F_x(u) * dxi_dx + w2d.F_y(u) * dxi_dy\n",
    "\n",
    "    return F_xi_u\n",
    "\n",
    "def F_eta(u):\n",
    "    '''\n",
    "    '''\n",
    "    F_eta_u = w2d.F_x(u) * deta_dx + w2d.F_y(u) * deta_dy\n",
    "    return F_eta_u"
   ]
  },
  {
   "cell_type": "code",
   "execution_count": 32,
   "metadata": {
    "collapsed": true
   },
   "outputs": [],
   "source": [
    "def g_dd(x_nodes, y_nodes, xi, eta):\n",
    "    '''\n",
    "    '''\n",
    "    ans00  =   (w2d.dx_dxi(x_nodes, xi, eta))**2 \\\n",
    "             + (w2d.dy_dxi(y_nodes, xi, eta))**2\n",
    "    ans11  =   (w2d.dx_deta(x_nodes, xi, eta))**2 \\\n",
    "             + (w2d.dy_deta(y_nodes, xi, eta))**2\n",
    "    \n",
    "    ans01  =  (w2d.dx_dxi(x_nodes, xi, eta))  \\\n",
    "            * (w2d.dx_deta(x_nodes, xi, eta)) \\\n",
    "            + (w2d.dy_dxi(y_nodes, xi, eta))  \\\n",
    "            * (w2d.dy_deta(y_nodes, xi, eta))\n",
    "    \n",
    "    ans =  [[ans00, ans01],\n",
    "            [ans01, ans11]\n",
    "           ]\n",
    "    \n",
    "    return ans\n",
    "\n",
    "\n",
    "def g_uu(x_nodes, y_nodes, xi, eta):\n",
    "    gCov = g_dd(x_nodes, y_nodes, xi, eta)\n",
    "    \n",
    "    \n",
    "    a = gCov[0][0]\n",
    "    b = gCov[0][1]\n",
    "    c = gCov[1][0]\n",
    "    d = gCov[1][1]\n",
    "    \n",
    "    det = (a*d - b*c)\n",
    "    \n",
    "    ans = [[d / det, -b / det],\n",
    "           [-c / det, a / det]]\n",
    "    \n",
    "    return ans"
   ]
  },
  {
   "cell_type": "code",
   "execution_count": 25,
   "metadata": {
    "collapsed": true
   },
   "outputs": [
    {
     "name": "stderr",
     "output_type": "stream",
     "text": [
      "/home/ubermensch/.local/anaconda3/lib/python3.6/site-packages/numpy/lib/polynomial.py:1193: FutureWarning: In the future extra properties will not be copied across when constructing one poly1d from another\n",
      "  other = poly1d(other)\n",
      "/home/ubermensch/.local/anaconda3/lib/python3.6/site-packages/numpy/lib/polynomial.py:1220: FutureWarning: In the future extra properties will not be copied across when constructing one poly1d from another\n",
      "  other = poly1d(other)\n"
     ]
    }
   ],
   "source": [
    "volume_integral_pq = []\n",
    "for p in np.arange(N_LGL):\n",
    "    for q in np.arange(N_LGL):\n",
    "        # p = 0\n",
    "        # q = 0\n",
    "        index = p * N_LGL + q\n",
    "\n",
    "        g_ab = g_uu(nodes[elements[0]][:, 0], nodes[elements[0]][:, 1], xi_i, eta_j)\n",
    "\n",
    "        u_ij = np.e ** (- (xi_i**2) / (0.6 ** 2))\n",
    "        u_ij_tile = af.moddims(u_ij, N_LGL, N_LGL)\n",
    "\n",
    "        dLp_dxi_tp_ij = utils.polyval_1d(dLp_dxi_tp[index], af.np_to_af_array(np.array(xi_i)))\n",
    "        dLp_dxi_tp_ij = af.transpose(dLp_dxi_tp_ij)\n",
    "\n",
    "        Lq_eta_tp_ij = utils.polyval_1d(Lq_eta_tp[index], af.np_to_af_array(np.array(eta_j)))\n",
    "        Lq_eta_tp_ij = af.transpose(Lq_eta_tp_ij)\n",
    "\n",
    "        volume_integral_pq_ij = g_ab[0][0] * F_xi(u_ij) * Lq_eta_tp_ij * dLp_dxi_tp_ij\n",
    "\n",
    "        volume_integrand_interpolate = w2d.lag_interpolation_2d(volume_integral_pq_ij, N_LGL)\n",
    "        volume_integral_pq.append(utils.integrate_2d_multivar_poly(volume_integrand_interpolate,\n",
    "                                                                   N_quad = 12, scheme = 'gauss'))\n",
    "        \n",
    "volume_integral_pq = af.np_to_af_array(np.array(volume_integral_pq))"
   ]
  },
  {
   "cell_type": "code",
   "execution_count": 11,
   "metadata": {
    "collapsed": true
   },
   "outputs": [],
   "source": [
    "csv_handler = csv.reader(open('data_files/volume_integral_pq_2d_analytical.csv',\n",
    "                              newline='\\n'), delimiter=',')\n",
    "\n",
    "content = list()\n",
    "\n",
    "for n, line in enumerate(csv_handler):\n",
    "    content.append(list())\n",
    "    for item in line:\n",
    "        try:\n",
    "            content[-1].append(float(item))\n",
    "        except ValueError:\n",
    "            if content[-1] == []:\n",
    "                content.pop()\n",
    "                print('popping string')\n",
    "            break\n",
    "\n",
    "volume_integral_pq_analytical = af.np_to_af_array(np.array(content))"
   ]
  },
  {
   "cell_type": "code",
   "execution_count": 10,
   "metadata": {},
   "outputs": [
    {
     "ename": "NameError",
     "evalue": "name 'volume_integral_pq' is not defined",
     "output_type": "error",
     "traceback": [
      "\u001b[0;31m---------------------------------------------------------------------------\u001b[0m",
      "\u001b[0;31mNameError\u001b[0m                                 Traceback (most recent call last)",
      "\u001b[0;32m<ipython-input-10-d760a358fbec>\u001b[0m in \u001b[0;36m<module>\u001b[0;34m()\u001b[0m\n\u001b[1;32m      1\u001b[0m \u001b[0mthreshold\u001b[0m \u001b[0;34m=\u001b[0m \u001b[0;36m1e-6\u001b[0m\u001b[0;34m\u001b[0m\u001b[0m\n\u001b[0;32m----> 2\u001b[0;31m \u001b[0maf\u001b[0m\u001b[0;34m.\u001b[0m\u001b[0mmax\u001b[0m\u001b[0;34m(\u001b[0m\u001b[0maf\u001b[0m\u001b[0;34m.\u001b[0m\u001b[0mabs\u001b[0m\u001b[0;34m(\u001b[0m\u001b[0mvolume_integral_pq\u001b[0m \u001b[0;34m-\u001b[0m \u001b[0mvolume_integral_pq_analytical\u001b[0m\u001b[0;34m)\u001b[0m\u001b[0;34m)\u001b[0m\u001b[0;34m\u001b[0m\u001b[0m\n\u001b[0m\u001b[1;32m      3\u001b[0m \u001b[0maf\u001b[0m\u001b[0;34m.\u001b[0m\u001b[0mmean\u001b[0m\u001b[0;34m(\u001b[0m\u001b[0maf\u001b[0m\u001b[0;34m.\u001b[0m\u001b[0mabs\u001b[0m\u001b[0;34m(\u001b[0m\u001b[0mvolume_integral_pq\u001b[0m \u001b[0;34m-\u001b[0m \u001b[0mvolume_integral_pq_analytical\u001b[0m\u001b[0;34m)\u001b[0m\u001b[0;34m)\u001b[0m\u001b[0;34m\u001b[0m\u001b[0m\n",
      "\u001b[0;31mNameError\u001b[0m: name 'volume_integral_pq' is not defined"
     ]
    }
   ],
   "source": [
    "threshold = 1e-6\n",
    "af.max(af.abs(volume_integral_pq - volume_integral_pq_analytical))\n",
    "af.mean(af.abs(volume_integral_pq - volume_integral_pq_analytical))"
   ]
  },
  {
   "cell_type": "code",
   "execution_count": null,
   "metadata": {
    "collapsed": true
   },
   "outputs": [],
   "source": []
  },
  {
   "cell_type": "markdown",
   "metadata": {},
   "source": [
    "# Volume integral Convergence test"
   ]
  },
  {
   "cell_type": "code",
   "execution_count": 33,
   "metadata": {},
   "outputs": [
    {
     "name": "stderr",
     "output_type": "stream",
     "text": [
      "/home/ubermensch/.local/anaconda3/lib/python3.6/site-packages/numpy/lib/polynomial.py:1193: FutureWarning: In the future extra properties will not be copied across when constructing one poly1d from another\n",
      "  other = poly1d(other)\n",
      "/home/ubermensch/.local/anaconda3/lib/python3.6/site-packages/numpy/lib/polynomial.py:1220: FutureWarning: In the future extra properties will not be copied across when constructing one poly1d from another\n",
      "  other = poly1d(other)\n"
     ]
    }
   ],
   "source": [
    "N_LGL = 8\n",
    "p = 0\n",
    "q = 0\n",
    "\n",
    "index = p * N_LGL + q\n",
    "\n",
    "g_ab = g_uu(nodes[elements[0]][:, 0], nodes[elements[0]][:, 1], xi_i, eta_j)\n",
    "\n",
    "u_ij = np.e ** (- (xi_i**2) / (0.6 ** 2))\n",
    "u_ij_tile = af.moddims(u_ij, N_LGL, N_LGL)\n",
    "\n",
    "dLp_dxi_tp_ij = utils.polyval_1d(dLp_dxi_tp[index], af.np_to_af_array(np.array(xi_i)))\n",
    "dLp_dxi_tp_ij = af.transpose(dLp_dxi_tp_ij)\n",
    "\n",
    "Lq_eta_tp_ij = utils.polyval_1d(Lq_eta_tp[index], af.np_to_af_array(np.array(eta_j)))\n",
    "Lq_eta_tp_ij = af.transpose(Lq_eta_tp_ij)\n",
    "\n",
    "volume_integral_pq_ij = g_ab[0][0] * F_xi(u_ij) * Lq_eta_tp_ij * dLp_dxi_tp_ij\n",
    "\n",
    "volume_integrand_interpolate = w2d.lag_interpolation_2d(volume_integral_pq_ij, N_LGL)\n",
    "\n",
    "error = [[], []]\n",
    "\n",
    "for n_quad in np.arange(3, 25):\n",
    "    n_quad = int(n_quad)\n",
    "    error[0].append(af.sum(af.abs(utils.integrate_2d_multivar_poly(volume_integrand_interpolate,\n",
    "                                                                   N_quad = n_quad,\n",
    "                                                                   scheme = 'gauss')\n",
    "                           - volume_integral_pq_analytical[0])))\n",
    "    \n",
    "    error[1].append(af.sum(af.abs(utils.integrate_2d_multivar_poly(volume_integrand_interpolate,\n",
    "                                                                   N_quad = n_quad,\n",
    "                                                                   scheme = 'lobatto')\n",
    "                           - volume_integral_pq_analytical[0])))\n",
    "    \n",
    "error = np.array(error)\n"
   ]
  },
  {
   "cell_type": "code",
   "execution_count": 34,
   "metadata": {},
   "outputs": [
    {
     "name": "stdout",
     "output_type": "stream",
     "text": [
      "[ 0.01625955  0.00229911  0.00229911  0.00229911  0.00229911  0.00229911\n",
      "  0.00229911  0.00229911  0.00229911  0.00229911  0.00229911  0.00229911\n",
      "  0.00229911  0.00229911  0.00229911  0.00229911  0.00229911  0.00229911\n",
      "  0.00229911  0.00229911  0.00229911  0.00229911]\n"
     ]
    }
   ],
   "source": [
    "print(error[0])"
   ]
  },
  {
   "cell_type": "code",
   "execution_count": 38,
   "metadata": {},
   "outputs": [
    {
     "data": {
      "image/png": "[encoded data removed]",
      "text/plain": [
       "<matplotlib.figure.Figure at 0x7fa3e503a5c0>"
      ]
     },
     "metadata": {},
     "output_type": "display_data"
    }
   ],
   "source": [
    "N_quad = np.arange(3, 25, dtype = np.float64)\n",
    "plt.title(r'Error vs $N_{quad}$ for $\\int g_{00} F_{\\xi} \\frac{dL_0}{d\\xi} L_0(\\eta)  d\\xi d\\eta$ ($N_{LGL} = 8$)')\n",
    "plt.xlabel(r'$N_{quad}$')\n",
    "plt.ylabel(r'Error')\n",
    "plt.semilogy(N_quad, error[0], 'o-', label = r'Gauss quadrature')\n",
    "plt.semilogy(N_quad, error[1], 'o-', label = r'Lobatto quadrature')\n",
    "plt.axvline(x = N_LGL, color='b', linestyle='--')\n",
    "# plt.axes().set_aspect('equal')\n",
    "plt.legend(prop={'size': 14})\n",
    "# plt.ylim(np.min(error), np.max(error) + 0.1)\n",
    "plt.savefig('integrate_2d.png')\n",
    "plt.show()"
   ]
  },
  {
   "cell_type": "code",
   "execution_count": null,
   "metadata": {
    "collapsed": true
   },
   "outputs": [],
   "source": []
  }
 ],
 "metadata": {
  "kernelspec": {
   "display_name": "Python 3",
   "language": "python",
   "name": "python3"
  },
  "language_info": {
   "codemirror_mode": {
    "name": "ipython",
    "version": 3
   },
   "file_extension": ".py",
   "mimetype": "text/x-python",
   "name": "python",
   "nbconvert_exporter": "python",
   "pygments_lexer": "ipython3",
   "version": "3.6.1"
  }
 },
 "nbformat": 4,
 "nbformat_minor": 2
}
