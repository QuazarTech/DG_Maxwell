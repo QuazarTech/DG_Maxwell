{
 "cells": [
  {
   "cell_type": "markdown",
   "metadata": {},
   "source": [
    "# Integration of 2D functions using the Legendre-Gauss/Lobatto-Gauss quadrature"
   ]
  },
  {
   "cell_type": "code",
   "execution_count": 2,
   "metadata": {},
   "outputs": [
    {
     "name": "stderr",
     "output_type": "stream",
     "text": [
      "/home/bala/anaconda3/lib/python3.6/site-packages/numpy/lib/polynomial.py:1187: FutureWarning: In the future extra properties will not be copied across when constructing one poly1d from another\n",
      "  other = poly1d(other)\n",
      "/home/bala/anaconda3/lib/python3.6/site-packages/numpy/lib/polynomial.py:1214: FutureWarning: In the future extra properties will not be copied across when constructing one poly1d from another\n",
      "  other = poly1d(other)\n"
     ]
    },
    {
     "name": "stdout",
     "output_type": "stream",
     "text": [
      "gmshtranslator friendly reminder: rules and actions prototypes\n",
      "\n",
      "\n",
      "def node_condition(tag,x,y,z,physgroups): \n",
      "def node_action(tag,x,y,z):\n",
      "def element_condition(eletag,eletype,physgrp,nodes):\n",
      "def element_action(eletag,eletype,physgrp,nodes):\n"
     ]
    }
   ],
   "source": [
    "import os\n",
    "import sys\n",
    "sys.path.insert(0, os.path.abspath('../'))\n",
    "\n",
    "from matplotlib import pyplot as plt\n",
    "import numpy as np\n",
    "import arrayfire as af\n",
    "\n",
    "from dg_maxwell import params\n",
    "from dg_maxwell import utils\n",
    "from dg_maxwell import lagrange\n",
    "from dg_maxwell import wave_equation_2d as w2d\n",
    "\n",
    "af.set_backend(params.backend)\n",
    "\n",
    "plt.rcParams['figure.figsize']     = 12, 7.5\n",
    "plt.rcParams['lines.linewidth']    = 1.5\n",
    "plt.rcParams['font.family']        = 'serif'\n",
    "plt.rcParams['font.weight']        = 'bold'\n",
    "plt.rcParams['font.size']          = 20  \n",
    "plt.rcParams['font.sans-serif']    = 'serif'\n",
    "plt.rcParams['text.usetex']        = True\n",
    "plt.rcParams['axes.linewidth']     = 1.5\n",
    "plt.rcParams['axes.titlesize']     = 'medium'\n",
    "plt.rcParams['axes.labelsize']     = 'medium'\n",
    "\n",
    "plt.rcParams['xtick.major.size']   = 8\n",
    "plt.rcParams['xtick.minor.size']   = 4\n",
    "plt.rcParams['xtick.major.pad']    = 8\n",
    "plt.rcParams['xtick.minor.pad']    = 8\n",
    "plt.rcParams['xtick.color']        = 'k'\n",
    "plt.rcParams['xtick.labelsize']    = 'medium'\n",
    "plt.rcParams['xtick.direction']    = 'in'    \n",
    "\n",
    "plt.rcParams['ytick.major.size']   = 8\n",
    "plt.rcParams['ytick.minor.size']   = 4\n",
    "plt.rcParams['ytick.major.pad']    = 8\n",
    "plt.rcParams['ytick.minor.pad']    = 8\n",
    "plt.rcParams['ytick.color']        = 'k'\n",
    "plt.rcParams['ytick.labelsize']    = 'medium'\n",
    "plt.rcParams['ytick.direction']    = 'in'\n",
    "plt.rcParams['text.usetex']        = True\n",
    "plt.rcParams['text.latex.unicode'] = True"
   ]
  },
  {
   "cell_type": "code",
   "execution_count": 3,
   "metadata": {},
   "outputs": [
    {
     "name": "stderr",
     "output_type": "stream",
     "text": [
      "/home/bala/anaconda3/lib/python3.6/site-packages/numpy/lib/polynomial.py:1187: FutureWarning: In the future extra properties will not be copied across when constructing one poly1d from another\n",
      "  other = poly1d(other)\n",
      "/home/bala/anaconda3/lib/python3.6/site-packages/numpy/lib/polynomial.py:1214: FutureWarning: In the future extra properties will not be copied across when constructing one poly1d from another\n",
      "  other = poly1d(other)\n"
     ]
    }
   ],
   "source": [
    "N_LGL = 8\n",
    "xi_LGL  = lagrange.LGL_points(N_LGL)\n",
    "eta_LGL = lagrange.LGL_points(N_LGL)\n",
    "Xi, Eta = utils.af_meshgrid(xi_LGL, eta_LGL)\n",
    "\n",
    "_, Li_xi  = lagrange.lagrange_polynomials(xi_LGL)\n",
    "_, Lj_eta = lagrange.lagrange_polynomials(eta_LGL)\n",
    "\n",
    "Li_xi  = af.np_to_af_array(Li_xi)\n",
    "Lj_eta = af.np_to_af_array(Lj_eta)\n",
    "Lp_xi  = Li_xi.copy()\n",
    "Lq_eta = Lj_eta.copy()"
   ]
  },
  {
   "cell_type": "code",
   "execution_count": 4,
   "metadata": {
    "collapsed": true
   },
   "outputs": [],
   "source": [
    "Li_Lp = utils.poly1d_product(Li_xi, Lp_xi)\n",
    "Lj_Lq = utils.poly1d_product(Lj_eta, Lq_eta)"
   ]
  },
  {
   "cell_type": "code",
   "execution_count": 5,
   "metadata": {
    "collapsed": true
   },
   "outputs": [],
   "source": [
    "def function(x, y):\n",
    "#     return af.sin(4 * ((x - 0.3)**2 + (y + 0.3)**2)) \\\n",
    "#          + af.cos(4 * ((x - 0.3)**2 + (y + 0.3)**2))\n",
    "#     return af.sin(4 * ((x - 0.3)**2 + (y + 0.3)**2))\n",
    "   return np.e**(-(x**2 + y**2) / 0.6**2)\n",
    "#     return np.e**(-(0.5 * x**2 + 2. * y**2) / 0.6**2)\n",
    "#     return af.sin(((x - 0.3)**2 + (y + 0.3)**2)) ** 4\n",
    "#     return (af.sin((x**2 + y**2)) * af.cos((x**2 + y**2)))**4\n",
    "#     return np.e**(-(x + y) / 0.6**2)"
   ]
  },
  {
   "cell_type": "code",
   "execution_count": 6,
   "metadata": {},
   "outputs": [
    {
     "name": "stdout",
     "output_type": "stream",
     "text": [
      "arrayfire.Array()\n",
      "Type: double\n",
      "\n",
      "[8 8 1 1]\n",
      "   -1.0000    -1.0000    -1.0000    -1.0000    -1.0000    -1.0000    -1.0000    -1.0000 \n",
      "   -0.8717    -0.8717    -0.8717    -0.8717    -0.8717    -0.8717    -0.8717    -0.8717 \n",
      "   -0.5917    -0.5917    -0.5917    -0.5917    -0.5917    -0.5917    -0.5917    -0.5917 \n",
      "   -0.2093    -0.2093    -0.2093    -0.2093    -0.2093    -0.2093    -0.2093    -0.2093 \n",
      "    0.2093     0.2093     0.2093     0.2093     0.2093     0.2093     0.2093     0.2093 \n",
      "    0.5917     0.5917     0.5917     0.5917     0.5917     0.5917     0.5917     0.5917 \n",
      "    0.8717     0.8717     0.8717     0.8717     0.8717     0.8717     0.8717     0.8717 \n",
      "    1.0000     1.0000     1.0000     1.0000     1.0000     1.0000     1.0000     1.0000 \n",
      "\n",
      "\n"
     ]
    }
   ],
   "source": [
    "print(Eta)"
   ]
  },
  {
   "cell_type": "code",
   "execution_count": 7,
   "metadata": {},
   "outputs": [
    {
     "data": {
      "image/png": "iVBORw0KGgoAAAANSUhEUgAAAzoAAAKVCAYAAAAHjJ47AAAABHNCSVQICAgIfAhkiAAAAAlwSFlz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\nJQAAAABJRU5ErkJggg==\n",
      "text/plain": [
       "<matplotlib.figure.Figure at 0x7fdf5901ac50>"
      ]
     },
     "metadata": {},
     "output_type": "display_data"
    }
   ],
   "source": [
    "function_ij = function(Xi, Eta)\n",
    "function_ij_tile = af.flat(function_ij)\n",
    "\n",
    "# print(gaussian_xy_ij)\n",
    "plt.contourf(np.array(Xi), np.array(Eta), np.array(function_ij),\n",
    "             200, cmap = 'jet')\n",
    "\n",
    "plt.axes().set_aspect('equal')\n",
    "plt.xlabel(r\"$x$\")\n",
    "plt.ylabel(r\"$y$\")\n",
    "plt.colorbar()\n",
    "\n",
    "# plt.savefig('u_init.png')\n",
    "plt.show()"
   ]
  },
  {
   "cell_type": "code",
   "execution_count": 8,
   "metadata": {
    "collapsed": true
   },
   "outputs": [],
   "source": [
    "# print(Lq_eta)\n",
    "Lp_xi_tile = af.reorder(Lq_eta, d0 = 2, d1 = 0, d2 = 1)\n",
    "Lp_xi_tile = af.tile(Lp_xi_tile, d0 = N_LGL)\n",
    "Lp_xi_tile = af.moddims(Lp_xi_tile, d0 = N_LGL * N_LGL, d1 = 1, d2 = N_LGL)\n",
    "Lp_xi_tile = af.reorder(Lp_xi_tile, d0 = 0, d1 = 2, d2 = 1)\n",
    "\n",
    "Lq_eta_tile = af.reorder(Lq_eta, d0 = 0, d1 = 2, d2 = 1)\n",
    "Lq_eta_tile = af.tile(Lq_eta_tile, d0 = N_LGL)\n",
    "Lq_eta_tile = af.reorder(Lq_eta_tile, d0 = 0, d1 = 2, d2 = 1)"
   ]
  },
  {
   "cell_type": "code",
   "execution_count": 9,
   "metadata": {
    "collapsed": true
   },
   "outputs": [],
   "source": [
    "integral = function_ij_tile * utils.integrate_2d(Lp_xi_tile, Lq_eta_tile, order = 9, scheme = 'gauss')\n",
    "# \\int \\Sum Lp*Lq*function(xi_LGL_p, eta_LGL_q)\n",
    "# \\Sum \\int Lp*Lq*function(xi_LGL_p, eta_LGL_q)\n",
    "# \\Sum function(xi_LGL_p, eta_LGL_q) * \\int Lp*Lq\n",
    "#\n",
    "integral = af.sum(integral, dim = 0)\n",
    "af.display(integral, 14)"
   ]
  },
  {
   "cell_type": "code",
<<<<<<< HEAD
   "execution_count": null,
   "metadata": {
    "collapsed": true
   },
   "outputs": [],
   "source": []
=======
   "execution_count": 21,
   "metadata": {},
   "outputs": [
    {
     "name": "stdout",
     "output_type": "stream",
     "text": [
      "arrayfire.Array()\n",
      "Type: double\n",
      "\n",
      "[8 8 1 1]\n",
      "   -1.0000    -1.0000    -1.0000    -1.0000    -1.0000    -1.0000    -1.0000    -1.0000 \n",
      "   -0.8717    -0.8717    -0.8717    -0.8717    -0.8717    -0.8717    -0.8717    -0.8717 \n",
      "   -0.5917    -0.5917    -0.5917    -0.5917    -0.5917    -0.5917    -0.5917    -0.5917 \n",
      "   -0.2093    -0.2093    -0.2093    -0.2093    -0.2093    -0.2093    -0.2093    -0.2093 \n",
      "    0.2093     0.2093     0.2093     0.2093     0.2093     0.2093     0.2093     0.2093 \n",
      "    0.5917     0.5917     0.5917     0.5917     0.5917     0.5917     0.5917     0.5917 \n",
      "    0.8717     0.8717     0.8717     0.8717     0.8717     0.8717     0.8717     0.8717 \n",
      "    1.0000     1.0000     1.0000     1.0000     1.0000     1.0000     1.0000     1.0000 \n",
      "\n",
      "\n"
     ]
    }
   ],
   "source": [
    "print(Eta)"
   ]
>>>>>>> 24ad7811eefdc05cb59c8676ce8659685e9a8599
  },
  {
   "cell_type": "code",
   "execution_count": null,
   "metadata": {
    "collapsed": true
   },
   "outputs": [],
   "source": []
  },
  {
   "cell_type": "code",
   "execution_count": 11,
   "metadata": {},
   "outputs": [
    {
     "name": "stdout",
     "output_type": "stream",
     "text": [
      "arrayfire.Array()\n",
      "Type: double\n",
      "\n",
      "[64 8 1 1]\n",
      "   -3.3516     3.3516     3.8672    -3.8672    -1.0547     1.0547     0.0391    -0.0391 \n",
      "   -3.3516     3.3516     3.8672    -3.8672    -1.0547     1.0547     0.0391    -0.0391 \n",
      "   -3.3516     3.3516     3.8672    -3.8672    -1.0547     1.0547     0.0391    -0.0391 \n",
      "   -3.3516     3.3516     3.8672    -3.8672    -1.0547     1.0547     0.0391    -0.0391 \n",
      "   -3.3516     3.3516     3.8672    -3.8672    -1.0547     1.0547     0.0391    -0.0391 \n",
      "   -3.3516     3.3516     3.8672    -3.8672    -1.0547     1.0547     0.0391    -0.0391 \n",
      "   -3.3516     3.3516     3.8672    -3.8672    -1.0547     1.0547     0.0391    -0.0391 \n",
      "   -3.3516     3.3516     3.8672    -3.8672    -1.0547     1.0547     0.0391    -0.0391 \n",
      "    8.1407    -7.0966   -11.3475     9.8921     3.3316    -2.9043    -0.1249     0.1088 \n",
      "    8.1407    -7.0966   -11.3475     9.8921     3.3316    -2.9043    -0.1249     0.1088 \n",
      "    8.1407    -7.0966   -11.3475     9.8921     3.3316    -2.9043    -0.1249     0.1088 \n",
      "    8.1407    -7.0966   -11.3475     9.8921     3.3316    -2.9043    -0.1249     0.1088 \n",
      "    8.1407    -7.0966   -11.3475     9.8921     3.3316    -2.9043    -0.1249     0.1088 \n",
      "    8.1407    -7.0966   -11.3475     9.8921     3.3316    -2.9043    -0.1249     0.1088 \n",
      "    8.1407    -7.0966   -11.3475     9.8921     3.3316    -2.9043    -0.1249     0.1088 \n",
      "    8.1407    -7.0966   -11.3475     9.8921     3.3316    -2.9043    -0.1249     0.1088 \n",
      "  -10.3581     6.1289    18.6834   -11.0549    -8.6700     5.1301     0.3448    -0.2040 \n",
      "  -10.3581     6.1289    18.6834   -11.0549    -8.6700     5.1301     0.3448    -0.2040 \n",
      "  -10.3581     6.1289    18.6834   -11.0549    -8.6700     5.1301     0.3448    -0.2040 \n",
      "  -10.3581     6.1289    18.6834   -11.0549    -8.6700     5.1301     0.3448    -0.2040 \n",
      "  -10.3581     6.1289    18.6834   -11.0549    -8.6700     5.1301     0.3448    -0.2040 \n",
      "  -10.3581     6.1289    18.6834   -11.0549    -8.6700     5.1301     0.3448    -0.2040 \n",
      "  -10.3581     6.1289    18.6834   -11.0549    -8.6700     5.1301     0.3448    -0.2040 \n",
      "  -10.3581     6.1289    18.6834   -11.0549    -8.6700     5.1301     0.3448    -0.2040 \n",
      "   11.3898    -2.3839   -24.0330     5.0301    15.6735    -3.2805    -3.0304     0.6343 \n",
      "   11.3898    -2.3839   -24.0330     5.0301    15.6735    -3.2805    -3.0304     0.6343 \n",
      "   11.3898    -2.3839   -24.0330     5.0301    15.6735    -3.2805    -3.0304     0.6343 \n",
      "   11.3898    -2.3839   -24.0330     5.0301    15.6735    -3.2805    -3.0304     0.6343 \n",
      "   11.3898    -2.3839   -24.0330     5.0301    15.6735    -3.2805    -3.0304     0.6343 \n",
      "   11.3898    -2.3839   -24.0330     5.0301    15.6735    -3.2805    -3.0304     0.6343 \n",
      "   11.3898    -2.3839   -24.0330     5.0301    15.6735    -3.2805    -3.0304     0.6343 \n",
      "   11.3898    -2.3839   -24.0330     5.0301    15.6735    -3.2805    -3.0304     0.6343 \n",
      "  -11.3898    -2.3839    24.0330     5.0301   -15.6735    -3.2805     3.0304     0.6343 \n",
      "  -11.3898    -2.3839    24.0330     5.0301   -15.6735    -3.2805     3.0304     0.6343 \n",
      "  -11.3898    -2.3839    24.0330     5.0301   -15.6735    -3.2805     3.0304     0.6343 \n",
      "  -11.3898    -2.3839    24.0330     5.0301   -15.6735    -3.2805     3.0304     0.6343 \n",
      "  -11.3898    -2.3839    24.0330     5.0301   -15.6735    -3.2805     3.0304     0.6343 \n",
      "  -11.3898    -2.3839    24.0330     5.0301   -15.6735    -3.2805     3.0304     0.6343 \n",
      "  -11.3898    -2.3839    24.0330     5.0301   -15.6735    -3.2805     3.0304     0.6343 \n",
      "  -11.3898    -2.3839    24.0330     5.0301   -15.6735    -3.2805     3.0304     0.6343 \n",
      "   10.3581     6.1289   -18.6834   -11.0549     8.6700     5.1301    -0.3448    -0.2040 \n",
      "   10.3581     6.1289   -18.6834   -11.0549     8.6700     5.1301    -0.3448    -0.2040 \n",
      "   10.3581     6.1289   -18.6834   -11.0549     8.6700     5.1301    -0.3448    -0.2040 \n",
      "   10.3581     6.1289   -18.6834   -11.0549     8.6700     5.1301    -0.3448    -0.2040 \n",
      "   10.3581     6.1289   -18.6834   -11.0549     8.6700     5.1301    -0.3448    -0.2040 \n",
      "   10.3581     6.1289   -18.6834   -11.0549     8.6700     5.1301    -0.3448    -0.2040 \n",
      "   10.3581     6.1289   -18.6834   -11.0549     8.6700     5.1301    -0.3448    -0.2040 \n",
      "   10.3581     6.1289   -18.6834   -11.0549     8.6700     5.1301    -0.3448    -0.2040 \n",
      "   -8.1407    -7.0966    11.3475     9.8921    -3.3316    -2.9043     0.1249     0.1088 \n",
      "   -8.1407    -7.0966    11.3475     9.8921    -3.3316    -2.9043     0.1249     0.1088 \n",
      "   -8.1407    -7.0966    11.3475     9.8921    -3.3316    -2.9043     0.1249     0.1088 \n",
      "   -8.1407    -7.0966    11.3475     9.8921    -3.3316    -2.9043     0.1249     0.1088 \n",
      "   -8.1407    -7.0966    11.3475     9.8921    -3.3316    -2.9043     0.1249     0.1088 \n",
      "   -8.1407    -7.0966    11.3475     9.8921    -3.3316    -2.9043     0.1249     0.1088 \n",
      "   -8.1407    -7.0966    11.3475     9.8921    -3.3316    -2.9043     0.1249     0.1088 \n",
      "   -8.1407    -7.0966    11.3475     9.8921    -3.3316    -2.9043     0.1249     0.1088 \n",
      "    3.3516     3.3516    -3.8672    -3.8672     1.0547     1.0547    -0.0391    -0.0391 \n",
      "    3.3516     3.3516    -3.8672    -3.8672     1.0547     1.0547    -0.0391    -0.0391 \n",
      "    3.3516     3.3516    -3.8672    -3.8672     1.0547     1.0547    -0.0391    -0.0391 \n",
      "    3.3516     3.3516    -3.8672    -3.8672     1.0547     1.0547    -0.0391    -0.0391 \n",
      "    3.3516     3.3516    -3.8672    -3.8672     1.0547     1.0547    -0.0391    -0.0391 \n",
      "    3.3516     3.3516    -3.8672    -3.8672     1.0547     1.0547    -0.0391    -0.0391 \n",
      "    3.3516     3.3516    -3.8672    -3.8672     1.0547     1.0547    -0.0391    -0.0391 \n",
      "    3.3516     3.3516    -3.8672    -3.8672     1.0547     1.0547    -0.0391    -0.0391 \n",
      "\n",
      " arrayfire.Array()\n",
      "Type: double\n",
      "\n",
      "[64 8 1 1]\n",
      "   -3.3516     3.3516     3.8672    -3.8672    -1.0547     1.0547     0.0391    -0.0391 \n",
      "    8.1407    -7.0966   -11.3475     9.8921     3.3316    -2.9043    -0.1249     0.1088 \n",
      "  -10.3581     6.1289    18.6834   -11.0549    -8.6700     5.1301     0.3448    -0.2040 \n",
      "   11.3898    -2.3839   -24.0330     5.0301    15.6735    -3.2805    -3.0304     0.6343 \n",
      "  -11.3898    -2.3839    24.0330     5.0301   -15.6735    -3.2805     3.0304     0.6343 \n",
      "   10.3581     6.1289   -18.6834   -11.0549     8.6700     5.1301    -0.3448    -0.2040 \n",
      "   -8.1407    -7.0966    11.3475     9.8921    -3.3316    -2.9043     0.1249     0.1088 \n",
      "    3.3516     3.3516    -3.8672    -3.8672     1.0547     1.0547    -0.0391    -0.0391 \n",
      "   -3.3516     3.3516     3.8672    -3.8672    -1.0547     1.0547     0.0391    -0.0391 \n",
      "    8.1407    -7.0966   -11.3475     9.8921     3.3316    -2.9043    -0.1249     0.1088 \n",
      "  -10.3581     6.1289    18.6834   -11.0549    -8.6700     5.1301     0.3448    -0.2040 \n",
      "   11.3898    -2.3839   -24.0330     5.0301    15.6735    -3.2805    -3.0304     0.6343 \n",
      "  -11.3898    -2.3839    24.0330     5.0301   -15.6735    -3.2805     3.0304     0.6343 \n",
      "   10.3581     6.1289   -18.6834   -11.0549     8.6700     5.1301    -0.3448    -0.2040 \n",
      "   -8.1407    -7.0966    11.3475     9.8921    -3.3316    -2.9043     0.1249     0.1088 \n",
      "    3.3516     3.3516    -3.8672    -3.8672     1.0547     1.0547    -0.0391    -0.0391 \n",
      "   -3.3516     3.3516     3.8672    -3.8672    -1.0547     1.0547     0.0391    -0.0391 \n",
      "    8.1407    -7.0966   -11.3475     9.8921     3.3316    -2.9043    -0.1249     0.1088 \n",
      "  -10.3581     6.1289    18.6834   -11.0549    -8.6700     5.1301     0.3448    -0.2040 \n",
      "   11.3898    -2.3839   -24.0330     5.0301    15.6735    -3.2805    -3.0304     0.6343 \n",
      "  -11.3898    -2.3839    24.0330     5.0301   -15.6735    -3.2805     3.0304     0.6343 \n",
      "   10.3581     6.1289   -18.6834   -11.0549     8.6700     5.1301    -0.3448    -0.2040 \n",
      "   -8.1407    -7.0966    11.3475     9.8921    -3.3316    -2.9043     0.1249     0.1088 \n",
      "    3.3516     3.3516    -3.8672    -3.8672     1.0547     1.0547    -0.0391    -0.0391 \n",
      "   -3.3516     3.3516     3.8672    -3.8672    -1.0547     1.0547     0.0391    -0.0391 \n",
      "    8.1407    -7.0966   -11.3475     9.8921     3.3316    -2.9043    -0.1249     0.1088 \n",
      "  -10.3581     6.1289    18.6834   -11.0549    -8.6700     5.1301     0.3448    -0.2040 \n",
      "   11.3898    -2.3839   -24.0330     5.0301    15.6735    -3.2805    -3.0304     0.6343 \n",
      "  -11.3898    -2.3839    24.0330     5.0301   -15.6735    -3.2805     3.0304     0.6343 \n",
      "   10.3581     6.1289   -18.6834   -11.0549     8.6700     5.1301    -0.3448    -0.2040 \n",
      "   -8.1407    -7.0966    11.3475     9.8921    -3.3316    -2.9043     0.1249     0.1088 \n",
      "    3.3516     3.3516    -3.8672    -3.8672     1.0547     1.0547    -0.0391    -0.0391 \n",
      "   -3.3516     3.3516     3.8672    -3.8672    -1.0547     1.0547     0.0391    -0.0391 \n",
      "    8.1407    -7.0966   -11.3475     9.8921     3.3316    -2.9043    -0.1249     0.1088 \n",
      "  -10.3581     6.1289    18.6834   -11.0549    -8.6700     5.1301     0.3448    -0.2040 \n",
      "   11.3898    -2.3839   -24.0330     5.0301    15.6735    -3.2805    -3.0304     0.6343 \n",
      "  -11.3898    -2.3839    24.0330     5.0301   -15.6735    -3.2805     3.0304     0.6343 \n",
      "   10.3581     6.1289   -18.6834   -11.0549     8.6700     5.1301    -0.3448    -0.2040 \n",
      "   -8.1407    -7.0966    11.3475     9.8921    -3.3316    -2.9043     0.1249     0.1088 \n",
      "    3.3516     3.3516    -3.8672    -3.8672     1.0547     1.0547    -0.0391    -0.0391 \n",
      "   -3.3516     3.3516     3.8672    -3.8672    -1.0547     1.0547     0.0391    -0.0391 \n",
      "    8.1407    -7.0966   -11.3475     9.8921     3.3316    -2.9043    -0.1249     0.1088 \n",
      "  -10.3581     6.1289    18.6834   -11.0549    -8.6700     5.1301     0.3448    -0.2040 \n",
      "   11.3898    -2.3839   -24.0330     5.0301    15.6735    -3.2805    -3.0304     0.6343 \n",
      "  -11.3898    -2.3839    24.0330     5.0301   -15.6735    -3.2805     3.0304     0.6343 \n",
      "   10.3581     6.1289   -18.6834   -11.0549     8.6700     5.1301    -0.3448    -0.2040 \n",
      "   -8.1407    -7.0966    11.3475     9.8921    -3.3316    -2.9043     0.1249     0.1088 \n",
      "    3.3516     3.3516    -3.8672    -3.8672     1.0547     1.0547    -0.0391    -0.0391 \n",
      "   -3.3516     3.3516     3.8672    -3.8672    -1.0547     1.0547     0.0391    -0.0391 \n",
      "    8.1407    -7.0966   -11.3475     9.8921     3.3316    -2.9043    -0.1249     0.1088 \n",
      "  -10.3581     6.1289    18.6834   -11.0549    -8.6700     5.1301     0.3448    -0.2040 \n",
      "   11.3898    -2.3839   -24.0330     5.0301    15.6735    -3.2805    -3.0304     0.6343 \n",
      "  -11.3898    -2.3839    24.0330     5.0301   -15.6735    -3.2805     3.0304     0.6343 \n",
      "   10.3581     6.1289   -18.6834   -11.0549     8.6700     5.1301    -0.3448    -0.2040 \n",
      "   -8.1407    -7.0966    11.3475     9.8921    -3.3316    -2.9043     0.1249     0.1088 \n",
      "    3.3516     3.3516    -3.8672    -3.8672     1.0547     1.0547    -0.0391    -0.0391 \n",
      "   -3.3516     3.3516     3.8672    -3.8672    -1.0547     1.0547     0.0391    -0.0391 \n",
      "    8.1407    -7.0966   -11.3475     9.8921     3.3316    -2.9043    -0.1249     0.1088 \n",
      "  -10.3581     6.1289    18.6834   -11.0549    -8.6700     5.1301     0.3448    -0.2040 \n",
      "   11.3898    -2.3839   -24.0330     5.0301    15.6735    -3.2805    -3.0304     0.6343 \n",
      "  -11.3898    -2.3839    24.0330     5.0301   -15.6735    -3.2805     3.0304     0.6343 \n",
      "   10.3581     6.1289   -18.6834   -11.0549     8.6700     5.1301    -0.3448    -0.2040 \n",
      "   -8.1407    -7.0966    11.3475     9.8921    -3.3316    -2.9043     0.1249     0.1088 \n",
      "    3.3516     3.3516    -3.8672    -3.8672     1.0547     1.0547    -0.0391    -0.0391 \n",
      "\n",
      "\n"
     ]
    }
   ],
   "source": [
    "print(Lp_xi_tile, Lq_eta_tile)"
   ]
  },
  {
   "cell_type": "code",
   "execution_count": 9,
   "metadata": {},
   "outputs": [
    {
     "name": "stdout",
     "output_type": "stream",
     "text": [
      "5\n",
      "6\n",
      "7\n",
      "8\n",
      "9\n",
      "10\n",
      "11\n",
      "12\n",
      "13\n",
      "14\n"
     ]
    },
    {
     "name": "stderr",
     "output_type": "stream",
     "text": [
      "/home/bala/anaconda3/lib/python3.6/site-packages/numpy/lib/polynomial.py:1187: FutureWarning: In the future extra properties will not be copied across when constructing one poly1d from another\n",
      "  other = poly1d(other)\n",
      "/home/bala/anaconda3/lib/python3.6/site-packages/numpy/lib/polynomial.py:1214: FutureWarning: In the future extra properties will not be copied across when constructing one poly1d from another\n",
      "  other = poly1d(other)\n"
     ]
    },
    {
     "name": "stdout",
     "output_type": "stream",
     "text": [
      "15\n",
      "16\n",
      "17\n",
      "18\n",
      "19\n",
      "20\n",
      "21\n",
      "22\n",
      "23\n"
     ]
    }
   ],
   "source": [
    "# Convergence test for integrate function\n",
    "\n",
    "error = []\n",
    "# ref_integral = 1.29963209362073 # function 0\n",
    "# ref_integral = 0.945143816408656 # function 1\n",
    "# ref_integral = 1.08968731296967 # function 2\n",
    "# ref_integral = 1.02199637574522\n",
    "# ref_integral = 1.33783253647835\n",
    "# ref_integral = 0.108234186899320\n",
    "ref_integral = 33.2650147380588\n",
    "for n_LGL in np.arange(5, 24):\n",
    "    n_LGL = int(n_LGL)\n",
    "    print(n_LGL)\n",
    "    xi_LGL  = lagrange.LGL_points(n_LGL)\n",
    "    eta_LGL = lagrange.LGL_points(n_LGL)\n",
    "    Xi, Eta = utils.af_meshgrid(xi_LGL, eta_LGL)\n",
    "\n",
    "    _, Li_xi  = lagrange.lagrange_polynomials(xi_LGL)\n",
    "    _, Lj_eta = lagrange.lagrange_polynomials(eta_LGL)\n",
    "\n",
    "    Li_xi  = af.np_to_af_array(Li_xi)\n",
    "    Lj_eta = af.np_to_af_array(Lj_eta)\n",
    "    Lp_xi  = Li_xi.copy()\n",
    "    Lq_eta = Lj_eta.copy()\n",
    "\n",
    "    Li_Lp = utils.poly1d_product(Li_xi, Lp_xi)\n",
    "    Lj_Lq = utils.poly1d_product(Lj_eta, Lq_eta)\n",
    "\n",
    "    function_ij = function(Xi, Eta)\n",
    "    function_ij_tile = af.flat(function_ij)\n",
    "\n",
    "\n",
    "    # print(Lq_eta)\n",
    "    Lp_xi_tile = af.reorder(Lq_eta, d0 = 2, d1 = 0, d2 = 1)\n",
    "    Lp_xi_tile = af.tile(Lp_xi_tile, d0 = n_LGL)\n",
    "    Lp_xi_tile = af.moddims(Lp_xi_tile, d0 = n_LGL * n_LGL, d1 = 1, d2 = n_LGL)\n",
    "    Lp_xi_tile = af.reorder(Lp_xi_tile, d0 = 0, d1 = 2, d2 = 1)\n",
    "\n",
    "    Lq_eta_tile = af.reorder(Lq_eta, d0 = 0, d1 = 2, d2 = 1)\n",
    "    Lq_eta_tile = af.tile(Lq_eta_tile, d0 = n_LGL)\n",
    "    Lq_eta_tile = af.reorder(Lq_eta_tile, d0 = 0, d1 = 2, d2 = 1)\n",
    "\n",
    "\n",
    "    integral = function_ij_tile * utils.integrate_2d(Lp_xi_tile, Lq_eta_tile, order = 9, scheme = 'gauss')\n",
    "    integral = af.sum(integral, dim = 0)\n",
    "    error.append(np.array(af.abs(integral - ref_integral))[0])\n",
    "    \n",
    "error = np.array(error)"
   ]
  },
  {
   "cell_type": "code",
   "execution_count": 10,
   "metadata": {},
   "outputs": [
    {
     "data": {
      "image/png": "iVBORw0KGgoAAAANSUhEUgAAA9QAAAKuCAYAAABAGlSXAAAABHNCSVQICAgIfAhkiAAAAAlwSFlz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\n",
      "text/plain": [
       "<matplotlib.figure.Figure at 0x7f6f1437e828>"
      ]
     },
     "metadata": {},
     "output_type": "display_data"
    }
   ],
   "source": [
    "plt.title(r'$\\int e^{-(\\xi + \\eta) / 0.6^2} d\\xi d\\eta$')\n",
    "plt.xlabel(r'$N$')\n",
    "plt.ylabel(r'Error')\n",
    "plt.semilogy(np.arange(5, 24, dtype = np.int), error, )\n",
    "\n",
    "plt.savefig('integrate_2d.png')\n",
    "plt.show()"
   ]
  },
  {
   "cell_type": "code",
   "execution_count": 11,
   "metadata": {},
   "outputs": [
    {
     "name": "stdout",
     "output_type": "stream",
     "text": [
      "arrayfire.Array()\n",
      "Type: float\n",
      "\n",
      "[2 3 1 1]\n",
      "    0.1859     0.5834     0.1435 \n",
      "    0.0244     0.6937     0.0635 \n",
      "\n",
      " arrayfire.Array()\n",
      "Type: float\n",
      "\n",
      "[6 1 1 1]\n",
      "    0.1859 \n",
      "    0.0244 \n",
      "    0.5834 \n",
      "    0.6937 \n",
      "    0.1435 \n",
      "    0.0635 \n",
      "\n",
      "\n"
     ]
    }
   ],
   "source": [
    "a = af.randu(2, 3)\n",
    "print(a, af.flat(a))"
   ]
  },
  {
   "cell_type": "code",
   "execution_count": null,
   "metadata": {
    "collapsed": true
   },
   "outputs": [],
   "source": []
  }
 ],
 "metadata": {
  "kernelspec": {
   "display_name": "Python 3",
   "language": "python",
   "name": "python3"
  },
  "language_info": {
   "codemirror_mode": {
    "name": "ipython",
    "version": 3
   },
   "file_extension": ".py",
   "mimetype": "text/x-python",
   "name": "python",
   "nbconvert_exporter": "python",
   "pygments_lexer": "ipython3",
   "version": "3.6.1"
  }
 },
 "nbformat": 4,
 "nbformat_minor": 2
}
