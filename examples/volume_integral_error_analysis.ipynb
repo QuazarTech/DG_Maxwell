{
 "cells": [
  {
   "cell_type": "code",
   "execution_count": 1,
   "metadata": {},
   "outputs": [],
   "source": [
    "import os\n",
    "import sys\n",
    "sys.path.insert(0, os.path.abspath('../'))\n",
    "\n",
    "from scipy import integrate\n",
    "import numpy as np\n",
    "from matplotlib import pyplot as plt\n",
    "\n",
    "from dg_maxwell import lagrange\n",
    "from dg_maxwell import isoparam\n",
    "from dg_maxwell import wave_equation\n",
    "from dg_maxwell import params\n",
    "\n",
    "plt.rcParams['figure.figsize']     = 12, 7.5\n",
    "plt.rcParams['lines.linewidth']    = 1.5\n",
    "plt.rcParams['font.family']        = 'serif'\n",
    "plt.rcParams['font.weight']        = 'bold'\n",
    "plt.rcParams['font.size']          = 20  \n",
    "plt.rcParams['font.sans-serif']    = 'serif'\n",
    "plt.rcParams['text.usetex']        = True\n",
    "plt.rcParams['axes.linewidth']     = 1.5\n",
    "plt.rcParams['axes.titlesize']     = 'medium'\n",
    "plt.rcParams['axes.labelsize']     = 'medium'\n",
    "\n",
    "plt.rcParams['xtick.major.size']   = 8\n",
    "plt.rcParams['xtick.minor.size']   = 4\n",
    "plt.rcParams['xtick.major.pad']    = 8\n",
    "plt.rcParams['xtick.minor.pad']    = 8\n",
    "plt.rcParams['xtick.color']        = 'k'\n",
    "plt.rcParams['xtick.labelsize']    = 'medium'\n",
    "plt.rcParams['xtick.direction']    = 'in'    \n",
    "\n",
    "plt.rcParams['ytick.major.size']   = 8\n",
    "plt.rcParams['ytick.minor.size']   = 4\n",
    "plt.rcParams['ytick.major.pad']    = 8\n",
    "plt.rcParams['ytick.minor.pad']    = 8\n",
    "plt.rcParams['ytick.color']        = 'k'\n",
    "plt.rcParams['ytick.labelsize']    = 'medium'\n",
    "plt.rcParams['ytick.direction']    = 'in'\n",
    "plt.rcParams['text.usetex']        = True\n",
    "plt.rcParams['text.latex.unicode'] = True"
   ]
  },
  {
   "cell_type": "code",
   "execution_count": 2,
   "metadata": {},
   "outputs": [],
   "source": [
    "def find_L1_norm(epsilon, dx_dxi, x):\n",
    "    '''\n",
    "    '''\n",
    "    lagrange_basis, temp = lagrange.lagrange_polynomials(x)\n",
    "    \n",
    "    epsilon_interpol = 0.\n",
    "    for i in np.arange(x.shape[0]):\n",
    "        epsilon_interpol += lagrange_basis[i] * epsilon[i]\n",
    "    \n",
    "    return integrate.quad(epsilon_interpol * dx_dxi, -1, 1)[0]\n",
    "\n",
    "\n",
    "def integrate_quad(function, order, scheme = 'gauss_legendre'):\n",
    "    '''\n",
    "    '''\n",
    "    if scheme == 'gauss_legendre':\n",
    "        nodes   = np.array(lagrange.gauss_nodes(order))\n",
    "        weights = np.array(lagrange.gaussian_weights(order))\n",
    "\n",
    "    elif scheme == 'gauss_lobatto':\n",
    "        nodes   = np.array(lagrange.LGL_points(order))\n",
    "        weights = np.array(lagrange.lobatto_weights(order))\n",
    "        \n",
    "    else:\n",
    "        return\n",
    "\n",
    "    integral = 0.\n",
    "\n",
    "    for node, weight in zip(nodes, weights):\n",
    "        integral += weight * function(node)\n",
    "    \n",
    "    return integral"
   ]
  },
  {
   "cell_type": "code",
   "execution_count": 3,
   "metadata": {},
   "outputs": [],
   "source": [
    "def test_function(x):\n",
    "    '''\n",
    "    The test wave function.\n",
    "    '''\n",
    "    return np.sin(2 * np.pi * x)\n",
    "\n",
    "def int_sin2pix_dLdxi(x_nodes, xi_LGL, lagrange_basis_order):\n",
    "    '''\n",
    "    '''\n",
    "    L_i, temp = lagrange.lagrange_polynomials(xi_LGL)\n",
    "    \n",
    "    def sin2pix_dLdxi(xi):\n",
    "        x = (((x_nodes[1] - x_nodes[0]) * xi + (x_nodes[1] + x_nodes[0]))) / 2\n",
    "        return np.sin(2 * np.pi * x) * L_i[lagrange_basis_order].deriv()(xi)\n",
    "    \n",
    "    return integrate.quad(sin2pix_dLdxi, -1, 1)[0]\n"
   ]
  },
  {
   "cell_type": "code",
   "execution_count": 6,
   "metadata": {},
   "outputs": [
    {
     "name": "stdout",
     "output_type": "stream",
     "text": [
      "arrayfire.Array()\n",
      "Type: double\n",
      "\n",
      "[8 8 1 1]\n",
      "   -0.0140    -0.7170    -1.0000    -0.6972     0.0140     0.7170     1.0000     0.6972 \n",
      "   -0.0826    -0.0555     0.0042     0.0614     0.0826     0.0555    -0.0042    -0.0614 \n",
      "   -0.1322    -0.0784     0.0214     0.1086     0.1322     0.0784    -0.0214    -0.1086 \n",
      "   -0.1542    -0.0741     0.0495     0.1440     0.1542     0.0741    -0.0495    -0.1440 \n",
      "   -0.1440    -0.0495     0.0741     0.1542     0.1440     0.0495    -0.0741    -0.1542 \n",
      "   -0.1086    -0.0214     0.0784     0.1322     0.1086     0.0214    -0.0784    -0.1322 \n",
      "   -0.0614    -0.0042     0.0555     0.0826     0.0614     0.0042    -0.0555    -0.0826 \n",
      "    0.6972     1.0000     0.7170     0.0140    -0.6972    -1.0000    -0.7170    -0.0140 \n",
      "\n",
      "\n"
     ]
    }
   ],
   "source": [
    "print(wave_equation.volume_integral_flux(params.u_init))"
   ]
  },
  {
   "cell_type": "code",
   "execution_count": null,
   "metadata": {},
   "outputs": [],
   "source": []
  }
 ],
 "metadata": {
  "kernelspec": {
   "display_name": "Python 3",
   "language": "python",
   "name": "python3"
  },
  "language_info": {
   "codemirror_mode": {
    "name": "ipython",
    "version": 3
   },
   "file_extension": ".py",
   "mimetype": "text/x-python",
   "name": "python",
   "nbconvert_exporter": "python",
   "pygments_lexer": "ipython3",
   "version": "3.5.2"
  }
 },
 "nbformat": 4,
 "nbformat_minor": 2
}
