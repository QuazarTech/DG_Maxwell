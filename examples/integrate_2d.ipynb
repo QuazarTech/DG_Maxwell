{
 "cells": [
  {
   "cell_type": "markdown",
   "metadata": {},
   "source": [
    "# Numerical integration of double variable polynomials\n",
    "This example uses the `integrate_2d` function to calculate\n",
    "the integral\n",
    "$$\\int_{-1}^{1} P_0(x) P_1(y) \\partial x \\partial y$$\n",
    "where $P_0(x)$ and $P_1(y)$ are polynomials.\n",
    "\n",
    "For this example,\n",
    "$$P_0(x) = L^2_i$$\n",
    "$$P_1(y) = L^2_i$$\n",
    "\n",
    "Where,\n",
    "\n",
    "$L_i$, $i \\in \\{0 ... 7\\}$, are the Lagrange polynomials created using $8$ Legendre-Gauss-Lobatto(LGL) points."
   ]
  },
  {
   "cell_type": "code",
   "execution_count": 1,
   "metadata": {},
   "outputs": [],
   "source": [
    "import os\n",
    "import sys\n",
    "sys.path.insert(0, os.path.abspath('../'))\n",
    "\n",
    "import numpy as n\n",
    "import arrayfire as af\n",
    "\n",
    "from dg_maxwell import params\n",
    "from dg_maxwell import utils\n",
    "from dg_maxwell import lagrange\n",
    "from dg_maxwell import wave_equation_2d as w2d\n",
    "\n",
    "af.set_backend(params.backend)"
   ]
  },
  {
   "cell_type": "code",
   "execution_count": 2,
   "metadata": {},
   "outputs": [],
   "source": [
    "N_LGL = 8\n",
    "xi_LGL  = lagrange.LGL_points(N_LGL)\n",
    "eta_LGL = lagrange.LGL_points(N_LGL)\n",
    "_, Li_xi  = lagrange.lagrange_polynomials(xi_LGL)\n",
    "_, Lj_eta = lagrange.lagrange_polynomials(eta_LGL)\n",
    "\n",
    "Li_xi  = af.np_to_af_array(Li_xi)\n",
    "Lj_eta = af.np_to_af_array(Lj_eta)\n",
    "Lp_xi  = Li_xi.copy()\n",
    "Lq_eta = Lj_eta.copy()"
   ]
  },
  {
   "cell_type": "code",
   "execution_count": 3,
   "metadata": {},
   "outputs": [],
   "source": [
    "Li_Lp = utils.poly1d_product(Li_xi, Lp_xi)\n",
    "Lj_Lq = utils.poly1d_product(Lj_eta, Lq_eta)"
   ]
  },
  {
   "cell_type": "code",
   "execution_count": 4,
   "metadata": {},
   "outputs": [],
   "source": [
    "integral_Li_Lp_Lj_Lq = utils.integrate_2d(Li_Lp, Lj_Lq, order = 9, scheme = 'gauss')"
   ]
  },
  {
   "cell_type": "code",
   "execution_count": 5,
   "metadata": {},
   "outputs": [],
   "source": [
    "ref_integral = af.np_to_af_array(np.array([0.00111111111111037,\n",
    "                                           0.0386740852528278,\n",
    "                                           0.101366575556200,\n",
    "                                           0.148195388573733,\n",
    "                                           0.148195388573733,\n",
    "                                           0.101366575556200,\n",
    "                                           0.0386740852528278,\n",
    "                                           0.00111111111111037]))"
   ]
  },
  {
   "cell_type": "code",
   "execution_count": 6,
   "metadata": {},
   "outputs": [],
   "source": [
    "af.display(af.abs(integral_Li_Lp_Lj_Lq - ref_integral), 16)"
   ]
  },
  {
   "cell_type": "code",
   "execution_count": null,
   "metadata": {},
   "outputs": [],
   "source": []
  }
 ],
 "metadata": {
  "kernelspec": {
   "display_name": "Python 3",
   "language": "python",
   "name": "python3"
  },
  "language_info": {
   "codemirror_mode": {
    "name": "ipython",
    "version": 3
   },
   "file_extension": ".py",
   "mimetype": "text/x-python",
   "name": "python",
   "nbconvert_exporter": "python",
   "pygments_lexer": "ipython3",
   "version": "3.6.3"
  }
 },
 "nbformat": 4,
 "nbformat_minor": 2
}
