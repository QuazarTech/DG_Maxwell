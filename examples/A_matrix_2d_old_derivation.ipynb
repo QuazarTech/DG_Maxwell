{
 "cells": [
  {
   "cell_type": "markdown",
   "metadata": {},
   "source": [
    "Calculates A matrix given by\n",
    "\n",
    "$$[A^{pq}_{ij}] = \\iint L_p(\\xi) L_q(\\eta) L_i(\\xi) L_j(\\eta) J \\Big(\\frac{x, y}{\\xi, \\eta} \\Big) d\\xi d\\eta$$"
   ]
  },
  {
   "cell_type": "code",
   "execution_count": 2,
   "metadata": {},
   "outputs": [
    {
     "name": "stdout",
     "output_type": "stream",
     "text": [
      "gmshtranslator friendly reminder: rules and actions prototypes\n",
      "\n",
      "\n",
      "def node_condition(tag,x,y,z,physgroups): \n",
      "def node_action(tag,x,y,z):\n",
      "def element_condition(eletag,eletype,physgrp,nodes):\n",
      "def element_action(eletag,eletype,physgrp,nodes):\n"
     ]
    }
   ],
   "source": [
    "import os\n",
    "import sys\n",
    "sys.path.insert(0, os.path.abspath('../'))\n",
    "\n",
    "import numpy as np\n",
    "from matplotlib import pyplot as plt\n",
    "import arrayfire as af\n",
    "af.set_backend('cpu')\n",
    "\n",
    "from dg_maxwell import utils\n",
    "from dg_maxwell import lagrange\n",
    "from dg_maxwell import wave_equation_2d as w2d\n",
    "from dg_maxwell import msh_parser\n",
    "\n",
    "plt.rcParams['figure.figsize']     = 12, 7.5\n",
    "plt.rcParams['lines.linewidth']    = 1.5\n",
    "plt.rcParams['font.family']        = 'serif'\n",
    "plt.rcParams['font.weight']        = 'bold'\n",
    "plt.rcParams['font.size']          = 20  \n",
    "plt.rcParams['font.sans-serif']    = 'serif'\n",
    "plt.rcParams['text.usetex']        = True\n",
    "plt.rcParams['axes.linewidth']     = 1.5\n",
    "plt.rcParams['axes.titlesize']     = 'medium'\n",
    "plt.rcParams['axes.labelsize']     = 'medium'\n",
    "\n",
    "plt.rcParams['xtick.major.size']   = 8\n",
    "plt.rcParams['xtick.minor.size']   = 4\n",
    "plt.rcParams['xtick.major.pad']    = 8\n",
    "plt.rcParams['xtick.minor.pad']    = 8\n",
    "plt.rcParams['xtick.color']        = 'k'\n",
    "plt.rcParams['xtick.labelsize']    = 'medium'\n",
    "plt.rcParams['xtick.direction']    = 'in'    \n",
    "\n",
    "plt.rcParams['ytick.major.size']   = 8\n",
    "plt.rcParams['ytick.minor.size']   = 4\n",
    "plt.rcParams['ytick.major.pad']    = 8\n",
    "plt.rcParams['ytick.minor.pad']    = 8\n",
    "plt.rcParams['ytick.color']        = 'k'\n",
    "plt.rcParams['ytick.labelsize']    = 'medium'\n",
    "plt.rcParams['ytick.direction']    = 'in'\n",
    "plt.rcParams['text.usetex']        = True\n",
    "plt.rcParams['text.latex.unicode'] = True\n"
   ]
  },
  {
   "cell_type": "code",
   "execution_count": 7,
   "metadata": {},
   "outputs": [],
   "source": [
    "N_LGL   = 8\n",
    "xi_LGL  = lagrange.LGL_points(N_LGL)\n",
    "eta_LGL = lagrange.LGL_points(N_LGL)\n",
    "\n",
    "N_quad   = N_LGL + 1\n",
    "xi_quad  = lagrange.LGL_points(N_quad)\n",
    "eta_quad = lagrange.LGL_points(N_quad)\n",
    "xi_quad, eta_quad = utils.af_meshgrid(xi_quad, eta_quad)\n",
    "xi_quad  = af.moddims(xi_quad, d0 = xi_quad.shape[0] * xi_quad.shape[1])\n",
    "eta_quad = af.moddims(eta_quad, d0 = eta_quad.shape[0] * eta_quad.shape[1])\n",
    "\n",
    "L_basis_poly1d, L_basis_af = lagrange.lagrange_polynomials(xi_LGL)\n",
    "L_basis_af = af.np_to_af_array(L_basis_af)"
   ]
  },
  {
   "cell_type": "code",
   "execution_count": 8,
   "metadata": {},
   "outputs": [],
   "source": [
    "lagrange_basis_index = af.range(N_LGL)\n",
    "Li_xi  = lagrange.Li_basis_value(L_basis_af, lagrange_basis_index, xi_quad)\n",
    "Lj_eta = lagrange.Li_basis_value(L_basis_af, lagrange_basis_index, eta_quad)"
   ]
  },
  {
   "cell_type": "code",
   "execution_count": 11,
   "metadata": {},
   "outputs": [
    {
     "name": "stdout",
     "output_type": "stream",
     "text": [
      "(8, 81)\n",
      "(8, 81)\n"
     ]
    }
   ],
   "source": [
    "print(Li_xi.shape)\n",
    "print(Lj_eta.shape)"
   ]
  },
  {
   "cell_type": "code",
   "execution_count": 13,
   "metadata": {},
   "outputs": [
    {
     "data": {
      "text/plain": [
       "(64, 81)"
      ]
     },
     "execution_count": 13,
     "metadata": {},
     "output_type": "execute_result"
    }
   ],
   "source": [
    "Li_Lj = utils.outer_prod(Li_xi, Lj_eta)\n",
    "Li_Lj = af.reorder(af.moddims(Li_Lj, d0 = N_LGL * N_LGL, d1 = 1, d2 = N_quad * N_quad), d0 = 0, d1 = 2, d2 = 1)\n",
    "Li_Lj.shape"
   ]
  },
  {
   "cell_type": "code",
   "execution_count": 14,
   "metadata": {},
   "outputs": [
    {
     "data": {
      "text/plain": [
       "(64, 64, 81)"
      ]
     },
     "execution_count": 14,
     "metadata": {},
     "output_type": "execute_result"
    }
   ],
   "source": [
    "Lp_Li_Lq_Lj = utils.outer_prod(Li_Lj, Li_Lj)\n",
    "Lp_Li_Lq_Lj.shape"
   ]
  },
  {
   "cell_type": "code",
   "execution_count": 21,
   "metadata": {},
   "outputs": [
    {
     "name": "stdout",
     "output_type": "stream",
     "text": [
      "gmshTranslator: Initializing...\n",
      "gmshTranslator: Mesh has 49 nodes.\n",
      "gmshTranslator: Mesh has 25 elements.\n",
      "gmshTranslator: Processed 78 lines.\n",
      "gmshTranslator: There are 1 physical groups available: \n",
      "gmshTranslator:      > 0\n",
      "gmshTranslator: Parsing nodes\n",
      "gmshTranslator: Parsing elements\n",
      "gmshTranslator: No rules for elements... skipping elements.\n",
      "gmshTranslator: Parsing nodes\n",
      "gmshTranslator: No rules for nodes... skipping nodes.\n",
      "gmshTranslator: Parsing elements\n",
      "(64, 64, 81)\n"
     ]
    }
   ],
   "source": [
    "nodes, elements = msh_parser.read_order_2_msh('read_and_plot_mesh/mesh/rectangular.msh')\n",
    "jacobian = w2d.jacobian(nodes[elements[0], 0], nodes[elements[0], 1], xi_quad, eta_quad)\n",
    "jacobian = af.reorder(jacobian, d0 = 2, d1 = 1, d2 = 0)\n",
    "jacobian = af.tile(jacobian, d0 = Lp_Li_Lq_Lj.shape[0], d1 = Lp_Li_Lq_Lj.shape[1])\n",
    "print(jacobian.shape)"
   ]
  },
  {
   "cell_type": "code",
   "execution_count": 28,
   "metadata": {},
   "outputs": [],
   "source": [
    "# Calculating the gaussian weights\n",
    "\n",
    "g_weights_xi  = lagrange.gaussian_weights(N_quad)\n",
    "g_weights_eta = lagrange.gaussian_weights(N_quad)\n",
    "\n",
    "g_weights_xi_eta = utils.outer_prod(g_weights_xi, g_weights_eta)\n",
    "g_weights_xi_eta = af.moddims(g_weights_xi_eta, d0 = g_weights_xi_eta.shape[0] * g_weights_xi_eta.shape[1])"
   ]
  },
  {
   "cell_type": "code",
   "execution_count": 29,
   "metadata": {},
   "outputs": [
    {
     "name": "stdout",
     "output_type": "stream",
     "text": [
      "(81,)\n"
     ]
    }
   ],
   "source": [
    "print(g_weights_xi_eta.shape)"
   ]
  },
  {
   "cell_type": "code",
   "execution_count": 30,
   "metadata": {},
   "outputs": [
    {
     "name": "stdout",
     "output_type": "stream",
     "text": [
      "(64, 64, 81)\n"
     ]
    }
   ],
   "source": [
    "g_weights_xi_eta = af.reorder(g_weights_xi_eta, d0 = 2, d1 = 1, d2 = 0)\n",
    "g_weights_xi_eta = af.tile(g_weights_xi_eta, d0 = Lp_Li_Lq_Lj.shape[0], d1 = Lp_Li_Lq_Lj.shape[1])\n",
    "print(g_weights_xi_eta.shape)"
   ]
  },
  {
   "cell_type": "code",
   "execution_count": 36,
   "metadata": {},
   "outputs": [],
   "source": [
    "A = af.sum(g_weights_xi_eta * Lp_Li_Lq_Lj * jacobian, dim = 2)"
   ]
  },
  {
   "cell_type": "code",
   "execution_count": 38,
   "metadata": {},
   "outputs": [
    {
     "name": "stdout",
     "output_type": "stream",
     "text": [
      "(64, 64)\n"
     ]
    }
   ],
   "source": [
    "print(A.shape)"
   ]
  },
  {
   "cell_type": "code",
   "execution_count": 51,
   "metadata": {},
   "outputs": [
    {
     "data": {
      "image/png": "[encoded data removed]",
      "text/plain": [
       "<matplotlib.figure.Figure at 0x7f43857a7908>"
      ]
     },
     "metadata": {},
     "output_type": "display_data"
    }
   ],
   "source": [
    "#plot the matrix structure for the matrices.\n",
    "\n",
    "A_matrix_structure = np.zeros((A.shape[0], A.shape[1]))\n",
    "threshold = 1e-4\n",
    "non_zero_indices = np.where(af.abs(A) > threshold)\n",
    "A_matrix_structure[non_zero_indices] = 1.\n",
    "\n",
    "plt.gca().invert_yaxis()\n",
    "plt.contourf(A_matrix_structure, 100, cmap = 'Blues')\n",
    "plt.axes().set_aspect('equal')\n",
    "plt.colorbar()\n",
    "plt.title('Tensor product Structure')\n",
    "plt.savefig('tensor_product_structure.png')\n",
    "plt.show()"
   ]
  },
  {
   "cell_type": "code",
   "execution_count": 5,
   "metadata": {},
   "outputs": [
    {
     "name": "stdout",
     "output_type": "stream",
     "text": [
      "arrayfire.Array()\n",
      "Type: long int\n",
      "\n",
      "[3 1 1 1]\n",
      "         1 \n",
      "         2 \n",
      "         3 \n",
      "\n",
      "\n",
      "arrayfire.Array()\n",
      "Type: long int\n",
      "\n",
      "[3 3 1 1]\n",
      "         1          2          3 \n",
      "         2          4          6 \n",
      "         3          6          9 \n",
      "\n",
      "\n",
      "arrayfire.Array()\n",
      "Type: long int\n",
      "\n",
      "[9 1 1 1]\n",
      "         1 \n",
      "         2 \n",
      "         3 \n",
      "         2 \n",
      "         4 \n",
      "         6 \n",
      "         3 \n",
      "         6 \n",
      "         9 \n",
      "\n",
      "\n",
      "arrayfire.Array()\n",
      "Type: long int\n",
      "\n",
      "[9 9 1 1]\n",
      "         1          2          3          2          4          6          3          6          9 \n",
      "         2          4          6          4          8         12          6         12         18 \n",
      "         3          6          9          6         12         18          9         18         27 \n",
      "         2          4          6          4          8         12          6         12         18 \n",
      "         4          8         12          8         16         24         12         24         36 \n",
      "         6         12         18         12         24         36         18         36         54 \n",
      "         3          6          9          6         12         18          9         18         27 \n",
      "         6         12         18         12         24         36         18         36         54 \n",
      "         9         18         27         18         36         54         27         54         81 \n",
      "\n",
      "\n"
     ]
    }
   ],
   "source": [
    "x = af.range(3, dtype = af.Dtype.u32) + 1\n",
    "print(x)\n",
    "x_x = utils.outer_prod(x, x)\n",
    "print(x_x)\n",
    "x_x = af.moddims(x_x, x.shape[0] * x.shape[0])\n",
    "print(x_x)\n",
    "x_x_x_x = utils.outer_prod(x_x, x_x)\n",
    "print(x_x_x_x)"
   ]
  },
  {
   "cell_type": "code",
   "execution_count": 6,
   "metadata": {},
   "outputs": [
    {
     "name": "stdout",
     "output_type": "stream",
     "text": [
      "[[ 1  2  3  2  4  6  3  6  9]\n",
      " [ 2  4  6  4  8 12  6 12 18]\n",
      " [ 3  6  9  6 12 18  9 18 27]\n",
      " [ 2  4  6  4  8 12  6 12 18]\n",
      " [ 4  8 12  8 16 24 12 24 36]\n",
      " [ 6 12 18 12 24 36 18 36 54]\n",
      " [ 3  6  9  6 12 18  9 18 27]\n",
      " [ 6 12 18 12 24 36 18 36 54]\n",
      " [ 9 18 27 18 36 54 27 54 81]]\n"
     ]
    }
   ],
   "source": [
    "print(np.outer(x_x, x_x))"
   ]
  },
  {
   "cell_type": "code",
   "execution_count": 13,
   "metadata": {},
   "outputs": [],
   "source": [
    "N_quad   = N_LGL + 1\n",
    "xi_quad  = af.range(N_quad, dtype = af.Dtype.u32)\n",
    "eta_quad = af.range(N_quad, dtype = af.Dtype.u32)\n",
    "xi_quad, eta_quad = utils.af_meshgrid(xi_quad, eta_quad)\n",
    "xi_quad  = af.moddims(xi_quad, d0 = xi_quad.shape[0] * xi_quad.shape[1])\n",
    "eta_quad = af.moddims(eta_quad, d0 = eta_quad.shape[0] * eta_quad.shape[1])"
   ]
  },
  {
   "cell_type": "code",
   "execution_count": 22,
   "metadata": {},
   "outputs": [
    {
     "name": "stdout",
     "output_type": "stream",
     "text": [
      "arrayfire.Array()\n",
      "Type: unsigned int\n",
      "\n",
      "[81 1 1 1]\n",
      "         0 \n",
      "         0 \n",
      "         0 \n",
      "         0 \n",
      "         0 \n",
      "         0 \n",
      "         0 \n",
      "         0 \n",
      "         0 \n",
      "         1 \n",
      "         1 \n",
      "         1 \n",
      "         1 \n",
      "         1 \n",
      "         1 \n",
      "         1 \n",
      "         1 \n",
      "         1 \n",
      "         2 \n",
      "         2 \n",
      "         2 \n",
      "         2 \n",
      "         2 \n",
      "         2 \n",
      "         2 \n",
      "         2 \n",
      "         2 \n",
      "         3 \n",
      "         3 \n",
      "         3 \n",
      "         3 \n",
      "         3 \n",
      "         3 \n",
      "         3 \n",
      "         3 \n",
      "         3 \n",
      "         4 \n",
      "         4 \n",
      "         4 \n",
      "         4 \n",
      "         4 \n",
      "         4 \n",
      "         4 \n",
      "         4 \n",
      "         4 \n",
      "         5 \n",
      "         5 \n",
      "         5 \n",
      "         5 \n",
      "         5 \n",
      "         5 \n",
      "         5 \n",
      "         5 \n",
      "         5 \n",
      "         6 \n",
      "         6 \n",
      "         6 \n",
      "         6 \n",
      "         6 \n",
      "         6 \n",
      "         6 \n",
      "         6 \n",
      "         6 \n",
      "         7 \n",
      "         7 \n",
      "         7 \n",
      "         7 \n",
      "         7 \n",
      "         7 \n",
      "         7 \n",
      "         7 \n",
      "         7 \n",
      "         8 \n",
      "         8 \n",
      "         8 \n",
      "         8 \n",
      "         8 \n",
      "         8 \n",
      "         8 \n",
      "         8 \n",
      "         8 \n",
      "\n",
      "\n",
      "arrayfire.Array()\n",
      "Type: unsigned int\n",
      "\n",
      "[81 1 1 1]\n",
      "         0 \n",
      "         1 \n",
      "         2 \n",
      "         3 \n",
      "         4 \n",
      "         5 \n",
      "         6 \n",
      "         7 \n",
      "         8 \n",
      "         0 \n",
      "         1 \n",
      "         2 \n",
      "         3 \n",
      "         4 \n",
      "         5 \n",
      "         6 \n",
      "         7 \n",
      "         8 \n",
      "         0 \n",
      "         1 \n",
      "         2 \n",
      "         3 \n",
      "         4 \n",
      "         5 \n",
      "         6 \n",
      "         7 \n",
      "         8 \n",
      "         0 \n",
      "         1 \n",
      "         2 \n",
      "         3 \n",
      "         4 \n",
      "         5 \n",
      "         6 \n",
      "         7 \n",
      "         8 \n",
      "         0 \n",
      "         1 \n",
      "         2 \n",
      "         3 \n",
      "         4 \n",
      "         5 \n",
      "         6 \n",
      "         7 \n",
      "         8 \n",
      "         0 \n",
      "         1 \n",
      "         2 \n",
      "         3 \n",
      "         4 \n",
      "         5 \n",
      "         6 \n",
      "         7 \n",
      "         8 \n",
      "         0 \n",
      "         1 \n",
      "         2 \n",
      "         3 \n",
      "         4 \n",
      "         5 \n",
      "         6 \n",
      "         7 \n",
      "         8 \n",
      "         0 \n",
      "         1 \n",
      "         2 \n",
      "         3 \n",
      "         4 \n",
      "         5 \n",
      "         6 \n",
      "         7 \n",
      "         8 \n",
      "         0 \n",
      "         1 \n",
      "         2 \n",
      "         3 \n",
      "         4 \n",
      "         5 \n",
      "         6 \n",
      "         7 \n",
      "         8 \n",
      "\n",
      "\n"
     ]
    }
   ],
   "source": [
    "print(xi_quad)\n",
    "print(eta_quad)\n",
    "# for xi, eta in zip(xi_quad, eta_quad):\n",
    "#     print(np.array(xi)[0], np.array(eta)[0])"
   ]
  },
  {
   "cell_type": "code",
   "execution_count": 19,
   "metadata": {},
   "outputs": [
    {
     "name": "stdout",
     "output_type": "stream",
     "text": [
      "gmshTranslator: Ending\n",
      "gmshTranslator: Ending\n",
      "gmshTranslator: Ending\n"
     ]
    },
    {
     "data": {
      "text/plain": [
       "\u001b[0;31mSignature:\u001b[0m \u001b[0maf\u001b[0m\u001b[0;34m.\u001b[0m\u001b[0mtile\u001b[0m\u001b[0;34m(\u001b[0m\u001b[0ma\u001b[0m\u001b[0;34m,\u001b[0m \u001b[0md0\u001b[0m\u001b[0;34m,\u001b[0m \u001b[0md1\u001b[0m\u001b[0;34m=\u001b[0m\u001b[0;36m1\u001b[0m\u001b[0;34m,\u001b[0m \u001b[0md2\u001b[0m\u001b[0;34m=\u001b[0m\u001b[0;36m1\u001b[0m\u001b[0;34m,\u001b[0m \u001b[0md3\u001b[0m\u001b[0;34m=\u001b[0m\u001b[0;36m1\u001b[0m\u001b[0;34m)\u001b[0m\u001b[0;34m\u001b[0m\u001b[0m\n",
       "\u001b[0;31mDocstring:\u001b[0m\n",
       "Tile an array along specified dimensions.\n",
       "\n",
       "Parameters\n",
       "----------\n",
       "\n",
       "a : af.Array.\n",
       "   Multi dimensional array.\n",
       "\n",
       "d0: int.\n",
       "    The number of times `a` has to be tiled along first dimension.\n",
       "\n",
       "d1: optional: int. default: 1.\n",
       "    The number of times `a` has to be tiled along second dimension.\n",
       "\n",
       "d2: optional: int. default: 1.\n",
       "    The number of times `a` has to be tiled along third dimension.\n",
       "\n",
       "d3: optional: int. default: 1.\n",
       "    The number of times `a` has to be tiled along fourth dimension.\n",
       "\n",
       "Returns\n",
       "-------\n",
       "\n",
       "out : af.Array\n",
       "      An array containing the input after tiling the the specified number of times.\n",
       "\n",
       "Examples\n",
       "---------\n",
       "\n",
       ">>> import arrayfire as af\n",
       ">>> a = af.randu(2, 3)\n",
       ">>> b = af.tile(a, 2)\n",
       ">>> c = af.tile(a, 1, 2)\n",
       ">>> d = af.tile(a, 2, 2)\n",
       ">>> af.display(a)\n",
       "[2 3 1 1]\n",
       "    0.9508     0.2591     0.7928\n",
       "    0.5367     0.8359     0.8719\n",
       "\n",
       ">>> af.display(b)\n",
       "[4 3 1 1]\n",
       "    0.4107     0.9518     0.4198\n",
       "    0.8224     0.1794     0.0081\n",
       "    0.4107     0.9518     0.4198\n",
       "    0.8224     0.1794     0.0081\n",
       "\n",
       ">>> af.display(c)\n",
       "[2 6 1 1]\n",
       "    0.4107     0.9518     0.4198     0.4107     0.9518     0.4198\n",
       "    0.8224     0.1794     0.0081     0.8224     0.1794     0.0081\n",
       "\n",
       ">>> af.display(d)\n",
       "[4 6 1 1]\n",
       "    0.4107     0.9518     0.4198     0.4107     0.9518     0.4198\n",
       "    0.8224     0.1794     0.0081     0.8224     0.1794     0.0081\n",
       "    0.4107     0.9518     0.4198     0.4107     0.9518     0.4198\n",
       "    0.8224     0.1794     0.0081     0.8224     0.1794     0.0081\n",
       "\u001b[0;31mFile:\u001b[0m      /usr/local/lib/python3.5/dist-packages/arrayfire/data.py\n",
       "\u001b[0;31mType:\u001b[0m      function\n"
      ]
     },
     "metadata": {},
     "output_type": "display_data"
    }
   ],
   "source": [
    "af.tile?"
   ]
  },
  {
   "cell_type": "code",
   "execution_count": null,
   "metadata": {},
   "outputs": [],
   "source": []
  }
 ],
 "metadata": {
  "kernelspec": {
   "display_name": "Python 3",
   "language": "python",
   "name": "python3"
  },
  "language_info": {
   "codemirror_mode": {
    "name": "ipython",
    "version": 3
   },
   "file_extension": ".py",
   "mimetype": "text/x-python",
   "name": "python",
   "nbconvert_exporter": "python",
   "pygments_lexer": "ipython3",
   "version": "3.6.3"
  }
 },
 "nbformat": 4,
 "nbformat_minor": 2
}
