{
 "cells": [
  {
   "cell_type": "markdown",
   "metadata": {},
   "source": [
    "# Numerical integration of single variable polynomials\n",
    "This example uses the `integrate_1d` function to calculate\n",
    "the integral\n",
    "$$\\int_{-1}^{1} P(x) dx$$\n",
    "where $P(x)$ is a polynomial.\n",
    "\n",
    "For this example,\n",
    "$$P(x) = L^2_i$$\n",
    "\n",
    "Where,\n",
    "\n",
    "$L_i$, $i \\in \\{0 ... 7\\}$, are the Lagrange polynomials created using $8$ Legendre-Gauss-Lobatto(LGL) points."
   ]
  },
  {
   "cell_type": "code",
   "execution_count": 2,
   "metadata": {},
   "outputs": [],
   "source": [
    "import os\n",
    "import sys\n",
    "sys.path.insert(0, os.path.abspath('../'))\n",
    "\n",
    "import arrayfire as af\n",
    "\n",
    "from dg_maxwell import params\n",
    "from dg_maxwell import utils\n",
    "from dg_maxwell import lagrange\n",
    "from dg_maxwell import wave_equation_2d as w2d\n",
    "\n",
    "af.set_backend(params.backend)"
   ]
  },
  {
   "cell_type": "code",
   "execution_count": 3,
   "metadata": {},
   "outputs": [],
   "source": [
    "N_LGL = 8\n",
    "xi_LGL  = lagrange.LGL_points(N_LGL)\n",
    "eta_LGL = lagrange.LGL_points(N_LGL)\n",
    "_, Li_xi  = lagrange.lagrange_polynomials(xi_LGL)\n",
    "_, Lj_eta = lagrange.lagrange_polynomials(eta_LGL)\n",
    "\n",
    "Li_xi  = af.np_to_af_array(Li_xi)\n",
    "Lp_xi  = Li_xi.copy()"
   ]
  },
  {
   "cell_type": "code",
   "execution_count": 4,
   "metadata": {},
   "outputs": [],
   "source": [
    "Li_Lp = utils.poly1d_product(Li_xi, Lp_xi)"
   ]
  },
  {
   "cell_type": "code",
   "execution_count": 5,
   "metadata": {},
   "outputs": [
    {
     "name": "stdout",
     "output_type": "stream",
     "text": [
      "arrayfire.Array()\n",
      "Type: double\n",
      "\n",
      "[8 1 1 1]\n",
      "    0.0333 \n",
      "    0.1967 \n",
      "    0.3184 \n",
      "    0.3850 \n",
      "    0.3850 \n",
      "    0.3184 \n",
      "    0.1967 \n",
      "    0.0333 \n",
      "\n",
      "\n",
      "arrayfire.Array()\n",
      "Type: double\n",
      "\n",
      "[8 1 1 1]\n",
      "    0.0333 \n",
      "    0.1967 \n",
      "    0.3184 \n",
      "    0.3850 \n",
      "    0.3850 \n",
      "    0.3184 \n",
      "    0.1967 \n",
      "    0.0333 \n",
      "\n",
      "\n"
     ]
    }
   ],
   "source": [
    "print(utils.integrate_1d(Li_Lp, order = 9,\n",
    "                         scheme = 'gauss'))\n",
    "print(utils.integrate_1d(Li_Lp, order = N_LGL + 1,\n",
    "                         scheme = 'lobatto'))"
   ]
  },
  {
   "cell_type": "code",
   "execution_count": null,
   "metadata": {},
   "outputs": [],
   "source": []
  }
 ],
 "metadata": {
  "kernelspec": {
   "display_name": "Python 3",
   "language": "python",
   "name": "python3"
  },
  "language_info": {
   "codemirror_mode": {
    "name": "ipython",
    "version": 3
   },
   "file_extension": ".py",
   "mimetype": "text/x-python",
   "name": "python",
   "nbconvert_exporter": "python",
   "pygments_lexer": "ipython3",
   "version": "3.5.2"
  }
 },
 "nbformat": 4,
 "nbformat_minor": 2
}
