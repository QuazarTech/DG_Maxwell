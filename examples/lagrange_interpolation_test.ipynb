{
 "cells": [
  {
   "cell_type": "code",
   "execution_count": 4,
   "metadata": {},
   "outputs": [],
   "source": [
    "import os\n",
    "import sys\n",
    "sys.path.insert(0, os.path.abspath('../'))\n",
    "\n",
    "import numpy as np\n",
    "\n",
    "from dg_maxwell import lagrange\n",
    "from dg_maxwell import isoparam"
   ]
  },
  {
   "cell_type": "code",
   "execution_count": 5,
   "metadata": {},
   "outputs": [],
   "source": [
    "def test_function(x):\n",
    "    return np.sin(2 * np.pi * x)"
   ]
  },
  {
   "cell_type": "code",
   "execution_count": 11,
   "metadata": {},
   "outputs": [
    {
     "name": "stdout",
     "output_type": "stream",
     "text": [
      "[ 0.     0.125  0.25   0.375  0.5    0.625  0.75   0.875  1.   ]\n"
     ]
    }
   ],
   "source": [
    "M = 8\n",
    "x_nodes = np.linspace(0, 1, M + 1)\n",
    "print(x_nodes)"
   ]
  },
  {
   "cell_type": "code",
   "execution_count": 12,
   "metadata": {},
   "outputs": [],
   "source": [
    "x_nodes = np.array([[0.   , 0.125],\n",
    "                    [0.125, 0.25],\n",
    "                    [0.25 , 0.375],\n",
    "                    [0.375, 0.5],\n",
    "                    [0.5  , 0.625],\n",
    "                    [0.625, 0.75],\n",
    "                    [0.75 , 0.875],\n",
    "                    [0.875, 1.]])"
   ]
  },
  {
   "cell_type": "code",
   "execution_count": 34,
   "metadata": {},
   "outputs": [],
   "source": [
    "xi_check = np.linspace(-1, 1, 10)\n",
    "\n",
    "# for N in np.arange(3, 24):\n",
    "N       = 8\n",
    "xi_LGL  = np.array(lagrange.LGL_points(int(N)))\n",
    "x_LGL   = []\n",
    "y       = []\n",
    "x_check = []\n",
    "\n",
    "lagrange_basis, temp = lagrange.lagrange_polynomials(xi_LGL)\n",
    "error = 0.\n",
    "y_interop = 0.\n",
    "\n",
    "for node in x_nodes:\n",
    "    x_LGL.append(isoparam.isoparam_1D(node, xi_LGL))\n",
    "    x_check.append(isoparam.isoparam_1D(node, xi_check))\n",
    "    y.append(test_function(x_LGL[-1]))\n",
    "    \n",
    "    for i in np.arange(len(y[-1])):\n",
    "        y_interop += lagrange_basis[i] * y[-1][i]\n",
    "    y_test = y_interop(xi_check)\n",
    "    "
   ]
  },
  {
   "cell_type": "code",
   "execution_count": 10,
   "metadata": {},
   "outputs": [
    {
     "name": "stdout",
     "output_type": "stream",
     "text": [
      "[  6.58335179e-15   5.03462325e-02   1.59652832e-01   3.05541879e-01\n",
      "   4.57241238e-01   5.85145281e-01   6.70609883e-01   7.07106781e-01]\n",
      "[ 0.70710678  0.74181021  0.81092848  0.88934271  0.95217864  0.98717322\n",
      "  0.99873182  1.        ]\n",
      "[ 1.          0.99873182  0.98717322  0.95217864  0.88934271  0.81092848\n",
      "  0.74181021  0.70710678]\n",
      "[  7.07106781e-01   6.70609883e-01   5.85145281e-01   4.57241238e-01\n",
      "   3.05541879e-01   1.59652832e-01   5.03462325e-02   1.01064310e-15]\n",
      "[ -6.09478426e-15  -5.03462325e-02  -1.59652832e-01  -3.05541879e-01\n",
      "  -4.57241238e-01  -5.85145281e-01  -6.70609883e-01  -7.07106781e-01]\n",
      "[-0.70710678 -0.74181021 -0.81092848 -0.88934271 -0.95217864 -0.98717322\n",
      " -0.99873182 -1.        ]\n",
      "[-1.         -0.99873182 -0.98717322 -0.95217864 -0.88934271 -0.81092848\n",
      " -0.74181021 -0.70710678]\n",
      "[ -7.07106781e-01  -6.70609883e-01  -5.85145281e-01  -4.57241238e-01\n",
      "  -3.05541879e-01  -1.59652832e-01  -5.03462325e-02  -2.02128620e-15]\n"
     ]
    }
   ],
   "source": [
    "for element in y:\n",
    "    print(element)"
   ]
  },
  {
   "cell_type": "code",
   "execution_count": null,
   "metadata": {},
   "outputs": [],
   "source": []
  }
 ],
 "metadata": {
  "kernelspec": {
   "display_name": "Python 3",
   "language": "python",
   "name": "python3"
  },
  "language_info": {
   "codemirror_mode": {
    "name": "ipython",
    "version": 3
   },
   "file_extension": ".py",
   "mimetype": "text/x-python",
   "name": "python",
   "nbconvert_exporter": "python",
   "pygments_lexer": "ipython3",
   "version": "3.5.2"
  }
 },
 "nbformat": 4,
 "nbformat_minor": 2
}
