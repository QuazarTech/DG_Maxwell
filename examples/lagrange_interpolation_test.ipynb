{
 "cells": [
  {
   "cell_type": "code",
   "execution_count": 1,
   "metadata": {},
   "outputs": [],
   "source": [
    "import os\n",
    "import sys\n",
    "sys.path.insert(0, os.path.abspath('../'))\n",
    "\n",
    "import numpy as np\n",
    "from matplotlib import pyplot as plt\n",
    "\n",
    "from dg_maxwell import lagrange\n",
    "from dg_maxwell import isoparam\n",
    "\n",
    "plt.rcParams['figure.figsize']     = 12, 7.5\n",
    "plt.rcParams['lines.linewidth']    = 1.5\n",
    "plt.rcParams['font.family']        = 'serif'\n",
    "plt.rcParams['font.weight']        = 'bold'\n",
    "plt.rcParams['font.size']          = 20  \n",
    "plt.rcParams['font.sans-serif']    = 'serif'\n",
    "plt.rcParams['text.usetex']        = True\n",
    "plt.rcParams['axes.linewidth']     = 1.5\n",
    "plt.rcParams['axes.titlesize']     = 'medium'\n",
    "plt.rcParams['axes.labelsize']     = 'medium'\n",
    "\n",
    "plt.rcParams['xtick.major.size']   = 8\n",
    "plt.rcParams['xtick.minor.size']   = 4\n",
    "plt.rcParams['xtick.major.pad']    = 8\n",
    "plt.rcParams['xtick.minor.pad']    = 8\n",
    "plt.rcParams['xtick.color']        = 'k'\n",
    "plt.rcParams['xtick.labelsize']    = 'medium'\n",
    "plt.rcParams['xtick.direction']    = 'in'    \n",
    "\n",
    "plt.rcParams['ytick.major.size']   = 8\n",
    "plt.rcParams['ytick.minor.size']   = 4\n",
    "plt.rcParams['ytick.major.pad']    = 8\n",
    "plt.rcParams['ytick.minor.pad']    = 8\n",
    "plt.rcParams['ytick.color']        = 'k'\n",
    "plt.rcParams['ytick.labelsize']    = 'medium'\n",
    "plt.rcParams['ytick.direction']    = 'in'\n",
    "plt.rcParams['text.usetex']        = True\n",
    "plt.rcParams['text.latex.unicode'] = True\n"
   ]
  },
  {
   "cell_type": "code",
   "execution_count": 2,
   "metadata": {},
   "outputs": [],
   "source": [
    "def test_function(x):\n",
    "    '''\n",
    "    The test wave function.\n",
    "    '''\n",
    "    return np.sin(2 * np.pi * x)"
   ]
  },
  {
   "cell_type": "code",
   "execution_count": 3,
   "metadata": {},
   "outputs": [],
   "source": [
    "M = 8 # Number of elements\n",
    "x_nodes = np.linspace(0, 1, M + 1) # x nodes dividing the elements"
   ]
  },
  {
   "cell_type": "code",
   "execution_count": 4,
   "metadata": {},
   "outputs": [],
   "source": [
    "x_nodes = np.array([[0.   , 0.125],\n",
    "                    [0.125, 0.25],\n",
    "                    [0.25 , 0.375],\n",
    "                    [0.375, 0.5],\n",
    "                    [0.5  , 0.625],\n",
    "                    [0.625, 0.75],\n",
    "                    [0.75 , 0.875],\n",
    "                    [0.875, 1.]])"
   ]
  },
  {
   "cell_type": "code",
   "execution_count": 10,
   "metadata": {},
   "outputs": [],
   "source": [
    "# The test points at which the analytical and interpolated wave functions\n",
    "# will be compared.\n",
    "xi_check = np.linspace(-.9, .9, 10)\n",
    "L1_norm                = [] # Stores the L1 norm of the interpolated wave function\n",
    "\n",
    "for N in np.arange(3, 31):\n",
    "    xi_LGL     = np.array(lagrange.LGL_points(int(N)))\n",
    "    x_LGL      = [] # x_nodes calculated at the LGL points for an element\n",
    "    x_check    = [] # x coordinates at which the analytical and interpolated functions are compared\n",
    "    \n",
    "    # Test function calculated at the LGL points, to be used for finding the lagrange interpolation.\n",
    "    test_func_LGL = []\n",
    "\n",
    "    lagrange_basis, temp = lagrange.lagrange_polynomials(xi_LGL)\n",
    "    test_func_intepol_poly = 0. # Stores the Lagrange interpolation function for an element.\n",
    "    \n",
    "    # Stores the value of the inerpolated function at the xi_check points for each elements.\n",
    "    test_function_interpol = []\n",
    "    \n",
    "    # This loop loops over all the elements and finds the interpolation function using\n",
    "    # Lagrange basis polynomials and test_func_LGL. It then uses the interpolation function\n",
    "    # to calculate the value of the polynomial at the xi_check points for each element.\n",
    "    for node in x_nodes:\n",
    "        test_func_intepol_poly = 0.\n",
    "        x_LGL.append(isoparam.isoparam_1D(node, xi_LGL))\n",
    "        x_check.extend(isoparam.isoparam_1D(node, xi_check))\n",
    "        test_func_LGL.append(test_function(x_LGL[-1]))\n",
    "\n",
    "        for i in np.arange(len(test_func_LGL[-1])):\n",
    "            test_func_intepol_poly += lagrange_basis[i] * test_func_LGL[-1][i]\n",
    "        test_function_interpol.extend(test_func_intepol_poly(xi_check))\n",
    "\n",
    "    L1_norm.append(np.sum(np.array(test_function_interpol) - test_function(np.array(x_check))))"
   ]
  },
  {
   "cell_type": "code",
   "execution_count": 12,
   "metadata": {},
   "outputs": [
    {
     "data": {
      "image/png": "[encoded data removed]",
      "text/plain": [
       "<matplotlib.figure.Figure at 0x7f5613e21860>"
      ]
     },
     "metadata": {},
     "output_type": "display_data"
    }
   ],
   "source": [
    "plt.title(r'$L_1$ norm vs $N_{LGL}$')\n",
    "plt.xlabel(r'$N_{LGL}$')\n",
    "plt.ylabel(r'$L_1$ norm of error')\n",
    "plt.plot(np.arange(3, 31), L1_norm, 'o')\n",
    "plt.show()"
   ]
  },
  {
   "cell_type": "code",
   "execution_count": null,
   "metadata": {},
   "outputs": [],
   "source": []
  }
 ],
 "metadata": {
  "kernelspec": {
   "display_name": "Python 3",
   "language": "python",
   "name": "python3"
  },
  "language_info": {
   "codemirror_mode": {
    "name": "ipython",
    "version": 3
   },
   "file_extension": ".py",
   "mimetype": "text/x-python",
   "name": "python",
   "nbconvert_exporter": "python",
   "pygments_lexer": "ipython3",
   "version": "3.5.2"
  }
 },
 "nbformat": 4,
 "nbformat_minor": 2
}
