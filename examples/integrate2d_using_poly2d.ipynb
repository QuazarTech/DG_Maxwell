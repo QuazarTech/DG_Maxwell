{
 "cells": [
  {
   "cell_type": "markdown",
   "metadata": {},
   "source": [
    "# Numerical integration of double variable polynomials\n",
    "This example uses the `integrate_2d` function to calculate\n",
    "the integral\n",
    "$$\\int_{-1}^{1} P(x, y) \\partial x \\partial y$$\n",
    "where $P_0(x)$ and $P_1(y)$ are polynomials.\n",
    "\n",
    "For this example,\n",
    "$$P_0(x) = L^2_i$$\n",
    "$$P_1(y) = L^2_i$$\n",
    "\n",
    "Where,\n",
    "\n",
    "$L_i$, $i \\in \\{0 ... 7\\}$, are the Lagrange polynomials created using $8$ Legendre-Gauss-Lobatto(LGL) points."
   ]
  },
  {
   "cell_type": "code",
   "execution_count": 1,
   "metadata": {},
   "outputs": [
    {
     "name": "stderr",
     "output_type": "stream",
     "text": [
      "/home/ubermensch/.local/anaconda3/lib/python3.6/site-packages/numpy/lib/polynomial.py:1193: FutureWarning: In the future extra properties will not be copied across when constructing one poly1d from another\n",
      "  other = poly1d(other)\n",
      "/home/ubermensch/.local/anaconda3/lib/python3.6/site-packages/numpy/lib/polynomial.py:1220: FutureWarning: In the future extra properties will not be copied across when constructing one poly1d from another\n",
      "  other = poly1d(other)\n"
     ]
    }
   ],
   "source": [
    "import os\n",
    "import sys\n",
    "sys.path.insert(0, os.path.abspath('../'))\n",
    "\n",
    "import numpy as np\n",
    "import arrayfire as af\n",
    "\n",
    "from dg_maxwell import params\n",
    "from dg_maxwell import utils\n",
    "from dg_maxwell import lagrange\n",
    "from dg_maxwell import wave_equation_2d as w2d\n",
    "\n",
    "af.set_backend(params.backend)"
   ]
  },
  {
   "cell_type": "code",
   "execution_count": 1,
   "metadata": {},
   "outputs": [
    {
     "ename": "NameError",
     "evalue": "name 'af' is not defined",
     "output_type": "error",
     "traceback": [
      "\u001b[0;31m---------------------------------------------------------------------------\u001b[0m",
      "\u001b[0;31mNameError\u001b[0m                                 Traceback (most recent call last)",
      "\u001b[0;32m<ipython-input-1-97732541182f>\u001b[0m in \u001b[0;36m<module>\u001b[0;34m()\u001b[0m\n\u001b[1;32m      1\u001b[0m \u001b[0mP_xi_degree\u001b[0m \u001b[0;34m=\u001b[0m \u001b[0;36m4\u001b[0m\u001b[0;34m\u001b[0m\u001b[0m\n\u001b[0;32m----> 2\u001b[0;31m \u001b[0mP_xi\u001b[0m \u001b[0;34m=\u001b[0m \u001b[0maf\u001b[0m\u001b[0;34m.\u001b[0m\u001b[0mflip\u001b[0m\u001b[0;34m(\u001b[0m\u001b[0maf\u001b[0m\u001b[0;34m.\u001b[0m\u001b[0mnp_to_af_array\u001b[0m\u001b[0;34m(\u001b[0m\u001b[0mnp\u001b[0m\u001b[0;34m.\u001b[0m\u001b[0marange\u001b[0m\u001b[0;34m(\u001b[0m\u001b[0;36m1\u001b[0m\u001b[0;34m,\u001b[0m \u001b[0mP_xi_degree\u001b[0m\u001b[0;34m,\u001b[0m \u001b[0mdtype\u001b[0m \u001b[0;34m=\u001b[0m \u001b[0mnp\u001b[0m\u001b[0;34m.\u001b[0m\u001b[0mfloat64\u001b[0m\u001b[0;34m)\u001b[0m\u001b[0;34m)\u001b[0m\u001b[0;34m)\u001b[0m\u001b[0;34m\u001b[0m\u001b[0m\n\u001b[0m\u001b[1;32m      3\u001b[0m \u001b[0;34m\u001b[0m\u001b[0m\n\u001b[1;32m      4\u001b[0m \u001b[0mP_eta_degree\u001b[0m \u001b[0;34m=\u001b[0m \u001b[0;36m4\u001b[0m\u001b[0;34m\u001b[0m\u001b[0m\n\u001b[1;32m      5\u001b[0m \u001b[0mP_eta\u001b[0m \u001b[0;34m=\u001b[0m \u001b[0maf\u001b[0m\u001b[0;34m.\u001b[0m\u001b[0mflip\u001b[0m\u001b[0;34m(\u001b[0m\u001b[0maf\u001b[0m\u001b[0;34m.\u001b[0m\u001b[0mnp_to_af_array\u001b[0m\u001b[0;34m(\u001b[0m\u001b[0mnp\u001b[0m\u001b[0;34m.\u001b[0m\u001b[0marange\u001b[0m\u001b[0;34m(\u001b[0m\u001b[0;36m1\u001b[0m\u001b[0;34m,\u001b[0m \u001b[0mP_eta_degree\u001b[0m\u001b[0;34m,\u001b[0m \u001b[0mdtype\u001b[0m \u001b[0;34m=\u001b[0m \u001b[0mnp\u001b[0m\u001b[0;34m.\u001b[0m\u001b[0mfloat64\u001b[0m\u001b[0;34m)\u001b[0m\u001b[0;34m)\u001b[0m\u001b[0;34m)\u001b[0m\u001b[0;34m\u001b[0m\u001b[0m\n",
      "\u001b[0;31mNameError\u001b[0m: name 'af' is not defined"
     ]
    }
   ],
   "source": [
    "P_xi_degree = 4\n",
    "P_xi = af.flip(af.np_to_af_array(np.arange(1, P_xi_degree, dtype = np.float64)))\n",
    "\n",
    "P_eta_degree = 4\n",
    "P_eta = af.flip(af.np_to_af_array(np.arange(1, P_eta_degree, dtype = np.float64)))\n",
    "\n",
    "P_xi_eta = utils.polynomial_product_coeffs(P_xi, P_eta)\n",
    "\n",
    "ref_integral = 16"
   ]
  },
  {
   "cell_type": "code",
   "execution_count": 31,
   "metadata": {},
   "outputs": [
    {
     "name": "stdout",
     "output_type": "stream",
     "text": [
      "1.4033219031261979e-12\n"
     ]
    },
    {
     "name": "stderr",
     "output_type": "stream",
     "text": [
      "/home/ubermensch/.local/anaconda3/lib/python3.6/site-packages/numpy/lib/polynomial.py:1193: FutureWarning: In the future extra properties will not be copied across when constructing one poly1d from another\n",
      "  other = poly1d(other)\n",
      "/home/ubermensch/.local/anaconda3/lib/python3.6/site-packages/numpy/lib/polynomial.py:1220: FutureWarning: In the future extra properties will not be copied across when constructing one poly1d from another\n",
      "  other = poly1d(other)\n"
     ]
    }
   ],
   "source": [
    "# Gauss-Lobatto Quadrature\n",
    "N_quad = 9\n",
    "xi_LGL  = lagrange.LGL_points(N_quad)\n",
    "eta_LGL = lagrange.LGL_points(N_quad)\n",
    "\n",
    "Xi, Eta = utils.af_meshgrid(xi_LGL, eta_LGL)\n",
    "\n",
    "Xi  = af.flat(Xi)\n",
    "Eta = af.flat(Eta)\n",
    "\n",
    "w_i = lagrange.lobatto_weights(N_quad)\n",
    "w_j = lagrange.lobatto_weights(N_quad)\n",
    "\n",
    "W_i, W_j = utils.af_meshgrid(w_i, w_j)\n",
    "\n",
    "W_i = af.flat(W_i)\n",
    "W_j = af.flat(W_j)\n",
    "\n",
    "P_xi_eta_quad_val = utils.polyval_2d(P_xi_eta, Xi, Eta)\n",
    "\n",
    "integral = af.sum(W_i * W_j * P_xi_eta_quad_val)\n",
    "print(ref_integral - integral)"
   ]
  },
  {
   "cell_type": "code",
   "execution_count": 33,
   "metadata": {},
   "outputs": [
    {
     "name": "stdout",
     "output_type": "stream",
     "text": [
      "1.794120407794253e-13\n"
     ]
    }
   ],
   "source": [
    "# Legendre-Gauss Quadrature\n",
    "N_quad = 9\n",
    "xi_gauss  = af.np_to_af_array(lagrange.gauss_nodes(N_quad))\n",
    "eta_gauss = af.np_to_af_array(lagrange.gauss_nodes(N_quad))\n",
    "\n",
    "Xi, Eta = utils.af_meshgrid(xi_gauss, eta_gauss)\n",
    "\n",
    "Xi  = af.flat(Xi)\n",
    "Eta = af.flat(Eta)\n",
    "\n",
    "w_i = lagrange.gaussian_weights(N_quad)\n",
    "w_j = lagrange.gaussian_weights(N_quad)\n",
    "\n",
    "W_i, W_j = utils.af_meshgrid(w_i, w_j)\n",
    "\n",
    "W_i = af.flat(W_i)\n",
    "W_j = af.flat(W_j)\n",
    "\n",
    "P_xi_eta_quad_val = utils.polyval_2d(P_xi_eta, Xi, Eta)\n",
    "\n",
    "integral = af.sum(W_i * W_j * P_xi_eta_quad_val)\n",
    "print(ref_integral - integral)"
   ]
  },
  {
   "cell_type": "code",
   "execution_count": 22,
   "metadata": {},
   "outputs": [
    {
     "name": "stdout",
     "output_type": "stream",
     "text": [
      "16.00000000000336\n",
      "3.360867140145274e-12\n"
     ]
    },
    {
     "name": "stderr",
     "output_type": "stream",
     "text": [
      "/home/ubermensch/.local/anaconda3/lib/python3.6/site-packages/numpy/lib/polynomial.py:1193: FutureWarning: In the future extra properties will not be copied across when constructing one poly1d from another\n",
      "  other = poly1d(other)\n",
      "/home/ubermensch/.local/anaconda3/lib/python3.6/site-packages/numpy/lib/polynomial.py:1220: FutureWarning: In the future extra properties will not be copied across when constructing one poly1d from another\n",
      "  other = poly1d(other)\n"
     ]
    }
   ],
   "source": [
    "# Example function usage\n",
    "\n",
    "integral= utils.integrate_2d_multivar_poly(P_xi_eta, N_quad = 11, scheme = 'lobatto')\n",
    "print(integral)\n",
    "\n",
    "print(abs(integral - ref_integral))"
   ]
  },
  {
   "cell_type": "code",
   "execution_count": null,
   "metadata": {},
   "outputs": [],
   "source": []
  }
 ],
 "metadata": {
  "kernelspec": {
   "display_name": "Python 3",
   "language": "python",
   "name": "python3"
  },
  "language_info": {
   "codemirror_mode": {
    "name": "ipython",
    "version": 3
   },
   "file_extension": ".py",
   "mimetype": "text/x-python",
   "name": "python",
   "nbconvert_exporter": "python",
   "pygments_lexer": "ipython3",
   "version": "3.6.3"
  }
 },
 "nbformat": 4,
 "nbformat_minor": 2
}
