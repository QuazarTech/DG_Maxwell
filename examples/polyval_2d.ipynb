{
 "cells": [
  {
   "cell_type": "code",
   "execution_count": 1,
   "metadata": {},
   "outputs": [],
   "source": [
    "import os\n",
    "import sys\n",
    "sys.path.insert(0, os.path.abspath('../'))\n",
    "\n",
    "import numpy as np\n",
    "from matplotlib import pyplot as plt\n",
    "import arrayfire as af\n",
    "af.set_backend('cpu')\n",
    "\n",
    "from dg_maxwell import utils\n",
    "from dg_maxwell import lagrange\n",
    "\n",
    "plt.rcParams['figure.figsize']     = 12, 7.5\n",
    "plt.rcParams['lines.linewidth']    = 1.5\n",
    "plt.rcParams['font.family']        = 'serif'\n",
    "plt.rcParams['font.weight']        = 'bold'\n",
    "plt.rcParams['font.size']          = 20\n",
    "plt.rcParams['font.sans-serif']    = 'serif'\n",
    "plt.rcParams['text.usetex']        = True\n",
    "plt.rcParams['axes.linewidth']     = 1.5\n",
    "plt.rcParams['axes.titlesize']     = 'medium'\n",
    "plt.rcParams['axes.labelsize']     = 'medium'\n",
    "\n",
    "plt.rcParams['xtick.major.size']   = 8\n",
    "plt.rcParams['xtick.minor.size']   = 4\n",
    "plt.rcParams['xtick.major.pad']    = 8\n",
    "plt.rcParams['xtick.minor.pad']    = 8\n",
    "plt.rcParams['xtick.color']        = 'k'\n",
    "plt.rcParams['xtick.labelsize']    = 'medium'\n",
    "plt.rcParams['xtick.direction']    = 'in'    \n",
    "\n",
    "plt.rcParams['ytick.major.size']   = 8\n",
    "plt.rcParams['ytick.minor.size']   = 4\n",
    "plt.rcParams['ytick.major.pad']    = 8\n",
    "plt.rcParams['ytick.minor.pad']    = 8\n",
    "plt.rcParams['ytick.color']        = 'k'\n",
    "plt.rcParams['ytick.labelsize']    = 'medium'\n",
    "plt.rcParams['ytick.direction']    = 'in'\n",
    "plt.rcParams['text.usetex']        = True\n",
    "plt.rcParams['text.latex.unicode'] = True"
   ]
  },
  {
   "cell_type": "code",
   "execution_count": 2,
   "metadata": {},
   "outputs": [],
   "source": [
    "N_LGL = 8\n",
    "xi_LGL = lagrange.LGL_points(N_LGL)\n",
    "L_basis_poly1d, L_basis_af = lagrange.lagrange_polynomials(xi_LGL)\n",
    "L_basis_af = af.np_to_af_array(L_basis_af)"
   ]
  },
  {
   "cell_type": "code",
   "execution_count": 3,
   "metadata": {},
   "outputs": [
    {
     "name": "stdout",
     "output_type": "stream",
     "text": [
      "arrayfire.Array()\n",
      "Type: float\n",
      "\n",
      "[1 1 1 1]\n",
      "    0.2000 \n",
      "\n",
      "arrayfire.Array()\n",
      "Type: double\n",
      "\n",
      "[1 10 1 1]\n",
      "   -1.0000    -0.7778    -0.5556    -0.3333    -0.1111     0.1111     0.3333     0.5556     0.7778     1.0000 \n",
      "\n",
      "arrayfire.Array()\n",
      "Type: float\n",
      "\n",
      "[1 10 1 1]\n",
      "    0.2000     0.2000     0.2000     0.2000     0.2000     0.2000     0.2000     0.2000     0.2000     0.2000 \n",
      "\n"
     ]
    }
   ],
   "source": [
    "# Polyval 2D\n",
    "polynomials = L_basis_af\n",
    "\n",
    "x = utils.linspace(-1, 1, 10)\n",
    "y = utils.linspace(-1, 1, 2)\n",
    "y = af.Array([0.2])\n",
    "print(y)\n",
    "x, y = utils.af_meshgrid(x, y)\n",
    "\n",
    "print(x)\n",
    "print(y)"
   ]
  },
  {
   "cell_type": "code",
   "execution_count": 4,
   "metadata": {},
   "outputs": [
    {
     "name": "stdout",
     "output_type": "stream",
     "text": [
      "[1, 10, 1, 1]\n",
      "(1, 10)\n",
      "(8, 10)\n",
      "(8, 10)\n",
      "(8, 8)\n",
      "(8, 10)\n",
      "(8, 8)\n"
     ]
    }
   ],
   "source": [
    "N = int(polynomials.shape[1])\n",
    "print(utils.shape(x))\n",
    "print(y.shape)\n",
    "x = af.reorder(x, d0 = 2, d1 = 1, d2 = 0)\n",
    "y = af.reorder(y, d0 = 2, d1 = 1, d2 = 0)\n",
    "x = af.tile(x, d0 = N)\n",
    "y = af.tile(y, d0 = N)\n",
    "print(x.shape)\n",
    "print(y.shape)\n",
    "\n",
    "power_x = af.tile(af.range(N), d0 = 1, d1 = utils.shape(x)[1], d2 = utils.shape(x)[2])\n",
    "power_y = af.flip(power_x, dim = 0)\n",
    "\n",
    "x_power = x ** power_x\n",
    "y_power = y ** power_y\n",
    "\n",
    "xy = x_power * y_power\n",
    "print(af.tile(polynomials, d0 = 1, d1 = 1, d2 = utils.shape(xy)[2]).shape)\n",
    "print(xy.shape)\n",
    "print(af.tile(polynomials, d0 = 1, d1 = 1, d2 = utils.shape(xy)[2]).shape)\n",
    "polyval = utils.matmul_3D(af.tile(polynomials, d0 = 1, d1 = 1, d2 = utils.shape(xy)[2]), xy)"
   ]
  },
  {
   "cell_type": "code",
   "execution_count": 5,
   "metadata": {},
   "outputs": [
    {
     "name": "stdout",
     "output_type": "stream",
     "text": [
      "arrayfire.Array()\n",
      "Type: double\n",
      "\n",
      "[8 10 1 1]\n",
      "    0.0034    -0.0032    -0.0009     0.0000    -0.0000    -0.0000    -0.0000     0.0004     0.0019    -0.0023 \n",
      "   -0.0099     0.0094     0.0027    -0.0000     0.0001     0.0000     0.0000    -0.0011    -0.0051     0.0062 \n",
      "    0.0216    -0.0219    -0.0076    -0.0005    -0.0001    -0.0000    -0.0000     0.0018     0.0086    -0.0107 \n",
      "   -0.9992    -0.1683    -0.0128     0.0000     0.0001     0.0001     0.0000    -0.0034    -0.0173     0.0227 \n",
      "   -0.0227     0.0173     0.0034    -0.0000    -0.0001    -0.0001    -0.0000     0.0128     0.1683     0.9992 \n",
      "    0.0107    -0.0086    -0.0018     0.0000     0.0000     0.0001     0.0005     0.0076     0.0219    -0.0216 \n",
      "   -0.0062     0.0051     0.0011    -0.0000    -0.0000    -0.0001     0.0000    -0.0027    -0.0094     0.0099 \n",
      "    0.0023    -0.0019    -0.0004     0.0000     0.0000     0.0000    -0.0000     0.0009     0.0032    -0.0034 \n",
      "\n",
      "\n"
     ]
    }
   ],
   "source": [
    "print(polyval)"
   ]
  },
  {
   "cell_type": "code",
   "execution_count": null,
   "metadata": {},
   "outputs": [],
   "source": []
  }
 ],
 "metadata": {
  "kernelspec": {
   "display_name": "Python 3",
   "language": "python",
   "name": "python3"
  },
  "language_info": {
   "codemirror_mode": {
    "name": "ipython",
    "version": 3
   },
   "file_extension": ".py",
   "mimetype": "text/x-python",
   "name": "python",
   "nbconvert_exporter": "python",
   "pygments_lexer": "ipython3",
   "version": "3.6.3"
  }
 },
 "nbformat": 4,
 "nbformat_minor": 2
}
