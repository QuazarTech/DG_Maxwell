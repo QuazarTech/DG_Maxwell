{
 "cells": [
  {
   "cell_type": "code",
   "execution_count": 1,
   "metadata": {},
   "outputs": [
    {
     "name": "stderr",
     "output_type": "stream",
     "text": [
      "/home/bala/anaconda3/lib/python3.6/site-packages/numpy/lib/polynomial.py:1187: FutureWarning: In the future extra properties will not be copied across when constructing one poly1d from another\n",
      "  other = poly1d(other)\n",
      "/home/bala/anaconda3/lib/python3.6/site-packages/numpy/lib/polynomial.py:1214: FutureWarning: In the future extra properties will not be copied across when constructing one poly1d from another\n",
      "  other = poly1d(other)\n"
     ]
    },
    {
     "name": "stdout",
     "output_type": "stream",
     "text": [
      "gmshtranslator friendly reminder: rules and actions prototypes\n",
      "\n",
      "\n",
      "def node_condition(tag,x,y,z,physgroups): \n",
      "def node_action(tag,x,y,z):\n",
      "def element_condition(eletag,eletype,physgrp,nodes):\n",
      "def element_action(eletag,eletype,physgrp,nodes):\n"
     ]
    }
   ],
   "source": [
    "import os\n",
    "import sys\n",
    "sys.path.insert(0, os.path.abspath('../'))\n",
    "\n",
    "import numpy as np\n",
    "from matplotlib import pyplot as plt\n",
    "from mpl_toolkits.mplot3d import Axes3D as ax\n",
    "import arrayfire as af\n",
    "\n",
    "from dg_maxwell import params\n",
    "from dg_maxwell import utils\n",
    "from dg_maxwell import lagrange\n",
    "from dg_maxwell import wave_equation_2d as w2d\n",
    "from dg_maxwell import msh_parser\n",
    "from dg_maxwell import isoparam\n",
    "\n",
    "af.set_backend(params.backend)"
   ]
  },
  {
   "cell_type": "code",
   "execution_count": 20,
   "metadata": {},
   "outputs": [
    {
     "name": "stderr",
     "output_type": "stream",
     "text": [
      "/home/bala/anaconda3/lib/python3.6/site-packages/numpy/lib/polynomial.py:1187: FutureWarning: In the future extra properties will not be copied across when constructing one poly1d from another\n",
      "  other = poly1d(other)\n",
      "/home/bala/anaconda3/lib/python3.6/site-packages/numpy/lib/polynomial.py:1214: FutureWarning: In the future extra properties will not be copied across when constructing one poly1d from another\n",
      "  other = poly1d(other)\n"
     ]
    }
   ],
   "source": [
    "N_LGL = 8\n",
    "xi_LGL  = (lagrange.LGL_points(N_LGL))\n",
    "eta_LGL = (lagrange.LGL_points(N_LGL))\n",
    "\n",
    "Xi, Eta = utils.af_meshgrid(xi_LGL, eta_LGL)\n",
    "\n",
    "eta = af.tile(eta_LGL, N_LGL)\n",
    "xi = af.flat(af.transpose(af.tile(xi_LGL, 1, N_LGL)))\n",
    "\n",
    "_, L_p = lagrange.lagrange_polynomials(xi_LGL)\n",
    "_, L_q = lagrange.lagrange_polynomials(eta_LGL)\n",
    "\n",
    "L_p = af.np_to_af_array(L_p)\n",
    "L_q = af.np_to_af_array(L_q)"
   ]
  },
  {
   "cell_type": "code",
<<<<<<< HEAD
   "execution_count": 23,
   "metadata": {},
   "outputs": [
    {
     "name": "stdout",
     "output_type": "stream",
     "text": [
      "arrayfire.Array()\n",
      "Type: double\n",
      "\n",
      "[64 1 1 1]\n",
      "   -1.0000 \n",
      "   -0.8717 \n",
      "   -0.5917 \n",
      "   -0.2093 \n",
      "    0.2093 \n",
      "    0.5917 \n",
      "    0.8717 \n",
      "    1.0000 \n",
      "   -1.0000 \n",
      "   -0.8717 \n",
      "   -0.5917 \n",
      "   -0.2093 \n",
      "    0.2093 \n",
      "    0.5917 \n",
      "    0.8717 \n",
      "    1.0000 \n",
      "   -1.0000 \n",
      "   -0.8717 \n",
      "   -0.5917 \n",
      "   -0.2093 \n",
      "    0.2093 \n",
      "    0.5917 \n",
      "    0.8717 \n",
      "    1.0000 \n",
      "   -1.0000 \n",
      "   -0.8717 \n",
      "   -0.5917 \n",
      "   -0.2093 \n",
      "    0.2093 \n",
      "    0.5917 \n",
      "    0.8717 \n",
      "    1.0000 \n",
      "   -1.0000 \n",
      "   -0.8717 \n",
      "   -0.5917 \n",
      "   -0.2093 \n",
      "    0.2093 \n",
      "    0.5917 \n",
      "    0.8717 \n",
      "    1.0000 \n",
      "   -1.0000 \n",
      "   -0.8717 \n",
      "   -0.5917 \n",
      "   -0.2093 \n",
      "    0.2093 \n",
      "    0.5917 \n",
      "    0.8717 \n",
      "    1.0000 \n",
      "   -1.0000 \n",
      "   -0.8717 \n",
      "   -0.5917 \n",
      "   -0.2093 \n",
      "    0.2093 \n",
      "    0.5917 \n",
      "    0.8717 \n",
      "    1.0000 \n",
      "   -1.0000 \n",
      "   -0.8717 \n",
      "   -0.5917 \n",
      "   -0.2093 \n",
      "    0.2093 \n",
      "    0.5917 \n",
      "    0.8717 \n",
      "    1.0000 \n",
      "\n",
      "\n"
     ]
    }
   ],
   "source": [
    "print(eta)"
   ]
  },
  {
   "cell_type": "code",
   "execution_count": 4,
=======
   "execution_count": 3,
>>>>>>> 24ad7811eefdc05cb59c8676ce8659685e9a8599
   "metadata": {
    "collapsed": true
   },
   "outputs": [],
   "source": [
    "dLp_dxi  = utils.polynomial_derivative(L_p)\n",
    "dLq_deta = utils.polynomial_derivative(L_q)"
   ]
  },
  {
   "cell_type": "code",
   "execution_count": 26,
   "metadata": {},
   "outputs": [
    {
     "name": "stdout",
     "output_type": "stream",
     "text": [
      "0.0\n"
     ]
    }
   ],
   "source": [
    "print(af.sum(dLp_dxi - params.dl_dxi_coeffs))"
   ]
  },
  {
   "cell_type": "code",
   "execution_count": null,
   "metadata": {
    "collapsed": true
   },
   "outputs": [],
   "source": []
  },
  {
   "cell_type": "code",
   "execution_count": null,
   "metadata": {
    "collapsed": true
   },
   "outputs": [],
   "source": []
  },
  {
   "cell_type": "code",
   "execution_count": 5,
   "metadata": {},
   "outputs": [
    {
     "name": "stdout",
     "output_type": "stream",
     "text": [
      "gmshTranslator: Initializing...\n",
      "gmshTranslator: Mesh has 10 nodes.\n",
      "gmshTranslator: Mesh has 10 elements.\n",
      "gmshTranslator: Processed 24 lines.\n",
      "gmshTranslator: There are 1 physical groups available: \n",
      "gmshTranslator:      > 0\n",
      "gmshTranslator: Parsing nodes\n",
      "gmshTranslator: Parsing elements\n",
      "gmshTranslator: No rules for elements... skipping elements.\n",
      "gmshTranslator: Parsing nodes\n",
      "gmshTranslator: No rules for nodes... skipping nodes.\n",
      "gmshTranslator: Parsing elements\n"
     ]
    }
   ],
   "source": [
    "nodes, elements = msh_parser.read_order_2_msh('read_and_plot_mesh/mesh/square_single_element.msh')"
   ]
  },
  {
   "cell_type": "code",
   "execution_count": 6,
   "metadata": {
    "collapsed": true
   },
   "outputs": [],
   "source": [
    "dxi_dx  = w2d.dxi_dx(nodes[elements[0]][:, 0], nodes[elements[0]][:, 1], xi, eta)\n",
    "dxi_dy  = w2d.dxi_dy(nodes[elements[0]][:, 0], nodes[elements[0]][:, 1], xi, eta)\n",
    "deta_dx = w2d.deta_dx(nodes[elements[0]][:, 0], nodes[elements[0]][:, 1], xi, eta)\n",
    "deta_dy = w2d.deta_dy(nodes[elements[0]][:, 0], nodes[elements[0]][:, 1], xi, eta)"
   ]
  },
  {
   "cell_type": "code",
<<<<<<< HEAD
   "execution_count": 7,
   "metadata": {},
   "outputs": [
    {
     "name": "stdout",
     "output_type": "stream",
     "text": [
      "gmshTranslator: Ending\n"
     ]
    }
   ],
=======
   "execution_count": 6,
   "metadata": {
    "collapsed": true
   },
   "outputs": [],
>>>>>>> 24ad7811eefdc05cb59c8676ce8659685e9a8599
   "source": [
    "def F_xi(u):\n",
    "    '''\n",
    "    '''\n",
    "    dxi_dx  = w2d.dxi_dx(nodes[elements[0]][:, 0], nodes[elements[0]][:, 1], xi, eta)\n",
    "    dxi_dy  = w2d.dxi_dy(nodes[elements[0]][:, 0], nodes[elements[0]][:, 1], xi, eta)\n",
    "    \n",
    "    return w2d.F_x(u) * dxi_dx + w2d.F_y(u) * dxi_dy\n",
    "\n",
    "def F_eta(u):\n",
    "    '''\n",
    "    '''\n",
    "    deta_dx = w2d.deta_dx(nodes[elements[0]][:, 0], nodes[elements[0]][:, 1], xi, eta)\n",
    "    deta_dy = w2d.deta_dy(nodes[elements[0]][:, 0], nodes[elements[0]][:, 1], xi, eta)\n",
    "    \n",
    "    return w2d.F_x(u) * deta_dx + w2d.F_y(u) * deta_dy"
   ]
  },
  {
   "cell_type": "code",
<<<<<<< HEAD
   "execution_count": 8,
=======
   "execution_count": 7,
>>>>>>> 24ad7811eefdc05cb59c8676ce8659685e9a8599
   "metadata": {
    "collapsed": true
   },
   "outputs": [],
   "source": [
    "def g_dd(x_nodes, y_nodes, xi, eta):\n",
    "    '''\n",
    "    '''\n",
    "    ans00  =   (w2d.dx_dxi(x_nodes, xi, eta))**2 \\\n",
    "             + (w2d.dy_dxi(y_nodes, xi, eta))**2\n",
    "    ans11  =   (w2d.dx_deta(x_nodes, xi, eta))**2 \\\n",
    "             + (w2d.dy_deta(y_nodes, xi, eta))**2\n",
    "    \n",
    "    ans01  =  (w2d.dx_dxi(x_nodes, xi, eta))  \\\n",
    "            * (w2d.dx_deta(x_nodes, xi, eta)) \\\n",
    "            + (w2d.dy_dxi(y_nodes, xi, eta))  \\\n",
    "            * (w2d.dy_deta(y_nodes, xi, eta))\n",
    "    \n",
    "    ans =  [[ans00, ans01],\n",
    "            [ans01, ans11]\n",
    "           ]\n",
    "    \n",
    "    return ans\n",
    "\n",
    "\n",
    "def g_uu(x_nodes, y_nodes, xi, eta):\n",
    "    gCov = g_dd(x_nodes, y_nodes, xi, eta)\n",
    "    \n",
    "    \n",
    "    a = gCov[0][0]\n",
    "    b = gCov[0][1]\n",
    "    c = gCov[1][0]\n",
    "    d = gCov[1][1]\n",
    "    \n",
    "    det = (a*d - b*c)\n",
    "    \n",
    "    ans = [[d / det, -b / det],\n",
    "           [-c / det, a / det]]\n",
    "    \n",
    "    return ans\n",
    "\n",
    "\n",
    "def sqrtgDet(x_nodes, y_nodes, xi, eta):\n",
    "    '''\n",
    "    '''\n",
    "    gCov = g_dd(x_nodes, y_nodes, xi, eta)\n",
    "    \n",
    "    a = gCov[0][0]\n",
    "    b = gCov[0][1]\n",
    "    c = gCov[1][0]\n",
    "    d = gCov[1][1]\n",
    "    \n",
    "    return (a*d - b*c)**0.5\n"
   ]
  },
  {
   "cell_type": "code",
<<<<<<< HEAD
   "execution_count": 9,
=======
   "execution_count": 8,
>>>>>>> 24ad7811eefdc05cb59c8676ce8659685e9a8599
   "metadata": {
    "collapsed": true
   },
   "outputs": [],
   "source": [
    "g_ab = g_uu(nodes[elements[0]][:, 0], nodes[elements[0]][:, 1], xi, eta)"
   ]
  },
  {
   "cell_type": "code",
<<<<<<< HEAD
   "execution_count": 10,
   "metadata": {},
   "outputs": [
    {
     "name": "stdout",
     "output_type": "stream",
     "text": [
      "arrayfire.Array()\n",
      "Type: double\n",
      "\n",
      "[64 1 1 1]\n",
      "    1.0000 \n",
      "    1.0000 \n",
      "    1.0000 \n",
      "    1.0000 \n",
      "    1.0000 \n",
      "    1.0000 \n",
      "    1.0000 \n",
      "    1.0000 \n",
      "    1.0000 \n",
      "    1.0000 \n",
      "    1.0000 \n",
      "    1.0000 \n",
      "    1.0000 \n",
      "    1.0000 \n",
      "    1.0000 \n",
      "    1.0000 \n",
      "    1.0000 \n",
      "    1.0000 \n",
      "    1.0000 \n",
      "    1.0000 \n",
      "    1.0000 \n",
      "    1.0000 \n",
      "    1.0000 \n",
      "    1.0000 \n",
      "    1.0000 \n",
      "    1.0000 \n",
      "    1.0000 \n",
      "    1.0000 \n",
      "    1.0000 \n",
      "    1.0000 \n",
      "    1.0000 \n",
      "    1.0000 \n",
      "    1.0000 \n",
      "    1.0000 \n",
      "    1.0000 \n",
      "    1.0000 \n",
      "    1.0000 \n",
      "    1.0000 \n",
      "    1.0000 \n",
      "    1.0000 \n",
      "    1.0000 \n",
      "    1.0000 \n",
      "    1.0000 \n",
      "    1.0000 \n",
      "    1.0000 \n",
      "    1.0000 \n",
      "    1.0000 \n",
      "    1.0000 \n",
      "    1.0000 \n",
      "    1.0000 \n",
      "    1.0000 \n",
      "    1.0000 \n",
      "    1.0000 \n",
      "    1.0000 \n",
      "    1.0000 \n",
      "    1.0000 \n",
      "    1.0000 \n",
      "    1.0000 \n",
      "    1.0000 \n",
      "    1.0000 \n",
      "    1.0000 \n",
      "    1.0000 \n",
      "    1.0000 \n",
      "    1.0000 \n",
      "\n",
      "\n"
     ]
    }
   ],
   "source": [
    "print(g_ab[0][0])"
   ]
  },
  {
   "cell_type": "code",
   "execution_count": 35,
   "metadata": {},
   "outputs": [
    {
     "name": "stdout",
     "output_type": "stream",
     "text": [
      "arrayfire.Array()\n",
      "Type: double\n",
      "\n",
      "[8 8 1 1]\n",
      "    0.0019     0.0087     0.1121     0.7605     0.7605     0.1121     0.0087     0.0019 \n",
      "    0.0019     0.0087     0.1121     0.7605     0.7605     0.1121     0.0087     0.0019 \n",
      "    0.0019     0.0087     0.1121     0.7605     0.7605     0.1121     0.0087     0.0019 \n",
      "    0.0019     0.0087     0.1121     0.7605     0.7605     0.1121     0.0087     0.0019 \n",
      "    0.0019     0.0087     0.1121     0.7605     0.7605     0.1121     0.0087     0.0019 \n",
      "    0.0019     0.0087     0.1121     0.7605     0.7605     0.1121     0.0087     0.0019 \n",
      "    0.0019     0.0087     0.1121     0.7605     0.7605     0.1121     0.0087     0.0019 \n",
      "    0.0019     0.0087     0.1121     0.7605     0.7605     0.1121     0.0087     0.0019 \n",
      "\n",
      "\n"
     ]
    }
   ],
=======
   "execution_count": 9,
   "metadata": {
    "collapsed": true
   },
   "outputs": [],
>>>>>>> 24ad7811eefdc05cb59c8676ce8659685e9a8599
   "source": [
    "x = []\n",
    "y = []\n",
    "\n",
    "X = []\n",
    "Y = []\n",
    "\n",
    "u_init = []\n",
    "u_init_mesh = []\n",
    "\n",
    "\n",
    "for element in elements:\n",
    "    x.append(af.np_to_af_array(isoparam.isoparam_x_2D(nodes[element][:, 0], np.array(Xi), np.array(Eta))))\n",
    "    y.append(af.np_to_af_array(isoparam.isoparam_x_2D(nodes[element][:, 1], np.array(Xi), np.array(Eta))))\n",
    "\n",
    "    X.append(af.np_to_af_array(isoparam.isoparam_x_2D(nodes[element][:, 0], np.array(Xi), np.array(Eta))))\n",
    "    Y.append(af.np_to_af_array(isoparam.isoparam_x_2D(nodes[element][:, 1], np.array(Xi), np.array(Eta))))\n",
    "\n",
    "    x[-1] = af.moddims(x[-1], d0 = N_LGL * N_LGL, d1 = 1)\n",
    "    y[-1] = af.moddims(y[-1], d0 = N_LGL * N_LGL, d1 = 1)\n",
    "\n",
    "    u_init.append(np.e ** (-(x[-1]**2 + 0 * y[-1]**2) / 0.4**2))\n",
    "    u_init_mesh.append(af.moddims(u_init[-1], d0 = N_LGL, d1 = N_LGL))\n",
    "print(u_init_mesh[0])"
   ]
  },
  {
   "cell_type": "code",
   "execution_count": 12,
   "metadata": {},
   "outputs": [
    {
     "data": {
      "image/png": "iVBORw0KGgoAAAANSUhEUgAAAsYAAAIkCAYAAAAd5O08AAAABHNCSVQICAgIfAhkiAAAAAlwSFlz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\n",
      "text/plain": [
       "<matplotlib.figure.Figure at 0x7feb41a50710>"
      ]
     },
     "metadata": {},
     "output_type": "display_data"
    }
   ],
   "source": [
    "# fig = plt.figure()\n",
    "# ax = fig.add_subplot(111, projection='3d')\n",
    "color_levels = np.linspace(0., 1., 100)\n",
    "\n",
    "for idx in np.arange(len(u_init_mesh)):\n",
    "#     ax.plot_surface(np.array(X[idx]), np.array(Y[idx]), np.array(u_init_mesh[idx]))\n",
    "    plt.contourf(np.array(X[idx]), np.array(Y[idx]), np.array(u_init_mesh[idx]),\n",
    "                 200, levels = color_levels, cmap = 'jet')\n",
    "\n",
    "plt.axes().set_aspect('equal')\n",
    "plt.xlabel(r\"$x$\")\n",
    "plt.ylabel(r\"$y$\")\n",
    "plt.colorbar()\n",
    "\n",
    "# plt.savefig('u_init.png')\n",
    "plt.show()"
   ]
  },
  {
   "cell_type": "code",
<<<<<<< HEAD
   "execution_count": 13,
=======
   "execution_count": 11,
>>>>>>> 24ad7811eefdc05cb59c8676ce8659685e9a8599
   "metadata": {
    "collapsed": true
   },
   "outputs": [],
   "source": [
    "L_p_array = af.moddims(af.tile(af.transpose(af.reorder(L_p, d0 = 0, d1 = 2, d2 = 1)),\n",
    "                               d0 = N_LGL), d0 = N_LGL * N_LGL, d1 = 1, d2 = N_LGL)\n",
    "L_p_array = af.np_to_af_array(np.array(L_p_array))\n",
    "\n",
    "L_p_array = af.reorder(L_p_array, d0 = 0, d1 = 2, d2 = 1)\n",
    "\n",
    "L_q_array = af.tile(L_p, d0 = N_LGL)\n",
    "\n",
    "dLp_dxi_array = af.moddims(af.tile(af.transpose(af.reorder(dLp_dxi, d0 = 0, d1 = 2, d2 = 1)),\n",
    "                               d0 = N_LGL), d0 = N_LGL * N_LGL, d1 = 1, d2 = N_LGL - 1)\n",
    "dLp_dxi_array = af.reorder(dLp_dxi_array, d0 = 0, d1 = 2, d2 = 1)\n",
    "\n",
    "dLq_deta_array = af.tile(dLq_deta, d0 = N_LGL)\n",
    "xi = af.np_to_af_array(np.array(xi))\n",
    "eta = af.np_to_af_array(np.array(eta))"
   ]
  },
  {
   "cell_type": "code",
<<<<<<< HEAD
   "execution_count": 14,
=======
   "execution_count": 12,
>>>>>>> 24ad7811eefdc05cb59c8676ce8659685e9a8599
   "metadata": {
    "collapsed": true
   },
   "outputs": [],
   "source": [
    "L_p_LGL      = utils.polyval_1d(L_p_array,      xi)\n",
    "L_q_LGL      = utils.polyval_1d(L_q_array,      eta)\n",
    "dLp_dxi_LGL  = utils.polyval_1d(dLp_dxi_array , xi)\n",
    "dLq_deta_LGL = utils.polyval_1d(dLq_deta_array, eta)"
   ]
  },
  {
   "cell_type": "code",
<<<<<<< HEAD
   "execution_count": 15,
   "metadata": {},
   "outputs": [
    {
     "name": "stdout",
     "output_type": "stream",
     "text": [
      "arrayfire.Array()\n",
      "Type: double\n",
      "\n",
      "[64 64 1 1]\n",
      "    1.0000     0.0000     0.0000     0.0000     0.0000     0.0000     0.0000     0.0000     1.0000     0.0000     0.0000     0.0000     0.0000     0.0000     0.0000     0.0000     1.0000     0.0000     0.0000     0.0000     0.0000     0.0000     0.0000     0.0000     1.0000     0.0000     0.0000     0.0000     0.0000     0.0000     0.0000     0.0000     1.0000     0.0000     0.0000     0.0000     0.0000     0.0000     0.0000     0.0000     1.0000     0.0000     0.0000     0.0000     0.0000     0.0000     0.0000     0.0000     1.0000     0.0000     0.0000     0.0000     0.0000     0.0000     0.0000     0.0000     1.0000     0.0000     0.0000     0.0000     0.0000     0.0000     0.0000     0.0000 \n",
      "    1.0000     0.0000     0.0000     0.0000     0.0000     0.0000     0.0000     0.0000     1.0000     0.0000     0.0000     0.0000     0.0000     0.0000     0.0000     0.0000     1.0000     0.0000     0.0000     0.0000     0.0000     0.0000     0.0000     0.0000     1.0000     0.0000     0.0000     0.0000     0.0000     0.0000     0.0000     0.0000     1.0000     0.0000     0.0000     0.0000     0.0000     0.0000     0.0000     0.0000     1.0000     0.0000     0.0000     0.0000     0.0000     0.0000     0.0000     0.0000     1.0000     0.0000     0.0000     0.0000     0.0000     0.0000     0.0000     0.0000     1.0000     0.0000     0.0000     0.0000     0.0000     0.0000     0.0000     0.0000 \n",
      "    1.0000     0.0000     0.0000     0.0000     0.0000     0.0000     0.0000     0.0000     1.0000     0.0000     0.0000     0.0000     0.0000     0.0000     0.0000     0.0000     1.0000     0.0000     0.0000     0.0000     0.0000     0.0000     0.0000     0.0000     1.0000     0.0000     0.0000     0.0000     0.0000     0.0000     0.0000     0.0000     1.0000     0.0000     0.0000     0.0000     0.0000     0.0000     0.0000     0.0000     1.0000     0.0000     0.0000     0.0000     0.0000     0.0000     0.0000     0.0000     1.0000     0.0000     0.0000     0.0000     0.0000     0.0000     0.0000     0.0000     1.0000     0.0000     0.0000     0.0000     0.0000     0.0000     0.0000     0.0000 \n",
      "    1.0000     0.0000     0.0000     0.0000     0.0000     0.0000     0.0000     0.0000     1.0000     0.0000     0.0000     0.0000     0.0000     0.0000     0.0000     0.0000     1.0000     0.0000     0.0000     0.0000     0.0000     0.0000     0.0000     0.0000     1.0000     0.0000     0.0000     0.0000     0.0000     0.0000     0.0000     0.0000     1.0000     0.0000     0.0000     0.0000     0.0000     0.0000     0.0000     0.0000     1.0000     0.0000     0.0000     0.0000     0.0000     0.0000     0.0000     0.0000     1.0000     0.0000     0.0000     0.0000     0.0000     0.0000     0.0000     0.0000     1.0000     0.0000     0.0000     0.0000     0.0000     0.0000     0.0000     0.0000 \n",
      "    1.0000     0.0000     0.0000     0.0000     0.0000     0.0000     0.0000     0.0000     1.0000     0.0000     0.0000     0.0000     0.0000     0.0000     0.0000     0.0000     1.0000     0.0000     0.0000     0.0000     0.0000     0.0000     0.0000     0.0000     1.0000     0.0000     0.0000     0.0000     0.0000     0.0000     0.0000     0.0000     1.0000     0.0000     0.0000     0.0000     0.0000     0.0000     0.0000     0.0000     1.0000     0.0000     0.0000     0.0000     0.0000     0.0000     0.0000     0.0000     1.0000     0.0000     0.0000     0.0000     0.0000     0.0000     0.0000     0.0000     1.0000     0.0000     0.0000     0.0000     0.0000     0.0000     0.0000     0.0000 \n",
      "    1.0000     0.0000     0.0000     0.0000     0.0000     0.0000     0.0000     0.0000     1.0000     0.0000     0.0000     0.0000     0.0000     0.0000     0.0000     0.0000     1.0000     0.0000     0.0000     0.0000     0.0000     0.0000     0.0000     0.0000     1.0000     0.0000     0.0000     0.0000     0.0000     0.0000     0.0000     0.0000     1.0000     0.0000     0.0000     0.0000     0.0000     0.0000     0.0000     0.0000     1.0000     0.0000     0.0000     0.0000     0.0000     0.0000     0.0000     0.0000     1.0000     0.0000     0.0000     0.0000     0.0000     0.0000     0.0000     0.0000     1.0000     0.0000     0.0000     0.0000     0.0000     0.0000     0.0000     0.0000 \n",
      "    1.0000     0.0000     0.0000     0.0000     0.0000     0.0000     0.0000     0.0000     1.0000     0.0000     0.0000     0.0000     0.0000     0.0000     0.0000     0.0000     1.0000     0.0000     0.0000     0.0000     0.0000     0.0000     0.0000     0.0000     1.0000     0.0000     0.0000     0.0000     0.0000     0.0000     0.0000     0.0000     1.0000     0.0000     0.0000     0.0000     0.0000     0.0000     0.0000     0.0000     1.0000     0.0000     0.0000     0.0000     0.0000     0.0000     0.0000     0.0000     1.0000     0.0000     0.0000     0.0000     0.0000     0.0000     0.0000     0.0000     1.0000     0.0000     0.0000     0.0000     0.0000     0.0000     0.0000     0.0000 \n",
      "    1.0000     0.0000     0.0000     0.0000     0.0000     0.0000     0.0000     0.0000     1.0000     0.0000     0.0000     0.0000     0.0000     0.0000     0.0000     0.0000     1.0000     0.0000     0.0000     0.0000     0.0000     0.0000     0.0000     0.0000     1.0000     0.0000     0.0000     0.0000     0.0000     0.0000     0.0000     0.0000     1.0000     0.0000     0.0000     0.0000     0.0000     0.0000     0.0000     0.0000     1.0000     0.0000     0.0000     0.0000     0.0000     0.0000     0.0000     0.0000     1.0000     0.0000     0.0000     0.0000     0.0000     0.0000     0.0000     0.0000     1.0000     0.0000     0.0000     0.0000     0.0000     0.0000     0.0000     0.0000 \n",
      "    0.0000     1.0000     0.0000     0.0000    -0.0000     0.0000     0.0000     0.0000     0.0000     1.0000     0.0000     0.0000    -0.0000     0.0000     0.0000     0.0000     0.0000     1.0000     0.0000     0.0000    -0.0000     0.0000     0.0000     0.0000     0.0000     1.0000     0.0000     0.0000    -0.0000     0.0000     0.0000     0.0000     0.0000     1.0000     0.0000     0.0000    -0.0000     0.0000     0.0000     0.0000     0.0000     1.0000     0.0000     0.0000    -0.0000     0.0000     0.0000     0.0000     0.0000     1.0000     0.0000     0.0000    -0.0000     0.0000     0.0000     0.0000     0.0000     1.0000     0.0000     0.0000    -0.0000     0.0000     0.0000     0.0000 \n",
      "    0.0000     1.0000     0.0000     0.0000    -0.0000     0.0000     0.0000     0.0000     0.0000     1.0000     0.0000     0.0000    -0.0000     0.0000     0.0000     0.0000     0.0000     1.0000     0.0000     0.0000    -0.0000     0.0000     0.0000     0.0000     0.0000     1.0000     0.0000     0.0000    -0.0000     0.0000     0.0000     0.0000     0.0000     1.0000     0.0000     0.0000    -0.0000     0.0000     0.0000     0.0000     0.0000     1.0000     0.0000     0.0000    -0.0000     0.0000     0.0000     0.0000     0.0000     1.0000     0.0000     0.0000    -0.0000     0.0000     0.0000     0.0000     0.0000     1.0000     0.0000     0.0000    -0.0000     0.0000     0.0000     0.0000 \n",
      "    0.0000     1.0000     0.0000     0.0000    -0.0000     0.0000     0.0000     0.0000     0.0000     1.0000     0.0000     0.0000    -0.0000     0.0000     0.0000     0.0000     0.0000     1.0000     0.0000     0.0000    -0.0000     0.0000     0.0000     0.0000     0.0000     1.0000     0.0000     0.0000    -0.0000     0.0000     0.0000     0.0000     0.0000     1.0000     0.0000     0.0000    -0.0000     0.0000     0.0000     0.0000     0.0000     1.0000     0.0000     0.0000    -0.0000     0.0000     0.0000     0.0000     0.0000     1.0000     0.0000     0.0000    -0.0000     0.0000     0.0000     0.0000     0.0000     1.0000     0.0000     0.0000    -0.0000     0.0000     0.0000     0.0000 \n",
      "    0.0000     1.0000     0.0000     0.0000    -0.0000     0.0000     0.0000     0.0000     0.0000     1.0000     0.0000     0.0000    -0.0000     0.0000     0.0000     0.0000     0.0000     1.0000     0.0000     0.0000    -0.0000     0.0000     0.0000     0.0000     0.0000     1.0000     0.0000     0.0000    -0.0000     0.0000     0.0000     0.0000     0.0000     1.0000     0.0000     0.0000    -0.0000     0.0000     0.0000     0.0000     0.0000     1.0000     0.0000     0.0000    -0.0000     0.0000     0.0000     0.0000     0.0000     1.0000     0.0000     0.0000    -0.0000     0.0000     0.0000     0.0000     0.0000     1.0000     0.0000     0.0000    -0.0000     0.0000     0.0000     0.0000 \n",
      "    0.0000     1.0000     0.0000     0.0000    -0.0000     0.0000     0.0000     0.0000     0.0000     1.0000     0.0000     0.0000    -0.0000     0.0000     0.0000     0.0000     0.0000     1.0000     0.0000     0.0000    -0.0000     0.0000     0.0000     0.0000     0.0000     1.0000     0.0000     0.0000    -0.0000     0.0000     0.0000     0.0000     0.0000     1.0000     0.0000     0.0000    -0.0000     0.0000     0.0000     0.0000     0.0000     1.0000     0.0000     0.0000    -0.0000     0.0000     0.0000     0.0000     0.0000     1.0000     0.0000     0.0000    -0.0000     0.0000     0.0000     0.0000     0.0000     1.0000     0.0000     0.0000    -0.0000     0.0000     0.0000     0.0000 \n",
      "    0.0000     1.0000     0.0000     0.0000    -0.0000     0.0000     0.0000     0.0000     0.0000     1.0000     0.0000     0.0000    -0.0000     0.0000     0.0000     0.0000     0.0000     1.0000     0.0000     0.0000    -0.0000     0.0000     0.0000     0.0000     0.0000     1.0000     0.0000     0.0000    -0.0000     0.0000     0.0000     0.0000     0.0000     1.0000     0.0000     0.0000    -0.0000     0.0000     0.0000     0.0000     0.0000     1.0000     0.0000     0.0000    -0.0000     0.0000     0.0000     0.0000     0.0000     1.0000     0.0000     0.0000    -0.0000     0.0000     0.0000     0.0000     0.0000     1.0000     0.0000     0.0000    -0.0000     0.0000     0.0000     0.0000 \n",
      "    0.0000     1.0000     0.0000     0.0000    -0.0000     0.0000     0.0000     0.0000     0.0000     1.0000     0.0000     0.0000    -0.0000     0.0000     0.0000     0.0000     0.0000     1.0000     0.0000     0.0000    -0.0000     0.0000     0.0000     0.0000     0.0000     1.0000     0.0000     0.0000    -0.0000     0.0000     0.0000     0.0000     0.0000     1.0000     0.0000     0.0000    -0.0000     0.0000     0.0000     0.0000     0.0000     1.0000     0.0000     0.0000    -0.0000     0.0000     0.0000     0.0000     0.0000     1.0000     0.0000     0.0000    -0.0000     0.0000     0.0000     0.0000     0.0000     1.0000     0.0000     0.0000    -0.0000     0.0000     0.0000     0.0000 \n",
      "    0.0000     1.0000     0.0000     0.0000    -0.0000     0.0000     0.0000     0.0000     0.0000     1.0000     0.0000     0.0000    -0.0000     0.0000     0.0000     0.0000     0.0000     1.0000     0.0000     0.0000    -0.0000     0.0000     0.0000     0.0000     0.0000     1.0000     0.0000     0.0000    -0.0000     0.0000     0.0000     0.0000     0.0000     1.0000     0.0000     0.0000    -0.0000     0.0000     0.0000     0.0000     0.0000     1.0000     0.0000     0.0000    -0.0000     0.0000     0.0000     0.0000     0.0000     1.0000     0.0000     0.0000    -0.0000     0.0000     0.0000     0.0000     0.0000     1.0000     0.0000     0.0000    -0.0000     0.0000     0.0000     0.0000 \n",
      "    0.0000     0.0000     1.0000     0.0000     0.0000    -0.0000     0.0000    -0.0000     0.0000     0.0000     1.0000     0.0000     0.0000    -0.0000     0.0000    -0.0000     0.0000     0.0000     1.0000     0.0000     0.0000    -0.0000     0.0000    -0.0000     0.0000     0.0000     1.0000     0.0000     0.0000    -0.0000     0.0000    -0.0000     0.0000     0.0000     1.0000     0.0000     0.0000    -0.0000     0.0000    -0.0000     0.0000     0.0000     1.0000     0.0000     0.0000    -0.0000     0.0000    -0.0000     0.0000     0.0000     1.0000     0.0000     0.0000    -0.0000     0.0000    -0.0000     0.0000     0.0000     1.0000     0.0000     0.0000    -0.0000     0.0000    -0.0000 \n",
      "    0.0000     0.0000     1.0000     0.0000     0.0000    -0.0000     0.0000    -0.0000     0.0000     0.0000     1.0000     0.0000     0.0000    -0.0000     0.0000    -0.0000     0.0000     0.0000     1.0000     0.0000     0.0000    -0.0000     0.0000    -0.0000     0.0000     0.0000     1.0000     0.0000     0.0000    -0.0000     0.0000    -0.0000     0.0000     0.0000     1.0000     0.0000     0.0000    -0.0000     0.0000    -0.0000     0.0000     0.0000     1.0000     0.0000     0.0000    -0.0000     0.0000    -0.0000     0.0000     0.0000     1.0000     0.0000     0.0000    -0.0000     0.0000    -0.0000     0.0000     0.0000     1.0000     0.0000     0.0000    -0.0000     0.0000    -0.0000 \n",
      "    0.0000     0.0000     1.0000     0.0000     0.0000    -0.0000     0.0000    -0.0000     0.0000     0.0000     1.0000     0.0000     0.0000    -0.0000     0.0000    -0.0000     0.0000     0.0000     1.0000     0.0000     0.0000    -0.0000     0.0000    -0.0000     0.0000     0.0000     1.0000     0.0000     0.0000    -0.0000     0.0000    -0.0000     0.0000     0.0000     1.0000     0.0000     0.0000    -0.0000     0.0000    -0.0000     0.0000     0.0000     1.0000     0.0000     0.0000    -0.0000     0.0000    -0.0000     0.0000     0.0000     1.0000     0.0000     0.0000    -0.0000     0.0000    -0.0000     0.0000     0.0000     1.0000     0.0000     0.0000    -0.0000     0.0000    -0.0000 \n",
      "    0.0000     0.0000     1.0000     0.0000     0.0000    -0.0000     0.0000    -0.0000     0.0000     0.0000     1.0000     0.0000     0.0000    -0.0000     0.0000    -0.0000     0.0000     0.0000     1.0000     0.0000     0.0000    -0.0000     0.0000    -0.0000     0.0000     0.0000     1.0000     0.0000     0.0000    -0.0000     0.0000    -0.0000     0.0000     0.0000     1.0000     0.0000     0.0000    -0.0000     0.0000    -0.0000     0.0000     0.0000     1.0000     0.0000     0.0000    -0.0000     0.0000    -0.0000     0.0000     0.0000     1.0000     0.0000     0.0000    -0.0000     0.0000    -0.0000     0.0000     0.0000     1.0000     0.0000     0.0000    -0.0000     0.0000    -0.0000 \n",
      "    0.0000     0.0000     1.0000     0.0000     0.0000    -0.0000     0.0000    -0.0000     0.0000     0.0000     1.0000     0.0000     0.0000    -0.0000     0.0000    -0.0000     0.0000     0.0000     1.0000     0.0000     0.0000    -0.0000     0.0000    -0.0000     0.0000     0.0000     1.0000     0.0000     0.0000    -0.0000     0.0000    -0.0000     0.0000     0.0000     1.0000     0.0000     0.0000    -0.0000     0.0000    -0.0000     0.0000     0.0000     1.0000     0.0000     0.0000    -0.0000     0.0000    -0.0000     0.0000     0.0000     1.0000     0.0000     0.0000    -0.0000     0.0000    -0.0000     0.0000     0.0000     1.0000     0.0000     0.0000    -0.0000     0.0000    -0.0000 \n",
      "    0.0000     0.0000     1.0000     0.0000     0.0000    -0.0000     0.0000    -0.0000     0.0000     0.0000     1.0000     0.0000     0.0000    -0.0000     0.0000    -0.0000     0.0000     0.0000     1.0000     0.0000     0.0000    -0.0000     0.0000    -0.0000     0.0000     0.0000     1.0000     0.0000     0.0000    -0.0000     0.0000    -0.0000     0.0000     0.0000     1.0000     0.0000     0.0000    -0.0000     0.0000    -0.0000     0.0000     0.0000     1.0000     0.0000     0.0000    -0.0000     0.0000    -0.0000     0.0000     0.0000     1.0000     0.0000     0.0000    -0.0000     0.0000    -0.0000     0.0000     0.0000     1.0000     0.0000     0.0000    -0.0000     0.0000    -0.0000 \n",
      "    0.0000     0.0000     1.0000     0.0000     0.0000    -0.0000     0.0000    -0.0000     0.0000     0.0000     1.0000     0.0000     0.0000    -0.0000     0.0000    -0.0000     0.0000     0.0000     1.0000     0.0000     0.0000    -0.0000     0.0000    -0.0000     0.0000     0.0000     1.0000     0.0000     0.0000    -0.0000     0.0000    -0.0000     0.0000     0.0000     1.0000     0.0000     0.0000    -0.0000     0.0000    -0.0000     0.0000     0.0000     1.0000     0.0000     0.0000    -0.0000     0.0000    -0.0000     0.0000     0.0000     1.0000     0.0000     0.0000    -0.0000     0.0000    -0.0000     0.0000     0.0000     1.0000     0.0000     0.0000    -0.0000     0.0000    -0.0000 \n",
      "    0.0000     0.0000     1.0000     0.0000     0.0000    -0.0000     0.0000    -0.0000     0.0000     0.0000     1.0000     0.0000     0.0000    -0.0000     0.0000    -0.0000     0.0000     0.0000     1.0000     0.0000     0.0000    -0.0000     0.0000    -0.0000     0.0000     0.0000     1.0000     0.0000     0.0000    -0.0000     0.0000    -0.0000     0.0000     0.0000     1.0000     0.0000     0.0000    -0.0000     0.0000    -0.0000     0.0000     0.0000     1.0000     0.0000     0.0000    -0.0000     0.0000    -0.0000     0.0000     0.0000     1.0000     0.0000     0.0000    -0.0000     0.0000    -0.0000     0.0000     0.0000     1.0000     0.0000     0.0000    -0.0000     0.0000    -0.0000 \n",
      "    0.0000     0.0000     0.0000     1.0000    -0.0000    -0.0000    -0.0000    -0.0000     0.0000     0.0000     0.0000     1.0000    -0.0000    -0.0000    -0.0000    -0.0000     0.0000     0.0000     0.0000     1.0000    -0.0000    -0.0000    -0.0000    -0.0000     0.0000     0.0000     0.0000     1.0000    -0.0000    -0.0000    -0.0000    -0.0000     0.0000     0.0000     0.0000     1.0000    -0.0000    -0.0000    -0.0000    -0.0000     0.0000     0.0000     0.0000     1.0000    -0.0000    -0.0000    -0.0000    -0.0000     0.0000     0.0000     0.0000     1.0000    -0.0000    -0.0000    -0.0000    -0.0000     0.0000     0.0000     0.0000     1.0000    -0.0000    -0.0000    -0.0000    -0.0000 \n",
      "    0.0000     0.0000     0.0000     1.0000    -0.0000    -0.0000    -0.0000    -0.0000     0.0000     0.0000     0.0000     1.0000    -0.0000    -0.0000    -0.0000    -0.0000     0.0000     0.0000     0.0000     1.0000    -0.0000    -0.0000    -0.0000    -0.0000     0.0000     0.0000     0.0000     1.0000    -0.0000    -0.0000    -0.0000    -0.0000     0.0000     0.0000     0.0000     1.0000    -0.0000    -0.0000    -0.0000    -0.0000     0.0000     0.0000     0.0000     1.0000    -0.0000    -0.0000    -0.0000    -0.0000     0.0000     0.0000     0.0000     1.0000    -0.0000    -0.0000    -0.0000    -0.0000     0.0000     0.0000     0.0000     1.0000    -0.0000    -0.0000    -0.0000    -0.0000 \n",
      "    0.0000     0.0000     0.0000     1.0000    -0.0000    -0.0000    -0.0000    -0.0000     0.0000     0.0000     0.0000     1.0000    -0.0000    -0.0000    -0.0000    -0.0000     0.0000     0.0000     0.0000     1.0000    -0.0000    -0.0000    -0.0000    -0.0000     0.0000     0.0000     0.0000     1.0000    -0.0000    -0.0000    -0.0000    -0.0000     0.0000     0.0000     0.0000     1.0000    -0.0000    -0.0000    -0.0000    -0.0000     0.0000     0.0000     0.0000     1.0000    -0.0000    -0.0000    -0.0000    -0.0000     0.0000     0.0000     0.0000     1.0000    -0.0000    -0.0000    -0.0000    -0.0000     0.0000     0.0000     0.0000     1.0000    -0.0000    -0.0000    -0.0000    -0.0000 \n",
      "    0.0000     0.0000     0.0000     1.0000    -0.0000    -0.0000    -0.0000    -0.0000     0.0000     0.0000     0.0000     1.0000    -0.0000    -0.0000    -0.0000    -0.0000     0.0000     0.0000     0.0000     1.0000    -0.0000    -0.0000    -0.0000    -0.0000     0.0000     0.0000     0.0000     1.0000    -0.0000    -0.0000    -0.0000    -0.0000     0.0000     0.0000     0.0000     1.0000    -0.0000    -0.0000    -0.0000    -0.0000     0.0000     0.0000     0.0000     1.0000    -0.0000    -0.0000    -0.0000    -0.0000     0.0000     0.0000     0.0000     1.0000    -0.0000    -0.0000    -0.0000    -0.0000     0.0000     0.0000     0.0000     1.0000    -0.0000    -0.0000    -0.0000    -0.0000 \n",
      "    0.0000     0.0000     0.0000     1.0000    -0.0000    -0.0000    -0.0000    -0.0000     0.0000     0.0000     0.0000     1.0000    -0.0000    -0.0000    -0.0000    -0.0000     0.0000     0.0000     0.0000     1.0000    -0.0000    -0.0000    -0.0000    -0.0000     0.0000     0.0000     0.0000     1.0000    -0.0000    -0.0000    -0.0000    -0.0000     0.0000     0.0000     0.0000     1.0000    -0.0000    -0.0000    -0.0000    -0.0000     0.0000     0.0000     0.0000     1.0000    -0.0000    -0.0000    -0.0000    -0.0000     0.0000     0.0000     0.0000     1.0000    -0.0000    -0.0000    -0.0000    -0.0000     0.0000     0.0000     0.0000     1.0000    -0.0000    -0.0000    -0.0000    -0.0000 \n",
      "    0.0000     0.0000     0.0000     1.0000    -0.0000    -0.0000    -0.0000    -0.0000     0.0000     0.0000     0.0000     1.0000    -0.0000    -0.0000    -0.0000    -0.0000     0.0000     0.0000     0.0000     1.0000    -0.0000    -0.0000    -0.0000    -0.0000     0.0000     0.0000     0.0000     1.0000    -0.0000    -0.0000    -0.0000    -0.0000     0.0000     0.0000     0.0000     1.0000    -0.0000    -0.0000    -0.0000    -0.0000     0.0000     0.0000     0.0000     1.0000    -0.0000    -0.0000    -0.0000    -0.0000     0.0000     0.0000     0.0000     1.0000    -0.0000    -0.0000    -0.0000    -0.0000     0.0000     0.0000     0.0000     1.0000    -0.0000    -0.0000    -0.0000    -0.0000 \n",
      "    0.0000     0.0000     0.0000     1.0000    -0.0000    -0.0000    -0.0000    -0.0000     0.0000     0.0000     0.0000     1.0000    -0.0000    -0.0000    -0.0000    -0.0000     0.0000     0.0000     0.0000     1.0000    -0.0000    -0.0000    -0.0000    -0.0000     0.0000     0.0000     0.0000     1.0000    -0.0000    -0.0000    -0.0000    -0.0000     0.0000     0.0000     0.0000     1.0000    -0.0000    -0.0000    -0.0000    -0.0000     0.0000     0.0000     0.0000     1.0000    -0.0000    -0.0000    -0.0000    -0.0000     0.0000     0.0000     0.0000     1.0000    -0.0000    -0.0000    -0.0000    -0.0000     0.0000     0.0000     0.0000     1.0000    -0.0000    -0.0000    -0.0000    -0.0000 \n",
      "    0.0000     0.0000     0.0000     1.0000    -0.0000    -0.0000    -0.0000    -0.0000     0.0000     0.0000     0.0000     1.0000    -0.0000    -0.0000    -0.0000    -0.0000     0.0000     0.0000     0.0000     1.0000    -0.0000    -0.0000    -0.0000    -0.0000     0.0000     0.0000     0.0000     1.0000    -0.0000    -0.0000    -0.0000    -0.0000     0.0000     0.0000     0.0000     1.0000    -0.0000    -0.0000    -0.0000    -0.0000     0.0000     0.0000     0.0000     1.0000    -0.0000    -0.0000    -0.0000    -0.0000     0.0000     0.0000     0.0000     1.0000    -0.0000    -0.0000    -0.0000    -0.0000     0.0000     0.0000     0.0000     1.0000    -0.0000    -0.0000    -0.0000    -0.0000 \n",
      "   -0.0000    -0.0000    -0.0000    -0.0000     1.0000     0.0000     0.0000    -0.0000    -0.0000    -0.0000    -0.0000    -0.0000     1.0000     0.0000     0.0000    -0.0000    -0.0000    -0.0000    -0.0000    -0.0000     1.0000     0.0000     0.0000    -0.0000    -0.0000    -0.0000    -0.0000    -0.0000     1.0000     0.0000     0.0000    -0.0000    -0.0000    -0.0000    -0.0000    -0.0000     1.0000     0.0000     0.0000    -0.0000    -0.0000    -0.0000    -0.0000    -0.0000     1.0000     0.0000     0.0000    -0.0000    -0.0000    -0.0000    -0.0000    -0.0000     1.0000     0.0000     0.0000    -0.0000    -0.0000    -0.0000    -0.0000    -0.0000     1.0000     0.0000     0.0000    -0.0000 \n",
      "   -0.0000    -0.0000    -0.0000    -0.0000     1.0000     0.0000     0.0000    -0.0000    -0.0000    -0.0000    -0.0000    -0.0000     1.0000     0.0000     0.0000    -0.0000    -0.0000    -0.0000    -0.0000    -0.0000     1.0000     0.0000     0.0000    -0.0000    -0.0000    -0.0000    -0.0000    -0.0000     1.0000     0.0000     0.0000    -0.0000    -0.0000    -0.0000    -0.0000    -0.0000     1.0000     0.0000     0.0000    -0.0000    -0.0000    -0.0000    -0.0000    -0.0000     1.0000     0.0000     0.0000    -0.0000    -0.0000    -0.0000    -0.0000    -0.0000     1.0000     0.0000     0.0000    -0.0000    -0.0000    -0.0000    -0.0000    -0.0000     1.0000     0.0000     0.0000    -0.0000 \n",
      "   -0.0000    -0.0000    -0.0000    -0.0000     1.0000     0.0000     0.0000    -0.0000    -0.0000    -0.0000    -0.0000    -0.0000     1.0000     0.0000     0.0000    -0.0000    -0.0000    -0.0000    -0.0000    -0.0000     1.0000     0.0000     0.0000    -0.0000    -0.0000    -0.0000    -0.0000    -0.0000     1.0000     0.0000     0.0000    -0.0000    -0.0000    -0.0000    -0.0000    -0.0000     1.0000     0.0000     0.0000    -0.0000    -0.0000    -0.0000    -0.0000    -0.0000     1.0000     0.0000     0.0000    -0.0000    -0.0000    -0.0000    -0.0000    -0.0000     1.0000     0.0000     0.0000    -0.0000    -0.0000    -0.0000    -0.0000    -0.0000     1.0000     0.0000     0.0000    -0.0000 \n",
      "   -0.0000    -0.0000    -0.0000    -0.0000     1.0000     0.0000     0.0000    -0.0000    -0.0000    -0.0000    -0.0000    -0.0000     1.0000     0.0000     0.0000    -0.0000    -0.0000    -0.0000    -0.0000    -0.0000     1.0000     0.0000     0.0000    -0.0000    -0.0000    -0.0000    -0.0000    -0.0000     1.0000     0.0000     0.0000    -0.0000    -0.0000    -0.0000    -0.0000    -0.0000     1.0000     0.0000     0.0000    -0.0000    -0.0000    -0.0000    -0.0000    -0.0000     1.0000     0.0000     0.0000    -0.0000    -0.0000    -0.0000    -0.0000    -0.0000     1.0000     0.0000     0.0000    -0.0000    -0.0000    -0.0000    -0.0000    -0.0000     1.0000     0.0000     0.0000    -0.0000 \n",
      "   -0.0000    -0.0000    -0.0000    -0.0000     1.0000     0.0000     0.0000    -0.0000    -0.0000    -0.0000    -0.0000    -0.0000     1.0000     0.0000     0.0000    -0.0000    -0.0000    -0.0000    -0.0000    -0.0000     1.0000     0.0000     0.0000    -0.0000    -0.0000    -0.0000    -0.0000    -0.0000     1.0000     0.0000     0.0000    -0.0000    -0.0000    -0.0000    -0.0000    -0.0000     1.0000     0.0000     0.0000    -0.0000    -0.0000    -0.0000    -0.0000    -0.0000     1.0000     0.0000     0.0000    -0.0000    -0.0000    -0.0000    -0.0000    -0.0000     1.0000     0.0000     0.0000    -0.0000    -0.0000    -0.0000    -0.0000    -0.0000     1.0000     0.0000     0.0000    -0.0000 \n",
      "   -0.0000    -0.0000    -0.0000    -0.0000     1.0000     0.0000     0.0000    -0.0000    -0.0000    -0.0000    -0.0000    -0.0000     1.0000     0.0000     0.0000    -0.0000    -0.0000    -0.0000    -0.0000    -0.0000     1.0000     0.0000     0.0000    -0.0000    -0.0000    -0.0000    -0.0000    -0.0000     1.0000     0.0000     0.0000    -0.0000    -0.0000    -0.0000    -0.0000    -0.0000     1.0000     0.0000     0.0000    -0.0000    -0.0000    -0.0000    -0.0000    -0.0000     1.0000     0.0000     0.0000    -0.0000    -0.0000    -0.0000    -0.0000    -0.0000     1.0000     0.0000     0.0000    -0.0000    -0.0000    -0.0000    -0.0000    -0.0000     1.0000     0.0000     0.0000    -0.0000 \n",
      "   -0.0000    -0.0000    -0.0000    -0.0000     1.0000     0.0000     0.0000    -0.0000    -0.0000    -0.0000    -0.0000    -0.0000     1.0000     0.0000     0.0000    -0.0000    -0.0000    -0.0000    -0.0000    -0.0000     1.0000     0.0000     0.0000    -0.0000    -0.0000    -0.0000    -0.0000    -0.0000     1.0000     0.0000     0.0000    -0.0000    -0.0000    -0.0000    -0.0000    -0.0000     1.0000     0.0000     0.0000    -0.0000    -0.0000    -0.0000    -0.0000    -0.0000     1.0000     0.0000     0.0000    -0.0000    -0.0000    -0.0000    -0.0000    -0.0000     1.0000     0.0000     0.0000    -0.0000    -0.0000    -0.0000    -0.0000    -0.0000     1.0000     0.0000     0.0000    -0.0000 \n",
      "   -0.0000    -0.0000    -0.0000    -0.0000     1.0000     0.0000     0.0000    -0.0000    -0.0000    -0.0000    -0.0000    -0.0000     1.0000     0.0000     0.0000    -0.0000    -0.0000    -0.0000    -0.0000    -0.0000     1.0000     0.0000     0.0000    -0.0000    -0.0000    -0.0000    -0.0000    -0.0000     1.0000     0.0000     0.0000    -0.0000    -0.0000    -0.0000    -0.0000    -0.0000     1.0000     0.0000     0.0000    -0.0000    -0.0000    -0.0000    -0.0000    -0.0000     1.0000     0.0000     0.0000    -0.0000    -0.0000    -0.0000    -0.0000    -0.0000     1.0000     0.0000     0.0000    -0.0000    -0.0000    -0.0000    -0.0000    -0.0000     1.0000     0.0000     0.0000    -0.0000 \n",
      "   -0.0000    -0.0000    -0.0000    -0.0000     0.0000     1.0000    -0.0000    -0.0000    -0.0000    -0.0000    -0.0000    -0.0000     0.0000     1.0000    -0.0000    -0.0000    -0.0000    -0.0000    -0.0000    -0.0000     0.0000     1.0000    -0.0000    -0.0000    -0.0000    -0.0000    -0.0000    -0.0000     0.0000     1.0000    -0.0000    -0.0000    -0.0000    -0.0000    -0.0000    -0.0000     0.0000     1.0000    -0.0000    -0.0000    -0.0000    -0.0000    -0.0000    -0.0000     0.0000     1.0000    -0.0000    -0.0000    -0.0000    -0.0000    -0.0000    -0.0000     0.0000     1.0000    -0.0000    -0.0000    -0.0000    -0.0000    -0.0000    -0.0000     0.0000     1.0000    -0.0000    -0.0000 \n",
      "   -0.0000    -0.0000    -0.0000    -0.0000     0.0000     1.0000    -0.0000    -0.0000    -0.0000    -0.0000    -0.0000    -0.0000     0.0000     1.0000    -0.0000    -0.0000    -0.0000    -0.0000    -0.0000    -0.0000     0.0000     1.0000    -0.0000    -0.0000    -0.0000    -0.0000    -0.0000    -0.0000     0.0000     1.0000    -0.0000    -0.0000    -0.0000    -0.0000    -0.0000    -0.0000     0.0000     1.0000    -0.0000    -0.0000    -0.0000    -0.0000    -0.0000    -0.0000     0.0000     1.0000    -0.0000    -0.0000    -0.0000    -0.0000    -0.0000    -0.0000     0.0000     1.0000    -0.0000    -0.0000    -0.0000    -0.0000    -0.0000    -0.0000     0.0000     1.0000    -0.0000    -0.0000 \n",
      "   -0.0000    -0.0000    -0.0000    -0.0000     0.0000     1.0000    -0.0000    -0.0000    -0.0000    -0.0000    -0.0000    -0.0000     0.0000     1.0000    -0.0000    -0.0000    -0.0000    -0.0000    -0.0000    -0.0000     0.0000     1.0000    -0.0000    -0.0000    -0.0000    -0.0000    -0.0000    -0.0000     0.0000     1.0000    -0.0000    -0.0000    -0.0000    -0.0000    -0.0000    -0.0000     0.0000     1.0000    -0.0000    -0.0000    -0.0000    -0.0000    -0.0000    -0.0000     0.0000     1.0000    -0.0000    -0.0000    -0.0000    -0.0000    -0.0000    -0.0000     0.0000     1.0000    -0.0000    -0.0000    -0.0000    -0.0000    -0.0000    -0.0000     0.0000     1.0000    -0.0000    -0.0000 \n",
      "   -0.0000    -0.0000    -0.0000    -0.0000     0.0000     1.0000    -0.0000    -0.0000    -0.0000    -0.0000    -0.0000    -0.0000     0.0000     1.0000    -0.0000    -0.0000    -0.0000    -0.0000    -0.0000    -0.0000     0.0000     1.0000    -0.0000    -0.0000    -0.0000    -0.0000    -0.0000    -0.0000     0.0000     1.0000    -0.0000    -0.0000    -0.0000    -0.0000    -0.0000    -0.0000     0.0000     1.0000    -0.0000    -0.0000    -0.0000    -0.0000    -0.0000    -0.0000     0.0000     1.0000    -0.0000    -0.0000    -0.0000    -0.0000    -0.0000    -0.0000     0.0000     1.0000    -0.0000    -0.0000    -0.0000    -0.0000    -0.0000    -0.0000     0.0000     1.0000    -0.0000    -0.0000 \n",
      "   -0.0000    -0.0000    -0.0000    -0.0000     0.0000     1.0000    -0.0000    -0.0000    -0.0000    -0.0000    -0.0000    -0.0000     0.0000     1.0000    -0.0000    -0.0000    -0.0000    -0.0000    -0.0000    -0.0000     0.0000     1.0000    -0.0000    -0.0000    -0.0000    -0.0000    -0.0000    -0.0000     0.0000     1.0000    -0.0000    -0.0000    -0.0000    -0.0000    -0.0000    -0.0000     0.0000     1.0000    -0.0000    -0.0000    -0.0000    -0.0000    -0.0000    -0.0000     0.0000     1.0000    -0.0000    -0.0000    -0.0000    -0.0000    -0.0000    -0.0000     0.0000     1.0000    -0.0000    -0.0000    -0.0000    -0.0000    -0.0000    -0.0000     0.0000     1.0000    -0.0000    -0.0000 \n",
      "   -0.0000    -0.0000    -0.0000    -0.0000     0.0000     1.0000    -0.0000    -0.0000    -0.0000    -0.0000    -0.0000    -0.0000     0.0000     1.0000    -0.0000    -0.0000    -0.0000    -0.0000    -0.0000    -0.0000     0.0000     1.0000    -0.0000    -0.0000    -0.0000    -0.0000    -0.0000    -0.0000     0.0000     1.0000    -0.0000    -0.0000    -0.0000    -0.0000    -0.0000    -0.0000     0.0000     1.0000    -0.0000    -0.0000    -0.0000    -0.0000    -0.0000    -0.0000     0.0000     1.0000    -0.0000    -0.0000    -0.0000    -0.0000    -0.0000    -0.0000     0.0000     1.0000    -0.0000    -0.0000    -0.0000    -0.0000    -0.0000    -0.0000     0.0000     1.0000    -0.0000    -0.0000 \n",
      "   -0.0000    -0.0000    -0.0000    -0.0000     0.0000     1.0000    -0.0000    -0.0000    -0.0000    -0.0000    -0.0000    -0.0000     0.0000     1.0000    -0.0000    -0.0000    -0.0000    -0.0000    -0.0000    -0.0000     0.0000     1.0000    -0.0000    -0.0000    -0.0000    -0.0000    -0.0000    -0.0000     0.0000     1.0000    -0.0000    -0.0000    -0.0000    -0.0000    -0.0000    -0.0000     0.0000     1.0000    -0.0000    -0.0000    -0.0000    -0.0000    -0.0000    -0.0000     0.0000     1.0000    -0.0000    -0.0000    -0.0000    -0.0000    -0.0000    -0.0000     0.0000     1.0000    -0.0000    -0.0000    -0.0000    -0.0000    -0.0000    -0.0000     0.0000     1.0000    -0.0000    -0.0000 \n",
      "   -0.0000    -0.0000    -0.0000    -0.0000     0.0000     1.0000    -0.0000    -0.0000    -0.0000    -0.0000    -0.0000    -0.0000     0.0000     1.0000    -0.0000    -0.0000    -0.0000    -0.0000    -0.0000    -0.0000     0.0000     1.0000    -0.0000    -0.0000    -0.0000    -0.0000    -0.0000    -0.0000     0.0000     1.0000    -0.0000    -0.0000    -0.0000    -0.0000    -0.0000    -0.0000     0.0000     1.0000    -0.0000    -0.0000    -0.0000    -0.0000    -0.0000    -0.0000     0.0000     1.0000    -0.0000    -0.0000    -0.0000    -0.0000    -0.0000    -0.0000     0.0000     1.0000    -0.0000    -0.0000    -0.0000    -0.0000    -0.0000    -0.0000     0.0000     1.0000    -0.0000    -0.0000 \n",
      "    0.0000     0.0000     0.0000    -0.0000    -0.0000    -0.0000     1.0000    -0.0000     0.0000     0.0000     0.0000    -0.0000    -0.0000    -0.0000     1.0000    -0.0000     0.0000     0.0000     0.0000    -0.0000    -0.0000    -0.0000     1.0000    -0.0000     0.0000     0.0000     0.0000    -0.0000    -0.0000    -0.0000     1.0000    -0.0000     0.0000     0.0000     0.0000    -0.0000    -0.0000    -0.0000     1.0000    -0.0000     0.0000     0.0000     0.0000    -0.0000    -0.0000    -0.0000     1.0000    -0.0000     0.0000     0.0000     0.0000    -0.0000    -0.0000    -0.0000     1.0000    -0.0000     0.0000     0.0000     0.0000    -0.0000    -0.0000    -0.0000     1.0000    -0.0000 \n",
      "    0.0000     0.0000     0.0000    -0.0000    -0.0000    -0.0000     1.0000    -0.0000     0.0000     0.0000     0.0000    -0.0000    -0.0000    -0.0000     1.0000    -0.0000     0.0000     0.0000     0.0000    -0.0000    -0.0000    -0.0000     1.0000    -0.0000     0.0000     0.0000     0.0000    -0.0000    -0.0000    -0.0000     1.0000    -0.0000     0.0000     0.0000     0.0000    -0.0000    -0.0000    -0.0000     1.0000    -0.0000     0.0000     0.0000     0.0000    -0.0000    -0.0000    -0.0000     1.0000    -0.0000     0.0000     0.0000     0.0000    -0.0000    -0.0000    -0.0000     1.0000    -0.0000     0.0000     0.0000     0.0000    -0.0000    -0.0000    -0.0000     1.0000    -0.0000 \n",
      "    0.0000     0.0000     0.0000    -0.0000    -0.0000    -0.0000     1.0000    -0.0000     0.0000     0.0000     0.0000    -0.0000    -0.0000    -0.0000     1.0000    -0.0000     0.0000     0.0000     0.0000    -0.0000    -0.0000    -0.0000     1.0000    -0.0000     0.0000     0.0000     0.0000    -0.0000    -0.0000    -0.0000     1.0000    -0.0000     0.0000     0.0000     0.0000    -0.0000    -0.0000    -0.0000     1.0000    -0.0000     0.0000     0.0000     0.0000    -0.0000    -0.0000    -0.0000     1.0000    -0.0000     0.0000     0.0000     0.0000    -0.0000    -0.0000    -0.0000     1.0000    -0.0000     0.0000     0.0000     0.0000    -0.0000    -0.0000    -0.0000     1.0000    -0.0000 \n",
      "    0.0000     0.0000     0.0000    -0.0000    -0.0000    -0.0000     1.0000    -0.0000     0.0000     0.0000     0.0000    -0.0000    -0.0000    -0.0000     1.0000    -0.0000     0.0000     0.0000     0.0000    -0.0000    -0.0000    -0.0000     1.0000    -0.0000     0.0000     0.0000     0.0000    -0.0000    -0.0000    -0.0000     1.0000    -0.0000     0.0000     0.0000     0.0000    -0.0000    -0.0000    -0.0000     1.0000    -0.0000     0.0000     0.0000     0.0000    -0.0000    -0.0000    -0.0000     1.0000    -0.0000     0.0000     0.0000     0.0000    -0.0000    -0.0000    -0.0000     1.0000    -0.0000     0.0000     0.0000     0.0000    -0.0000    -0.0000    -0.0000     1.0000    -0.0000 \n",
      "    0.0000     0.0000     0.0000    -0.0000    -0.0000    -0.0000     1.0000    -0.0000     0.0000     0.0000     0.0000    -0.0000    -0.0000    -0.0000     1.0000    -0.0000     0.0000     0.0000     0.0000    -0.0000    -0.0000    -0.0000     1.0000    -0.0000     0.0000     0.0000     0.0000    -0.0000    -0.0000    -0.0000     1.0000    -0.0000     0.0000     0.0000     0.0000    -0.0000    -0.0000    -0.0000     1.0000    -0.0000     0.0000     0.0000     0.0000    -0.0000    -0.0000    -0.0000     1.0000    -0.0000     0.0000     0.0000     0.0000    -0.0000    -0.0000    -0.0000     1.0000    -0.0000     0.0000     0.0000     0.0000    -0.0000    -0.0000    -0.0000     1.0000    -0.0000 \n",
      "    0.0000     0.0000     0.0000    -0.0000    -0.0000    -0.0000     1.0000    -0.0000     0.0000     0.0000     0.0000    -0.0000    -0.0000    -0.0000     1.0000    -0.0000     0.0000     0.0000     0.0000    -0.0000    -0.0000    -0.0000     1.0000    -0.0000     0.0000     0.0000     0.0000    -0.0000    -0.0000    -0.0000     1.0000    -0.0000     0.0000     0.0000     0.0000    -0.0000    -0.0000    -0.0000     1.0000    -0.0000     0.0000     0.0000     0.0000    -0.0000    -0.0000    -0.0000     1.0000    -0.0000     0.0000     0.0000     0.0000    -0.0000    -0.0000    -0.0000     1.0000    -0.0000     0.0000     0.0000     0.0000    -0.0000    -0.0000    -0.0000     1.0000    -0.0000 \n",
      "    0.0000     0.0000     0.0000    -0.0000    -0.0000    -0.0000     1.0000    -0.0000     0.0000     0.0000     0.0000    -0.0000    -0.0000    -0.0000     1.0000    -0.0000     0.0000     0.0000     0.0000    -0.0000    -0.0000    -0.0000     1.0000    -0.0000     0.0000     0.0000     0.0000    -0.0000    -0.0000    -0.0000     1.0000    -0.0000     0.0000     0.0000     0.0000    -0.0000    -0.0000    -0.0000     1.0000    -0.0000     0.0000     0.0000     0.0000    -0.0000    -0.0000    -0.0000     1.0000    -0.0000     0.0000     0.0000     0.0000    -0.0000    -0.0000    -0.0000     1.0000    -0.0000     0.0000     0.0000     0.0000    -0.0000    -0.0000    -0.0000     1.0000    -0.0000 \n",
      "    0.0000     0.0000     0.0000    -0.0000    -0.0000    -0.0000     1.0000    -0.0000     0.0000     0.0000     0.0000    -0.0000    -0.0000    -0.0000     1.0000    -0.0000     0.0000     0.0000     0.0000    -0.0000    -0.0000    -0.0000     1.0000    -0.0000     0.0000     0.0000     0.0000    -0.0000    -0.0000    -0.0000     1.0000    -0.0000     0.0000     0.0000     0.0000    -0.0000    -0.0000    -0.0000     1.0000    -0.0000     0.0000     0.0000     0.0000    -0.0000    -0.0000    -0.0000     1.0000    -0.0000     0.0000     0.0000     0.0000    -0.0000    -0.0000    -0.0000     1.0000    -0.0000     0.0000     0.0000     0.0000    -0.0000    -0.0000    -0.0000     1.0000    -0.0000 \n",
      "    0.0000    -0.0000    -0.0000    -0.0000     0.0000    -0.0000     0.0000     1.0000     0.0000    -0.0000    -0.0000    -0.0000     0.0000    -0.0000     0.0000     1.0000     0.0000    -0.0000    -0.0000    -0.0000     0.0000    -0.0000     0.0000     1.0000     0.0000    -0.0000    -0.0000    -0.0000     0.0000    -0.0000     0.0000     1.0000     0.0000    -0.0000    -0.0000    -0.0000     0.0000    -0.0000     0.0000     1.0000     0.0000    -0.0000    -0.0000    -0.0000     0.0000    -0.0000     0.0000     1.0000     0.0000    -0.0000    -0.0000    -0.0000     0.0000    -0.0000     0.0000     1.0000     0.0000    -0.0000    -0.0000    -0.0000     0.0000    -0.0000     0.0000     1.0000 \n",
      "    0.0000    -0.0000    -0.0000    -0.0000     0.0000    -0.0000     0.0000     1.0000     0.0000    -0.0000    -0.0000    -0.0000     0.0000    -0.0000     0.0000     1.0000     0.0000    -0.0000    -0.0000    -0.0000     0.0000    -0.0000     0.0000     1.0000     0.0000    -0.0000    -0.0000    -0.0000     0.0000    -0.0000     0.0000     1.0000     0.0000    -0.0000    -0.0000    -0.0000     0.0000    -0.0000     0.0000     1.0000     0.0000    -0.0000    -0.0000    -0.0000     0.0000    -0.0000     0.0000     1.0000     0.0000    -0.0000    -0.0000    -0.0000     0.0000    -0.0000     0.0000     1.0000     0.0000    -0.0000    -0.0000    -0.0000     0.0000    -0.0000     0.0000     1.0000 \n",
      "    0.0000    -0.0000    -0.0000    -0.0000     0.0000    -0.0000     0.0000     1.0000     0.0000    -0.0000    -0.0000    -0.0000     0.0000    -0.0000     0.0000     1.0000     0.0000    -0.0000    -0.0000    -0.0000     0.0000    -0.0000     0.0000     1.0000     0.0000    -0.0000    -0.0000    -0.0000     0.0000    -0.0000     0.0000     1.0000     0.0000    -0.0000    -0.0000    -0.0000     0.0000    -0.0000     0.0000     1.0000     0.0000    -0.0000    -0.0000    -0.0000     0.0000    -0.0000     0.0000     1.0000     0.0000    -0.0000    -0.0000    -0.0000     0.0000    -0.0000     0.0000     1.0000     0.0000    -0.0000    -0.0000    -0.0000     0.0000    -0.0000     0.0000     1.0000 \n",
      "    0.0000    -0.0000    -0.0000    -0.0000     0.0000    -0.0000     0.0000     1.0000     0.0000    -0.0000    -0.0000    -0.0000     0.0000    -0.0000     0.0000     1.0000     0.0000    -0.0000    -0.0000    -0.0000     0.0000    -0.0000     0.0000     1.0000     0.0000    -0.0000    -0.0000    -0.0000     0.0000    -0.0000     0.0000     1.0000     0.0000    -0.0000    -0.0000    -0.0000     0.0000    -0.0000     0.0000     1.0000     0.0000    -0.0000    -0.0000    -0.0000     0.0000    -0.0000     0.0000     1.0000     0.0000    -0.0000    -0.0000    -0.0000     0.0000    -0.0000     0.0000     1.0000     0.0000    -0.0000    -0.0000    -0.0000     0.0000    -0.0000     0.0000     1.0000 \n",
      "    0.0000    -0.0000    -0.0000    -0.0000     0.0000    -0.0000     0.0000     1.0000     0.0000    -0.0000    -0.0000    -0.0000     0.0000    -0.0000     0.0000     1.0000     0.0000    -0.0000    -0.0000    -0.0000     0.0000    -0.0000     0.0000     1.0000     0.0000    -0.0000    -0.0000    -0.0000     0.0000    -0.0000     0.0000     1.0000     0.0000    -0.0000    -0.0000    -0.0000     0.0000    -0.0000     0.0000     1.0000     0.0000    -0.0000    -0.0000    -0.0000     0.0000    -0.0000     0.0000     1.0000     0.0000    -0.0000    -0.0000    -0.0000     0.0000    -0.0000     0.0000     1.0000     0.0000    -0.0000    -0.0000    -0.0000     0.0000    -0.0000     0.0000     1.0000 \n",
      "    0.0000    -0.0000    -0.0000    -0.0000     0.0000    -0.0000     0.0000     1.0000     0.0000    -0.0000    -0.0000    -0.0000     0.0000    -0.0000     0.0000     1.0000     0.0000    -0.0000    -0.0000    -0.0000     0.0000    -0.0000     0.0000     1.0000     0.0000    -0.0000    -0.0000    -0.0000     0.0000    -0.0000     0.0000     1.0000     0.0000    -0.0000    -0.0000    -0.0000     0.0000    -0.0000     0.0000     1.0000     0.0000    -0.0000    -0.0000    -0.0000     0.0000    -0.0000     0.0000     1.0000     0.0000    -0.0000    -0.0000    -0.0000     0.0000    -0.0000     0.0000     1.0000     0.0000    -0.0000    -0.0000    -0.0000     0.0000    -0.0000     0.0000     1.0000 \n",
      "    0.0000    -0.0000    -0.0000    -0.0000     0.0000    -0.0000     0.0000     1.0000     0.0000    -0.0000    -0.0000    -0.0000     0.0000    -0.0000     0.0000     1.0000     0.0000    -0.0000    -0.0000    -0.0000     0.0000    -0.0000     0.0000     1.0000     0.0000    -0.0000    -0.0000    -0.0000     0.0000    -0.0000     0.0000     1.0000     0.0000    -0.0000    -0.0000    -0.0000     0.0000    -0.0000     0.0000     1.0000     0.0000    -0.0000    -0.0000    -0.0000     0.0000    -0.0000     0.0000     1.0000     0.0000    -0.0000    -0.0000    -0.0000     0.0000    -0.0000     0.0000     1.0000     0.0000    -0.0000    -0.0000    -0.0000     0.0000    -0.0000     0.0000     1.0000 \n",
      "    0.0000    -0.0000    -0.0000    -0.0000     0.0000    -0.0000     0.0000     1.0000     0.0000    -0.0000    -0.0000    -0.0000     0.0000    -0.0000     0.0000     1.0000     0.0000    -0.0000    -0.0000    -0.0000     0.0000    -0.0000     0.0000     1.0000     0.0000    -0.0000    -0.0000    -0.0000     0.0000    -0.0000     0.0000     1.0000     0.0000    -0.0000    -0.0000    -0.0000     0.0000    -0.0000     0.0000     1.0000     0.0000    -0.0000    -0.0000    -0.0000     0.0000    -0.0000     0.0000     1.0000     0.0000    -0.0000    -0.0000    -0.0000     0.0000    -0.0000     0.0000     1.0000     0.0000    -0.0000    -0.0000    -0.0000     0.0000    -0.0000     0.0000     1.0000 \n",
      "\n",
      "\n"
     ]
    }
   ],
   "source": [
    "print(L_p_LGL)"
   ]
  },
  {
   "cell_type": "code",
   "execution_count": 16,
   "metadata": {},
   "outputs": [
    {
     "name": "stdout",
     "output_type": "stream",
     "text": [
      "arrayfire.Array()\n",
      "Type: double\n",
      "\n",
      "[64 8 1 1]\n",
      "    1.0000     0.0000     0.0000     0.0000     0.0000     0.0000     0.0000     0.0000 \n",
      "    1.0000     0.0000     0.0000     0.0000     0.0000     0.0000     0.0000     0.0000 \n",
      "    1.0000     0.0000     0.0000     0.0000     0.0000     0.0000     0.0000     0.0000 \n",
      "    1.0000     0.0000     0.0000     0.0000     0.0000     0.0000     0.0000     0.0000 \n",
      "    1.0000     0.0000     0.0000     0.0000     0.0000     0.0000     0.0000     0.0000 \n",
      "    1.0000     0.0000     0.0000     0.0000     0.0000     0.0000     0.0000     0.0000 \n",
      "    1.0000     0.0000     0.0000     0.0000     0.0000     0.0000     0.0000     0.0000 \n",
      "    1.0000     0.0000     0.0000     0.0000     0.0000     0.0000     0.0000     0.0000 \n",
      "    0.0000     1.0000     0.0000     0.0000    -0.0000     0.0000     0.0000     0.0000 \n",
      "    0.0000     1.0000     0.0000     0.0000    -0.0000     0.0000     0.0000     0.0000 \n",
      "    0.0000     1.0000     0.0000     0.0000    -0.0000     0.0000     0.0000     0.0000 \n",
      "    0.0000     1.0000     0.0000     0.0000    -0.0000     0.0000     0.0000     0.0000 \n",
      "    0.0000     1.0000     0.0000     0.0000    -0.0000     0.0000     0.0000     0.0000 \n",
      "    0.0000     1.0000     0.0000     0.0000    -0.0000     0.0000     0.0000     0.0000 \n",
      "    0.0000     1.0000     0.0000     0.0000    -0.0000     0.0000     0.0000     0.0000 \n",
      "    0.0000     1.0000     0.0000     0.0000    -0.0000     0.0000     0.0000     0.0000 \n",
      "    0.0000     0.0000     1.0000     0.0000     0.0000    -0.0000    -0.0000    -0.0000 \n",
      "    0.0000     0.0000     1.0000     0.0000     0.0000    -0.0000    -0.0000    -0.0000 \n",
      "    0.0000     0.0000     1.0000     0.0000     0.0000    -0.0000    -0.0000    -0.0000 \n",
      "    0.0000     0.0000     1.0000     0.0000     0.0000    -0.0000    -0.0000    -0.0000 \n",
      "    0.0000     0.0000     1.0000     0.0000     0.0000    -0.0000    -0.0000    -0.0000 \n",
      "    0.0000     0.0000     1.0000     0.0000     0.0000    -0.0000    -0.0000    -0.0000 \n",
      "    0.0000     0.0000     1.0000     0.0000     0.0000    -0.0000    -0.0000    -0.0000 \n",
      "    0.0000     0.0000     1.0000     0.0000     0.0000    -0.0000    -0.0000    -0.0000 \n",
      "    0.0000     0.0000     0.0000     1.0000    -0.0000    -0.0000    -0.0000    -0.0000 \n",
      "    0.0000     0.0000     0.0000     1.0000    -0.0000    -0.0000    -0.0000    -0.0000 \n",
      "    0.0000     0.0000     0.0000     1.0000    -0.0000    -0.0000    -0.0000    -0.0000 \n",
      "    0.0000     0.0000     0.0000     1.0000    -0.0000    -0.0000    -0.0000    -0.0000 \n",
      "    0.0000     0.0000     0.0000     1.0000    -0.0000    -0.0000    -0.0000    -0.0000 \n",
      "    0.0000     0.0000     0.0000     1.0000    -0.0000    -0.0000    -0.0000    -0.0000 \n",
      "    0.0000     0.0000     0.0000     1.0000    -0.0000    -0.0000    -0.0000    -0.0000 \n",
      "    0.0000     0.0000     0.0000     1.0000    -0.0000    -0.0000    -0.0000    -0.0000 \n",
      "   -0.0000    -0.0000    -0.0000    -0.0000     1.0000     0.0000    -0.0000     0.0000 \n",
      "   -0.0000    -0.0000    -0.0000    -0.0000     1.0000     0.0000    -0.0000     0.0000 \n",
      "   -0.0000    -0.0000    -0.0000    -0.0000     1.0000     0.0000    -0.0000     0.0000 \n",
      "   -0.0000    -0.0000    -0.0000    -0.0000     1.0000     0.0000    -0.0000     0.0000 \n",
      "   -0.0000    -0.0000    -0.0000    -0.0000     1.0000     0.0000    -0.0000     0.0000 \n",
      "   -0.0000    -0.0000    -0.0000    -0.0000     1.0000     0.0000    -0.0000     0.0000 \n",
      "   -0.0000    -0.0000    -0.0000    -0.0000     1.0000     0.0000    -0.0000     0.0000 \n",
      "   -0.0000    -0.0000    -0.0000    -0.0000     1.0000     0.0000    -0.0000     0.0000 \n",
      "   -0.0000    -0.0000    -0.0000    -0.0000     0.0000     1.0000    -0.0000    -0.0000 \n",
      "   -0.0000    -0.0000    -0.0000    -0.0000     0.0000     1.0000    -0.0000    -0.0000 \n",
      "   -0.0000    -0.0000    -0.0000    -0.0000     0.0000     1.0000    -0.0000    -0.0000 \n",
      "   -0.0000    -0.0000    -0.0000    -0.0000     0.0000     1.0000    -0.0000    -0.0000 \n",
      "   -0.0000    -0.0000    -0.0000    -0.0000     0.0000     1.0000    -0.0000    -0.0000 \n",
      "   -0.0000    -0.0000    -0.0000    -0.0000     0.0000     1.0000    -0.0000    -0.0000 \n",
      "   -0.0000    -0.0000    -0.0000    -0.0000     0.0000     1.0000    -0.0000    -0.0000 \n",
      "   -0.0000    -0.0000    -0.0000    -0.0000     0.0000     1.0000    -0.0000    -0.0000 \n",
      "    0.0000     0.0000     0.0000    -0.0000    -0.0000    -0.0000     1.0000    -0.0000 \n",
      "    0.0000     0.0000     0.0000    -0.0000    -0.0000    -0.0000     1.0000    -0.0000 \n",
      "    0.0000     0.0000     0.0000    -0.0000    -0.0000    -0.0000     1.0000    -0.0000 \n",
      "    0.0000     0.0000     0.0000    -0.0000    -0.0000    -0.0000     1.0000    -0.0000 \n",
      "    0.0000     0.0000     0.0000    -0.0000    -0.0000    -0.0000     1.0000    -0.0000 \n",
      "    0.0000     0.0000     0.0000    -0.0000    -0.0000    -0.0000     1.0000    -0.0000 \n",
      "    0.0000     0.0000     0.0000    -0.0000    -0.0000    -0.0000     1.0000    -0.0000 \n",
      "    0.0000     0.0000     0.0000    -0.0000    -0.0000    -0.0000     1.0000    -0.0000 \n",
      "    0.0000    -0.0000    -0.0000    -0.0000     0.0000    -0.0000    -0.0000     1.0000 \n",
      "    0.0000    -0.0000    -0.0000    -0.0000     0.0000    -0.0000    -0.0000     1.0000 \n",
      "    0.0000    -0.0000    -0.0000    -0.0000     0.0000    -0.0000    -0.0000     1.0000 \n",
      "    0.0000    -0.0000    -0.0000    -0.0000     0.0000    -0.0000    -0.0000     1.0000 \n",
      "    0.0000    -0.0000    -0.0000    -0.0000     0.0000    -0.0000    -0.0000     1.0000 \n",
      "    0.0000    -0.0000    -0.0000    -0.0000     0.0000    -0.0000    -0.0000     1.0000 \n",
      "    0.0000    -0.0000    -0.0000    -0.0000     0.0000    -0.0000    -0.0000     1.0000 \n",
      "    0.0000    -0.0000    -0.0000    -0.0000     0.0000    -0.0000    -0.0000     1.0000 \n",
      "\n",
      "\n"
     ]
    }
   ],
   "source": [
    "#print(L_p_array[0])#, xi)\n",
    "#print(params.lagrange_coeffs)\n",
    "print(utils.polyval_1d(L_p_array, xi_LGL))"
   ]
  },
  {
   "cell_type": "code",
   "execution_count": null,
   "metadata": {
    "collapsed": true
   },
   "outputs": [],
   "source": []
  },
  {
   "cell_type": "code",
   "execution_count": null,
   "metadata": {
    "collapsed": true
   },
   "outputs": [],
   "source": []
  },
  {
   "cell_type": "code",
   "execution_count": 17,
=======
   "execution_count": 13,
>>>>>>> 24ad7811eefdc05cb59c8676ce8659685e9a8599
   "metadata": {
    "collapsed": true
   },
   "outputs": [],
   "source": [
    "F_xi_LGL  = F_xi(u_init[0])\n",
    "F_eta_LGL = F_eta(u_init[0])"
   ]
  },
  {
   "cell_type": "code",
   "execution_count": 18,
   "metadata": {},
   "outputs": [
    {
     "name": "stdout",
     "output_type": "stream",
     "text": [
      "(64, 64)\n",
      "(64, 64)\n",
      "(64, 64)\n",
      "(64, 64)\n"
     ]
    }
   ],
   "source": [
    "print(af.tile(af.transpose(g_ab[0][0]), d0 = N_LGL * N_LGL).shape)\n",
    "print(L_p_LGL.shape)\n",
    "print(dLq_deta_LGL.shape)\n",
    "print(af.tile(af.transpose(F_xi_LGL), d0 = N_LGL * N_LGL).shape)"
   ]
  },
  {
   "cell_type": "code",
   "execution_count": 19,
   "metadata": {},
   "outputs": [
    {
     "ename": "NameError",
     "evalue": "name 'L_q_N_LGL' is not defined",
     "output_type": "error",
     "traceback": [
      "\u001b[0;31m---------------------------------------------------------------------------\u001b[0m",
      "\u001b[0;31mNameError\u001b[0m                                 Traceback (most recent call last)",
      "\u001b[0;32m<ipython-input-19-83eac5e56b71>\u001b[0m in \u001b[0;36m<module>\u001b[0;34m()\u001b[0m\n\u001b[0;32m----> 1\u001b[0;31m \u001b[0mv_00\u001b[0m \u001b[0;34m=\u001b[0m \u001b[0maf\u001b[0m\u001b[0;34m.\u001b[0m\u001b[0mmean\u001b[0m\u001b[0;34m(\u001b[0m\u001b[0mg_ab\u001b[0m\u001b[0;34m[\u001b[0m\u001b[0;36m0\u001b[0m\u001b[0;34m]\u001b[0m\u001b[0;34m[\u001b[0m\u001b[0;36m0\u001b[0m\u001b[0;34m]\u001b[0m\u001b[0;34m)\u001b[0m \u001b[0;34m*\u001b[0m \u001b[0mL_q_N_LGL\u001b[0m\u001b[0;34m\u001b[0m\u001b[0m\n\u001b[0m",
      "\u001b[0;31mNameError\u001b[0m: name 'L_q_N_LGL' is not defined"
     ]
    }
   ],
   "source": [
    "v_00 = af.mean(g_ab[0][0]) * L_q_N_LGL"
   ]
  },
  {
   "cell_type": "code",
   "execution_count": null,
   "metadata": {},
   "outputs": [],
   "source": []
  },
  {
   "cell_type": "code",
   "execution_count": null,
   "metadata": {},
   "outputs": [],
   "source": [
    "print(F_xi_LGL)"
   ]
  },
  {
   "cell_type": "code",
   "execution_count": null,
   "metadata": {},
   "outputs": [],
   "source": [
    "print(L_q_LGL)"
   ]
  },
  {
   "cell_type": "code",
   "execution_count": null,
   "metadata": {
    "collapsed": true
   },
   "outputs": [],
   "source": [
    "for p in range(N_LGL):\n",
    "    for q in range(N_LGL):\n",
    "        L_q_eta = "
   ]
  },
  {
   "cell_type": "code",
   "execution_count": null,
   "metadata": {},
   "outputs": [],
   "source": [
    "print(eta)\n",
    "print(L_p)\n",
    "print(utils.polyval_1d(L_p[0],      xi))"
   ]
  },
  {
   "cell_type": "code",
   "execution_count": null,
   "metadata": {
    "collapsed": true
   },
   "outputs": [],
   "source": []
  },
  {
   "cell_type": "code",
   "execution_count": null,
   "metadata": {
    "collapsed": true
   },
   "outputs": [],
   "source": []
  },
  {
   "cell_type": "code",
   "execution_count": null,
   "metadata": {
    "collapsed": true
   },
   "outputs": [],
   "source": []
  },
  {
   "cell_type": "code",
   "execution_count": null,
   "metadata": {
    "collapsed": true
   },
   "outputs": [],
   "source": []
  },
  {
   "cell_type": "code",
   "execution_count": null,
   "metadata": {
    "collapsed": true
   },
   "outputs": [],
   "source": []
  },
  {
   "cell_type": "code",
   "execution_count": null,
   "metadata": {
    "collapsed": true
   },
   "outputs": [],
   "source": []
  },
  {
   "cell_type": "code",
   "execution_count": 27,
   "metadata": {},
   "outputs": [
    {
     "name": "stdout",
     "output_type": "stream",
     "text": [
      "0\n"
     ]
    }
   ],
   "source": [
    "integrals = []\n",
    "for idx in np.arange(len(u_init)):\n",
    "    F_xi_LGL  = F_xi(u_init[idx])\n",
    "    F_eta_LGL = F_eta(u_init[idx])\n",
    "\n",
    "    integrand_00 = af.tile(af.transpose(g_ab[0][0]), d0 = N_LGL * N_LGL) * L_q_LGL * dLp_dxi_LGL \\\n",
    "                                          * af.tile(af.transpose(F_xi_LGL), d0 = N_LGL * N_LGL)\n",
    "    integrand_01 = af.tile(af.transpose(g_ab[0][1]), d0 = N_LGL * N_LGL) * L_p_LGL * dLq_deta_LGL * af.tile(af.transpose(F_eta_LGL), d0 = N_LGL * N_LGL)\n",
    "    integrand_10 = af.tile(af.transpose(g_ab[1][0]), d0 = N_LGL * N_LGL) * L_q_LGL * dLp_dxi_LGL * af.tile(af.transpose(F_xi_LGL), d0 = N_LGL * N_LGL)\n",
    "    integrand_11 = af.tile(af.transpose(g_ab[1][1]), d0 = N_LGL * N_LGL) * L_p_LGL * dLq_deta_LGL * af.tile(af.transpose(F_eta_LGL), d0 = N_LGL * N_LGL)\n",
    "\n",
    "    integrand = integrand_00 + integrand_01 + integrand_10 + integrand_11\n",
    "    integrand = af.reorder(integrand[0], d0 = 1, d1 = 2, d2 = 0)\n",
    "    integrals.append(integrand * utils.integrate_2d(L_p_array, L_q_array, order = 9))\n",
    "    integrals[-1] = af.moddims(integrals[-1], d0 = N_LGL, d1 = N_LGL)\n",
    "    print(idx)\n",
    "    "
   ]
  },
  {
   "cell_type": "code",
   "execution_count": null,
   "metadata": {},
   "outputs": [],
   "source": [
    "print(L_q_LGL * dLp_dxi_LGL)"
   ]
  },
  {
   "cell_type": "markdown",
   "metadata": {},
   "source": []
  },
  {
   "cell_type": "code",
   "execution_count": 28,
   "metadata": {},
   "outputs": [
    {
     "name": "stdout",
     "output_type": "stream",
     "text": [
      "2.235870639694396e-17\n"
     ]
    }
   ],
   "source": [
    "for integral in integrals:\n",
    "    print(af.max(integral))"
   ]
  },
  {
   "cell_type": "code",
   "execution_count": 29,
   "metadata": {
    "collapsed": true
   },
   "outputs": [],
   "source": [
    "#term_00 = integrand_test * utils.integrate_2d(L_p_array, L_q_array, order = 9)\n",
    "#term_00 = af.moddims(term_00, d0 = N_LGL, d1 = N_LGL)"
   ]
  },
  {
   "cell_type": "code",
   "execution_count": 30,
   "metadata": {},
   "outputs": [
    {
     "data": {
      "text/plain": [
       "True"
      ]
     },
     "execution_count": 30,
     "metadata": {},
     "output_type": "execute_result"
    }
   ],
   "source": [
    "0 > (-np.inf)"
   ]
  },
  {
   "cell_type": "code",
   "execution_count": 31,
   "metadata": {},
   "outputs": [
    {
     "name": "stdout",
     "output_type": "stream",
     "text": [
      "-0.15683599039677143\n",
      "2.235870639694396e-17\n"
     ]
    }
   ],
   "source": [
    "max_integral = []\n",
    "min_integral = []\n",
    "for integral in integrals:\n",
    "    max_integral.append(af.max(integral))\n",
    "    min_integral.append(af.min(integral))\n",
    "\n",
    "print(min(min_integral))\n",
    "print(max(max_integral))\n",
    "color_levels = np.linspace(min(min_integral), max(max_integral), 100)"
   ]
  },
  {
   "cell_type": "code",
   "execution_count": 32,
   "metadata": {},
   "outputs": [
    {
     "data": {
      "image/png": "iVBORw0KGgoAAAANSUhEUgAAAugAAAI2CAYAAAACbn3PAAAABHNCSVQICAgIfAhkiAAAAAlwSFlz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\nAV2SJEnqEQO6JEmS1CMGdEmSJKlH/h+BD+VM3TnCjAAAAABJRU5ErkJggg==\n",
      "text/plain": [
       "<matplotlib.figure.Figure at 0x7feb418450b8>"
      ]
     },
     "metadata": {},
     "output_type": "display_data"
    }
   ],
   "source": [
    "for idx in np.arange(len(integrals)):\n",
    "    plt.contourf(np.array(X[idx]), np.array(Y[idx]), np.array(integrals[idx]), 200, levels = color_levels, cmap = 'jet')\n",
    "\n",
    "plt.title(r'Volume Integral')\n",
    "plt.xlabel(r'$x$')\n",
    "plt.ylabel(r'$y$')\n",
    "plt.colorbar()\n",
    "plt.axes().set_aspect('equal')\n",
    "\n",
    "plt.savefig('volume_integral.png')\n",
    "plt.show()"
   ]
  },
  {
   "cell_type": "code",
   "execution_count": null,
   "metadata": {
    "collapsed": true
   },
   "outputs": [],
   "source": []
  },
  {
   "cell_type": "code",
   "execution_count": null,
   "metadata": {},
   "outputs": [],
   "source": [
    "foo = np.arange(4)\n",
    "bar = np.arange(4)\n",
    "\n",
    "foo, bar = np.meshgrid(foo, bar)\n",
    "foo = af.np_to_af_array(foo)\n",
    "bar = af.np_to_af_array(bar)\n",
    "\n",
    "foo = af.moddims(foo, d0 = 4 * 4, d1 = 1)\n",
    "bar = af.moddims(bar, d0 = 4 * 4, d1 = 1)\n",
    "\n",
    "# print(foo)\n",
    "# print(bar)\n",
    "\n",
    "print(af.moddims(foo, d0 = 4, d1 = 4))\n",
    "print(af.moddims(bar, d0 = 4, d1 = 4))\n"
   ]
  },
  {
   "cell_type": "code",
   "execution_count": null,
   "metadata": {
    "collapsed": true
   },
   "outputs": [],
   "source": [
    "nodes, elements = msh_parser.read_order_2_msh('read_and_plot_mesh/mesh/square_single_element.msh')"
   ]
  },
  {
   "cell_type": "code",
   "execution_count": null,
   "metadata": {},
   "outputs": [],
   "source": [
    "print(elements)"
   ]
  },
  {
   "cell_type": "code",
   "execution_count": null,
   "metadata": {},
   "outputs": [],
   "source": [
    "print(g_ab[1][1])"
   ]
  },
  {
   "cell_type": "code",
   "execution_count": null,
   "metadata": {
    "collapsed": true
   },
   "outputs": [],
   "source": []
  }
 ],
 "metadata": {
  "kernelspec": {
   "display_name": "Python 3",
   "language": "python",
   "name": "python3"
  },
  "language_info": {
   "codemirror_mode": {
    "name": "ipython",
    "version": 3
   },
   "file_extension": ".py",
   "mimetype": "text/x-python",
   "name": "python",
   "nbconvert_exporter": "python",
   "pygments_lexer": "ipython3",
   "version": "3.6.1"
  }
 },
 "nbformat": 4,
 "nbformat_minor": 2
}
