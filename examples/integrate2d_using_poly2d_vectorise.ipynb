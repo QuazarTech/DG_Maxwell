{
 "cells": [
  {
   "cell_type": "markdown",
   "metadata": {},
   "source": [
    "# Numerical integration of double variable polynomials\n",
    "This example uses the `integrate_2d` function to calculate\n",
    "the integral\n",
    "$$\\int_{-1}^{1} P(x, y) \\partial x \\partial y$$\n",
    "where $P_0(x)$ and $P_1(y)$ are polynomials.\n",
    "\n",
    "For this example,\n",
    "$$P(x, y) = L^2_i(\\xi) L^2_i(\\eta)$$\n",
    "\n",
    "Where,\n",
    "\n",
    "$L_i$, $i \\in \\{0 ... 7\\}$, are the Lagrange polynomials created using $8$ Legendre-Gauss-Lobatto(LGL) points."
   ]
  },
  {
   "cell_type": "code",
   "execution_count": 1,
   "metadata": {},
   "outputs": [
    {
     "name": "stderr",
     "output_type": "stream",
     "text": [
      "/home/ubermensch/.local/anaconda3/lib/python3.6/site-packages/numpy/lib/polynomial.py:1193: FutureWarning: In the future extra properties will not be copied across when constructing one poly1d from another\n",
      "  other = poly1d(other)\n",
      "/home/ubermensch/.local/anaconda3/lib/python3.6/site-packages/numpy/lib/polynomial.py:1220: FutureWarning: In the future extra properties will not be copied across when constructing one poly1d from another\n",
      "  other = poly1d(other)\n"
     ]
    }
   ],
   "source": [
    "import os\n",
    "import sys\n",
    "sys.path.insert(0, os.path.abspath('../'))\n",
    "\n",
    "import numpy as np\n",
    "import arrayfire as af\n",
    "\n",
    "from dg_maxwell import params\n",
    "from dg_maxwell import utils\n",
    "from dg_maxwell import lagrange\n",
    "from dg_maxwell import wave_equation_2d as w2d\n",
    "\n",
    "af.set_backend(params.backend)"
   ]
  },
  {
   "cell_type": "code",
   "execution_count": 2,
   "metadata": {},
   "outputs": [],
   "source": [
    "# Define the polynomials\n",
    "degree_xi = 6\n",
    "p_xi = af.flip(af.range(degree_xi) + 1)\n",
    "p_xi = af.moddims(p_xi, d0 = 2, d1 = 3)\n",
    "\n",
    "degree_eta = 6\n",
    "p_eta = af.flip(af.range(degree_eta) + 1)\n",
    "p_eta = af.moddims(p_eta, d0 = 2, d1 = 3)\n"
   ]
  },
  {
   "cell_type": "code",
   "execution_count": 3,
   "metadata": {},
   "outputs": [
    {
     "name": "stdout",
     "output_type": "stream",
     "text": [
      "arrayfire.Array()\n",
      "Type: float\n",
      "\n",
      "[2 3 1 1]\n",
      "    6.0000     4.0000     2.0000 \n",
      "    5.0000     3.0000     1.0000 \n",
      "\n",
      "\n"
     ]
    }
   ],
   "source": [
    "print(p_xi)"
   ]
  },
  {
   "cell_type": "code",
   "execution_count": 4,
   "metadata": {},
   "outputs": [],
   "source": [
    "p_xi_eta = utils.polynomial_product_coeffs(af.reorder(p_xi, 1, 2, 0), af.reorder(p_eta, 1, 2, 0))\n",
    "poly_xi_eta = p_xi_eta[:, :, 1]"
   ]
  },
  {
   "cell_type": "code",
   "execution_count": 96,
   "metadata": {},
   "outputs": [
    {
     "data": {
      "text/plain": [
       "28.44444444444407"
      ]
     },
     "execution_count": 96,
     "metadata": {},
     "output_type": "execute_result"
    }
   ],
   "source": [
    "utils.integrate_2d_multivar_poly(p_xi_eta[:, :, 1], N_quad = 9, scheme = 'gauss')"
   ]
  },
  {
   "cell_type": "code",
   "execution_count": 97,
   "metadata": {},
   "outputs": [
    {
     "name": "stdout",
     "output_type": "stream",
     "text": [
      "arrayfire.Array()\n",
      "Type: double\n",
      "\n",
      "[1 1 1 1]\n",
      "   28.4444 \n",
      "\n"
     ]
    }
   ],
   "source": [
    "# Gauss-Legendre quadrature\n",
    "N_quad = 9\n",
    "\n",
    "shape_poly_2d = utils.shape(poly_xi_eta)\n",
    "xi_gauss  = af.np_to_af_array(lagrange.gauss_nodes(N_quad))\n",
    "eta_gauss = af.np_to_af_array(lagrange.gauss_nodes(N_quad))\n",
    "\n",
    "Xi, Eta = utils.af_meshgrid(xi_gauss, eta_gauss)\n",
    "\n",
    "Xi  = af.flat(Xi)\n",
    "Eta = af.flat(Eta)\n",
    "\n",
    "w_i = lagrange.gaussian_weights(N_quad)\n",
    "w_j = lagrange.gaussian_weights(N_quad)\n",
    "\n",
    "W_i, W_j = utils.af_meshgrid(w_i, w_j)\n",
    "\n",
    "W_i = af.tile(af.flat(W_i), d0 = 1, d1 = shape_poly_2d[2])\n",
    "W_j = af.tile(af.flat(W_j), d0 = 1, d1 = shape_poly_2d[2])\n",
    "\n",
    "P_xi_eta_quad_val = af.transpose(utils.polyval_2d(poly_xi_eta, Xi, Eta))\n",
    "\n",
    "integral = af.sum(W_i * W_j * P_xi_eta_quad_val, dim = 0)\n",
    "print(integral)"
   ]
  },
  {
   "cell_type": "code",
   "execution_count": 99,
   "metadata": {},
   "outputs": [
    {
     "name": "stdout",
     "output_type": "stream",
     "text": [
      "arrayfire.Array()\n",
      "Type: double\n",
      "\n",
      "[1 1 1 1]\n",
      "   28.4444 \n",
      "\n"
     ]
    },
    {
     "name": "stderr",
     "output_type": "stream",
     "text": [
      "/home/ubermensch/.local/anaconda3/lib/python3.6/site-packages/numpy/lib/polynomial.py:1193: FutureWarning: In the future extra properties will not be copied across when constructing one poly1d from another\n",
      "  other = poly1d(other)\n",
      "/home/ubermensch/.local/anaconda3/lib/python3.6/site-packages/numpy/lib/polynomial.py:1220: FutureWarning: In the future extra properties will not be copied across when constructing one poly1d from another\n",
      "  other = poly1d(other)\n"
     ]
    }
   ],
   "source": [
    "shape_poly_2d = utils.shape(poly_xi_eta)\n",
    "\n",
    "xi_LGL  = lagrange.LGL_points(N_quad)\n",
    "eta_LGL = lagrange.LGL_points(N_quad)\n",
    "\n",
    "Xi, Eta = utils.af_meshgrid(xi_LGL, eta_LGL)\n",
    "\n",
    "Xi  = af.flat(Xi)\n",
    "Eta = af.flat(Eta)\n",
    "\n",
    "w_i = lagrange.lobatto_weights(N_quad)\n",
    "w_j = lagrange.lobatto_weights(N_quad)\n",
    "\n",
    "W_i, W_j = utils.af_meshgrid(w_i, w_j)\n",
    "\n",
    "W_i = af.tile(af.flat(W_i), d0 = 1, d1 = shape_poly_2d[2])\n",
    "W_j = af.tile(af.flat(W_j), d0 = 1, d1 = shape_poly_2d[2])\n",
    "\n",
    "P_xi_eta_quad_val = af.transpose(utils.polyval_2d(poly_xi_eta, Xi, Eta))\n",
    "\n",
    "integral = af.sum(W_i * W_j * P_xi_eta_quad_val, dim = 0)\n",
    "\n",
    "print(integral)\n"
   ]
  },
  {
   "cell_type": "code",
   "execution_count": 5,
   "metadata": {},
   "outputs": [
    {
     "name": "stdout",
     "output_type": "stream",
     "text": [
      "arrayfire.Array()\n",
      "Type: double\n",
      "\n",
      "[2 1 1 1]\n",
      "   64.0000 \n",
      "   28.4444 \n",
      "\n",
      "\n",
      "arrayfire.Array()\n",
      "Type: double\n",
      "\n",
      "[2 1 1 1]\n",
      "   64.0000 \n",
      "   28.4444 \n",
      "\n",
      "\n"
     ]
    },
    {
     "name": "stderr",
     "output_type": "stream",
     "text": [
      "/home/ubermensch/.local/anaconda3/lib/python3.6/site-packages/numpy/lib/polynomial.py:1193: FutureWarning: In the future extra properties will not be copied across when constructing one poly1d from another\n",
      "  other = poly1d(other)\n",
      "/home/ubermensch/.local/anaconda3/lib/python3.6/site-packages/numpy/lib/polynomial.py:1220: FutureWarning: In the future extra properties will not be copied across when constructing one poly1d from another\n",
      "  other = poly1d(other)\n"
     ]
    }
   ],
   "source": [
    "#Using the integrate_2d_multival_poly function\n",
    "print(utils.integrate_2d_multivar_poly(p_xi_eta, N_quad = 9, scheme = 'gauss'))\n",
    "print(utils.integrate_2d_multivar_poly(p_xi_eta, N_quad = 9, scheme = 'lobatto'))"
   ]
  },
  {
   "cell_type": "code",
   "execution_count": null,
   "metadata": {},
   "outputs": [],
   "source": []
  }
 ],
 "metadata": {
  "kernelspec": {
   "display_name": "Python 3",
   "language": "python",
   "name": "python3"
  },
  "language_info": {
   "codemirror_mode": {
    "name": "ipython",
    "version": 3
   },
   "file_extension": ".py",
   "mimetype": "text/x-python",
   "name": "python",
   "nbconvert_exporter": "python",
   "pygments_lexer": "ipython3",
   "version": "3.6.3"
  }
 },
 "nbformat": 4,
 "nbformat_minor": 2
}
