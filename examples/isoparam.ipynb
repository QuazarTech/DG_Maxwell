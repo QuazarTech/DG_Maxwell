{
 "cells": [
  {
   "cell_type": "code",
   "execution_count": 1,
   "metadata": {},
   "outputs": [
    {
     "name": "stdout",
     "output_type": "stream",
     "text": [
      "gmshtranslator friendly reminder: rules and actions prototypes\n",
      "\n",
      "\n",
      "def node_condition(tag,x,y,z,physgroups): \n",
      "def node_action(tag,x,y,z):\n",
      "def element_condition(eletag,eletype,physgrp,nodes):\n",
      "def element_action(eletag,eletype,physgrp,nodes):\n"
     ]
    },
    {
     "name": "stderr",
     "output_type": "stream",
     "text": [
      "/home/ubermensch/.local/anaconda3/lib/python3.6/site-packages/numpy/lib/polynomial.py:1193: FutureWarning: In the future extra properties will not be copied across when constructing one poly1d from another\n",
      "  other = poly1d(other)\n",
      "/home/ubermensch/.local/anaconda3/lib/python3.6/site-packages/numpy/lib/polynomial.py:1220: FutureWarning: In the future extra properties will not be copied across when constructing one poly1d from another\n",
      "  other = poly1d(other)\n"
     ]
    }
   ],
   "source": [
    "import os\n",
    "import sys\n",
    "sys.path.insert(0, os.path.abspath('../'))\n",
    "\n",
    "import numpy as np\n",
    "from matplotlib import pyplot as plt\n",
    "import gmshtranslator.gmshtranslator as gmsh\n",
    "import arrayfire as af\n",
    "\n",
    "from dg_maxwell import params\n",
    "from dg_maxwell import msh_parser\n",
    "from dg_maxwell import lagrange\n",
    "from dg_maxwell import wave_equation_2d as w2d\n",
    "from dg_maxwell import isoparam\n",
    "from dg_maxwell import utils\n",
    "\n",
    "af.set_backend(params.backend)"
   ]
  },
  {
   "cell_type": "code",
   "execution_count": 2,
   "metadata": {},
   "outputs": [
    {
     "name": "stdout",
     "output_type": "stream",
     "text": [
      "gmshTranslator: Initializing...\n",
      "gmshTranslator: Mesh has 25 nodes.\n",
      "gmshTranslator: Mesh has 25 elements.\n",
      "gmshTranslator: Processed 54 lines.\n",
      "gmshTranslator: There are 1 physical groups available: \n",
      "gmshTranslator:      > 0\n",
      "gmshTranslator: Parsing nodes\n",
      "gmshTranslator: Parsing elements\n",
      "gmshTranslator: No rules for elements... skipping elements.\n",
      "gmshTranslator: Parsing nodes\n",
      "gmshTranslator: No rules for nodes... skipping nodes.\n",
      "gmshTranslator: Parsing elements\n"
     ]
    }
   ],
   "source": [
    "nodes, elements = msh_parser.read_order_2_msh('read_and_plot_mesh/mesh/circle.msh')\n",
    "nodes = af.np_to_af_array(nodes)\n",
    "elements = af.np_to_af_array(elements)\n",
    "element_nodes = af.moddims(nodes[elements], d0 = elements.shape[0],\n",
    "                           d1 = elements.shape[1], d2 = 2)\n",
    "element_nodes = af.reorder(element_nodes, d0 = 1, d1 = 2, d2 = 0)"
   ]
  },
  {
   "cell_type": "code",
   "execution_count": 3,
   "metadata": {},
   "outputs": [
    {
     "name": "stderr",
     "output_type": "stream",
     "text": [
      "/home/ubermensch/.local/anaconda3/lib/python3.6/site-packages/numpy/lib/polynomial.py:1193: FutureWarning: In the future extra properties will not be copied across when constructing one poly1d from another\n",
      "  other = poly1d(other)\n",
      "/home/ubermensch/.local/anaconda3/lib/python3.6/site-packages/numpy/lib/polynomial.py:1220: FutureWarning: In the future extra properties will not be copied across when constructing one poly1d from another\n",
      "  other = poly1d(other)\n"
     ]
    }
   ],
   "source": [
    "N_LGL = 8\n",
    "xi_LGL  = (lagrange.LGL_points(N_LGL))\n",
    "eta_LGL = (lagrange.LGL_points(N_LGL))\n",
    "\n",
    "Xi, Eta = utils.af_meshgrid(xi_LGL, eta_LGL)\n"
   ]
  },
  {
   "cell_type": "code",
   "execution_count": 4,
   "metadata": {},
   "outputs": [
    {
     "name": "stdout",
     "output_type": "stream",
     "text": [
      "gmshTranslator: Ending\n",
      "1.0\n",
      "1.0\n",
      "1.0\n",
      "1.0\n"
     ]
    }
   ],
   "source": [
    "print(af.all_true(element_nodes[:, :, 0] - nodes[elements[0]] < 1e-14))\n",
    "print(af.all_true(element_nodes[:, :, 1] - nodes[elements[1]] < 1e-14))\n",
    "print(af.all_true(element_nodes[:, :, 2] - nodes[elements[2]] < 1e-14))\n",
    "print(af.all_true(element_nodes[:, :, 3] - nodes[elements[3]] < 1e-14))"
   ]
  },
  {
   "cell_type": "code",
   "execution_count": 5,
   "metadata": {},
   "outputs": [
    {
     "name": "stdout",
     "output_type": "stream",
     "text": [
      "arrayfire.Array()\n",
      "Type: double\n",
      "\n",
      "[9 1 1 1]\n",
      "   -0.0000 \n",
      "   -2.1213 \n",
      "   -3.0000 \n",
      "   -2.0000 \n",
      "   -1.0000 \n",
      "   -0.7071 \n",
      "   -0.0000 \n",
      "    0.0000 \n",
      "   -1.4142 \n",
      "\n",
      "\n",
      "arrayfire.Array()\n",
      "Type: double\n",
      "\n",
      "[9 1 1 1]\n",
      "   -0.0000 \n",
      "   -2.1213 \n",
      "   -3.0000 \n",
      "   -2.0000 \n",
      "   -1.0000 \n",
      "   -0.7071 \n",
      "   -0.0000 \n",
      "    0.0000 \n",
      "   -1.4142 \n",
      "\n",
      "\n"
     ]
    }
   ],
   "source": [
    "print(element_nodes[:, 0, 0])\n",
    "print(nodes[elements[0]][:, 0])"
   ]
  },
  {
   "cell_type": "code",
   "execution_count": 6,
   "metadata": {},
   "outputs": [
    {
     "ename": "TypeError",
     "evalue": "__array__() takes 1 positional argument but 2 were given",
     "output_type": "error",
     "traceback": [
      "\u001b[0;31m---------------------------------------------------------------------------\u001b[0m",
      "\u001b[0;31mTypeError\u001b[0m                                 Traceback (most recent call last)",
      "\u001b[0;32m<ipython-input-6-44ff50199f0c>\u001b[0m in \u001b[0;36m<module>\u001b[0;34m()\u001b[0m\n\u001b[0;32m----> 1\u001b[0;31m \u001b[0mprint\u001b[0m\u001b[0;34m(\u001b[0m\u001b[0mnp\u001b[0m\u001b[0;34m.\u001b[0m\u001b[0mfloat64\u001b[0m\u001b[0;34m(\u001b[0m\u001b[0mxi_LGL\u001b[0m\u001b[0;34m[\u001b[0m\u001b[0;36m0\u001b[0m\u001b[0;34m]\u001b[0m\u001b[0;34m)\u001b[0m\u001b[0;34m)\u001b[0m\u001b[0;34m\u001b[0m\u001b[0m\n\u001b[0m",
      "\u001b[0;31mTypeError\u001b[0m: __array__() takes 1 positional argument but 2 were given"
     ]
    }
   ],
   "source": [
    "print(np.float64(xi_LGL[0]))"
   ]
  },
  {
   "cell_type": "code",
   "execution_count": 7,
   "metadata": {},
   "outputs": [
    {
     "ename": "RuntimeError",
     "evalue": "In function af::dim4 getOutDims(const af::dim4&, const af::dim4&, bool)\nIn file src/backend/ArrayInfo.cpp:180\nInvalid dimension for argument 1\nExpected: ldims == rdims\n",
     "output_type": "error",
     "traceback": [
      "\u001b[0;31m---------------------------------------------------------------------------\u001b[0m",
      "\u001b[0;31mRuntimeError\u001b[0m                              Traceback (most recent call last)",
      "\u001b[0;32m<ipython-input-7-f7e86a35d9bc>\u001b[0m in \u001b[0;36m<module>\u001b[0;34m()\u001b[0m\n\u001b[0;32m----> 1\u001b[0;31m \u001b[0mprint\u001b[0m\u001b[0;34m(\u001b[0m\u001b[0misoparam\u001b[0m\u001b[0;34m.\u001b[0m\u001b[0misoparam_x_2D\u001b[0m\u001b[0;34m(\u001b[0m\u001b[0mnodes\u001b[0m\u001b[0;34m[\u001b[0m\u001b[0melements\u001b[0m\u001b[0;34m[\u001b[0m\u001b[0;36m0\u001b[0m\u001b[0;34m]\u001b[0m\u001b[0;34m]\u001b[0m\u001b[0;34m[\u001b[0m\u001b[0;34m:\u001b[0m\u001b[0;34m,\u001b[0m \u001b[0;36m0\u001b[0m\u001b[0;34m]\u001b[0m\u001b[0;34m,\u001b[0m \u001b[0mxi_LGL\u001b[0m\u001b[0;34m,\u001b[0m \u001b[0meta_LGL\u001b[0m\u001b[0;34m)\u001b[0m\u001b[0;34m)\u001b[0m\u001b[0;34m\u001b[0m\u001b[0m\n\u001b[0m",
      "\u001b[0;32m~/workspace/quazar/git/amanabt/DG_Maxwell/dg_maxwell/isoparam.py\u001b[0m in \u001b[0;36misoparam_x_2D\u001b[0;34m(x_nodes, xi, eta)\u001b[0m\n\u001b[1;32m     89\u001b[0m       \u001b[0;34m+\u001b[0m \u001b[0mN_5\u001b[0m \u001b[0;34m*\u001b[0m \u001b[0mx_nodes\u001b[0m\u001b[0;34m[\u001b[0m\u001b[0;36m5\u001b[0m\u001b[0;34m]\u001b[0m\u001b[0;31m \u001b[0m\u001b[0;31m\\\u001b[0m\u001b[0;34m\u001b[0m\u001b[0m\n\u001b[1;32m     90\u001b[0m       \u001b[0;34m+\u001b[0m \u001b[0mN_6\u001b[0m \u001b[0;34m*\u001b[0m \u001b[0mx_nodes\u001b[0m\u001b[0;34m[\u001b[0m\u001b[0;36m6\u001b[0m\u001b[0;34m]\u001b[0m\u001b[0;31m \u001b[0m\u001b[0;31m\\\u001b[0m\u001b[0;34m\u001b[0m\u001b[0m\n\u001b[0;32m---> 91\u001b[0;31m       \u001b[0;34m+\u001b[0m \u001b[0mN_7\u001b[0m \u001b[0;34m*\u001b[0m \u001b[0mx_nodes\u001b[0m\u001b[0;34m[\u001b[0m\u001b[0;36m7\u001b[0m\u001b[0;34m]\u001b[0m\u001b[0;34m\u001b[0m\u001b[0m\n\u001b[0m\u001b[1;32m     92\u001b[0m \u001b[0;34m\u001b[0m\u001b[0m\n\u001b[1;32m     93\u001b[0m     \u001b[0;32mreturn\u001b[0m \u001b[0mx\u001b[0m\u001b[0;34m\u001b[0m\u001b[0m\n",
      "\u001b[0;32m~/.local/anaconda3/lib/python3.6/site-packages/arrayfire/array.py\u001b[0m in \u001b[0;36m__mul__\u001b[0;34m(self, other)\u001b[0m\n\u001b[1;32m    869\u001b[0m         \u001b[0mReturn\u001b[0m \u001b[0mself\u001b[0m \u001b[0;34m*\u001b[0m \u001b[0mother\u001b[0m\u001b[0;34m.\u001b[0m\u001b[0;34m\u001b[0m\u001b[0m\n\u001b[1;32m    870\u001b[0m         \"\"\"\n\u001b[0;32m--> 871\u001b[0;31m         \u001b[0;32mreturn\u001b[0m \u001b[0m_binary_func\u001b[0m\u001b[0;34m(\u001b[0m\u001b[0mself\u001b[0m\u001b[0;34m,\u001b[0m \u001b[0mother\u001b[0m\u001b[0;34m,\u001b[0m \u001b[0mbackend\u001b[0m\u001b[0;34m.\u001b[0m\u001b[0mget\u001b[0m\u001b[0;34m(\u001b[0m\u001b[0;34m)\u001b[0m\u001b[0;34m.\u001b[0m\u001b[0maf_mul\u001b[0m\u001b[0;34m)\u001b[0m\u001b[0;34m\u001b[0m\u001b[0m\n\u001b[0m\u001b[1;32m    872\u001b[0m \u001b[0;34m\u001b[0m\u001b[0m\n\u001b[1;32m    873\u001b[0m     \u001b[0;32mdef\u001b[0m \u001b[0m__imul__\u001b[0m\u001b[0;34m(\u001b[0m\u001b[0mself\u001b[0m\u001b[0;34m,\u001b[0m \u001b[0mother\u001b[0m\u001b[0;34m)\u001b[0m\u001b[0;34m:\u001b[0m\u001b[0;34m\u001b[0m\u001b[0m\n",
      "\u001b[0;32m~/.local/anaconda3/lib/python3.6/site-packages/arrayfire/array.py\u001b[0m in \u001b[0;36m_binary_func\u001b[0;34m(lhs, rhs, c_func)\u001b[0m\n\u001b[1;32m    173\u001b[0m         \u001b[0;32mraise\u001b[0m \u001b[0mTypeError\u001b[0m\u001b[0;34m(\u001b[0m\u001b[0;34m\"Invalid parameter to binary function\"\u001b[0m\u001b[0;34m)\u001b[0m\u001b[0;34m\u001b[0m\u001b[0m\n\u001b[1;32m    174\u001b[0m \u001b[0;34m\u001b[0m\u001b[0m\n\u001b[0;32m--> 175\u001b[0;31m     \u001b[0msafe_call\u001b[0m\u001b[0;34m(\u001b[0m\u001b[0mc_func\u001b[0m\u001b[0;34m(\u001b[0m\u001b[0mc_pointer\u001b[0m\u001b[0;34m(\u001b[0m\u001b[0mout\u001b[0m\u001b[0;34m.\u001b[0m\u001b[0marr\u001b[0m\u001b[0;34m)\u001b[0m\u001b[0;34m,\u001b[0m \u001b[0mlhs\u001b[0m\u001b[0;34m.\u001b[0m\u001b[0marr\u001b[0m\u001b[0;34m,\u001b[0m \u001b[0mother\u001b[0m\u001b[0;34m.\u001b[0m\u001b[0marr\u001b[0m\u001b[0;34m,\u001b[0m \u001b[0m_bcast_var\u001b[0m\u001b[0;34m.\u001b[0m\u001b[0mget\u001b[0m\u001b[0;34m(\u001b[0m\u001b[0;34m)\u001b[0m\u001b[0;34m)\u001b[0m\u001b[0;34m)\u001b[0m\u001b[0;34m\u001b[0m\u001b[0m\n\u001b[0m\u001b[1;32m    176\u001b[0m \u001b[0;34m\u001b[0m\u001b[0m\n\u001b[1;32m    177\u001b[0m     \u001b[0;32mreturn\u001b[0m \u001b[0mout\u001b[0m\u001b[0;34m\u001b[0m\u001b[0m\n",
      "\u001b[0;32m~/.local/anaconda3/lib/python3.6/site-packages/arrayfire/util.py\u001b[0m in \u001b[0;36msafe_call\u001b[0;34m(af_error)\u001b[0m\n\u001b[1;32m     77\u001b[0m         \u001b[0merr_len\u001b[0m \u001b[0;34m=\u001b[0m \u001b[0mc_dim_t\u001b[0m\u001b[0;34m(\u001b[0m\u001b[0;36m0\u001b[0m\u001b[0;34m)\u001b[0m\u001b[0;34m\u001b[0m\u001b[0m\n\u001b[1;32m     78\u001b[0m         \u001b[0mbackend\u001b[0m\u001b[0;34m.\u001b[0m\u001b[0mget\u001b[0m\u001b[0;34m(\u001b[0m\u001b[0;34m)\u001b[0m\u001b[0;34m.\u001b[0m\u001b[0maf_get_last_error\u001b[0m\u001b[0;34m(\u001b[0m\u001b[0mc_pointer\u001b[0m\u001b[0;34m(\u001b[0m\u001b[0merr_str\u001b[0m\u001b[0;34m)\u001b[0m\u001b[0;34m,\u001b[0m \u001b[0mc_pointer\u001b[0m\u001b[0;34m(\u001b[0m\u001b[0merr_len\u001b[0m\u001b[0;34m)\u001b[0m\u001b[0;34m)\u001b[0m\u001b[0;34m\u001b[0m\u001b[0m\n\u001b[0;32m---> 79\u001b[0;31m         \u001b[0;32mraise\u001b[0m \u001b[0mRuntimeError\u001b[0m\u001b[0;34m(\u001b[0m\u001b[0mto_str\u001b[0m\u001b[0;34m(\u001b[0m\u001b[0merr_str\u001b[0m\u001b[0;34m)\u001b[0m\u001b[0;34m)\u001b[0m\u001b[0;34m\u001b[0m\u001b[0m\n\u001b[0m\u001b[1;32m     80\u001b[0m \u001b[0;34m\u001b[0m\u001b[0m\n\u001b[1;32m     81\u001b[0m \u001b[0;32mdef\u001b[0m \u001b[0mget_version\u001b[0m\u001b[0;34m(\u001b[0m\u001b[0;34m)\u001b[0m\u001b[0;34m:\u001b[0m\u001b[0;34m\u001b[0m\u001b[0m\n",
      "\u001b[0;31mRuntimeError\u001b[0m: In function af::dim4 getOutDims(const af::dim4&, const af::dim4&, bool)\nIn file src/backend/ArrayInfo.cpp:180\nInvalid dimension for argument 1\nExpected: ldims == rdims\n"
     ]
    }
   ],
   "source": [
    "print(isoparam.isoparam_x_2D(nodes[elements[0]][:, 0], xi_LGL, eta_LGL))"
   ]
  },
  {
   "cell_type": "code",
   "execution_count": 56,
   "metadata": {},
   "outputs": [
    {
     "name": "stdout",
     "output_type": "stream",
     "text": [
      "arrayfire.Array()\n",
      "Type: double\n",
      "\n",
      "[9 1 1 1]\n",
      "   -0.0000 \n",
      "   -2.1213 \n",
      "   -3.0000 \n",
      "   -2.0000 \n",
      "   -1.0000 \n",
      "   -0.7071 \n",
      "   -0.0000 \n",
      "    0.0000 \n",
      "   -1.4142 \n",
      "\n",
      "\n"
     ]
    }
   ],
   "source": [
    "print(nodes[elements[0]][:, 0])"
   ]
  },
  {
   "cell_type": "code",
   "execution_count": 89,
   "metadata": {},
   "outputs": [],
   "source": [
    "element_nodes = af.np_to_af_array(np.zeros((elements.shape[0], elements.shape[1] - 1, 2)))"
   ]
  },
  {
   "cell_type": "code",
   "execution_count": 91,
   "metadata": {},
   "outputs": [
    {
     "name": "stdout",
     "output_type": "stream",
     "text": [
      "arrayfire.Array()\n",
      "Type: double\n",
      "\n",
      "[4 8 2 1]\n",
      "    0.0000     0.0000     0.0000     0.0000     0.0000     0.0000     0.0000     0.0000 \n",
      "    0.0000     0.0000     0.0000     0.0000     0.0000     0.0000     0.0000     0.0000 \n",
      "    0.0000     0.0000     0.0000     0.0000     0.0000     0.0000     0.0000     0.0000 \n",
      "    0.0000     0.0000     0.0000     0.0000     0.0000     0.0000     0.0000     0.0000 \n",
      "\n",
      "    0.0000     0.0000     0.0000     0.0000     0.0000     0.0000     0.0000     0.0000 \n",
      "    0.0000     0.0000     0.0000     0.0000     0.0000     0.0000     0.0000     0.0000 \n",
      "    0.0000     0.0000     0.0000     0.0000     0.0000     0.0000     0.0000     0.0000 \n",
      "    0.0000     0.0000     0.0000     0.0000     0.0000     0.0000     0.0000     0.0000 \n",
      "\n",
      "\n",
      "\n"
     ]
    }
   ],
   "source": [
    "print(element_nodes)"
   ]
  },
  {
   "cell_type": "code",
   "execution_count": 104,
   "metadata": {},
   "outputs": [
    {
     "ename": "RuntimeError",
     "evalue": "In function af_err af_moddims(void**, af_array, unsigned int, const dim_t*)\nIn file src/api/c/moddims.cpp:68\nInvalid dimension for argument 1\nExpected: in_elements == new_elements\n",
     "output_type": "error",
     "traceback": [
      "\u001b[0;31m---------------------------------------------------------------------------\u001b[0m",
      "\u001b[0;31mRuntimeError\u001b[0m                              Traceback (most recent call last)",
      "\u001b[0;32m<ipython-input-104-f4cad310d614>\u001b[0m in \u001b[0;36m<module>\u001b[0;34m()\u001b[0m\n\u001b[0;32m----> 1\u001b[0;31m \u001b[0melement_nodes\u001b[0m\u001b[0;34m[\u001b[0m\u001b[0;34m:\u001b[0m\u001b[0;34m]\u001b[0m \u001b[0;34m=\u001b[0m \u001b[0maf\u001b[0m\u001b[0;34m.\u001b[0m\u001b[0mmoddims\u001b[0m\u001b[0;34m(\u001b[0m\u001b[0mnodes\u001b[0m\u001b[0;34m[\u001b[0m\u001b[0melements\u001b[0m\u001b[0;34m[\u001b[0m\u001b[0;34m:\u001b[0m\u001b[0;34m,\u001b[0m \u001b[0;34m:\u001b[0m\u001b[0;34m-\u001b[0m\u001b[0;36m1\u001b[0m\u001b[0;34m]\u001b[0m\u001b[0;34m]\u001b[0m\u001b[0;34m,\u001b[0m \u001b[0md0\u001b[0m \u001b[0;34m=\u001b[0m \u001b[0;36m1\u001b[0m\u001b[0;34m,\u001b[0m \u001b[0md1\u001b[0m \u001b[0;34m=\u001b[0m \u001b[0;36m8\u001b[0m\u001b[0;34m,\u001b[0m \u001b[0md2\u001b[0m \u001b[0;34m=\u001b[0m \u001b[0;36m2\u001b[0m\u001b[0;34m)\u001b[0m\u001b[0;34m\u001b[0m\u001b[0m\n\u001b[0m",
      "\u001b[0;32m~/.local/anaconda3/lib/python3.6/site-packages/arrayfire/data.py\u001b[0m in \u001b[0;36mmoddims\u001b[0;34m(a, d0, d1, d2, d3)\u001b[0m\n\u001b[1;32m    570\u001b[0m     \u001b[0mout\u001b[0m \u001b[0;34m=\u001b[0m \u001b[0mArray\u001b[0m\u001b[0;34m(\u001b[0m\u001b[0;34m)\u001b[0m\u001b[0;34m\u001b[0m\u001b[0m\n\u001b[1;32m    571\u001b[0m     \u001b[0mdims\u001b[0m \u001b[0;34m=\u001b[0m \u001b[0mdim4\u001b[0m\u001b[0;34m(\u001b[0m\u001b[0md0\u001b[0m\u001b[0;34m,\u001b[0m \u001b[0md1\u001b[0m\u001b[0;34m,\u001b[0m \u001b[0md2\u001b[0m\u001b[0;34m,\u001b[0m \u001b[0md3\u001b[0m\u001b[0;34m)\u001b[0m\u001b[0;34m\u001b[0m\u001b[0m\n\u001b[0;32m--> 572\u001b[0;31m     \u001b[0msafe_call\u001b[0m\u001b[0;34m(\u001b[0m\u001b[0mbackend\u001b[0m\u001b[0;34m.\u001b[0m\u001b[0mget\u001b[0m\u001b[0;34m(\u001b[0m\u001b[0;34m)\u001b[0m\u001b[0;34m.\u001b[0m\u001b[0maf_moddims\u001b[0m\u001b[0;34m(\u001b[0m\u001b[0mc_pointer\u001b[0m\u001b[0;34m(\u001b[0m\u001b[0mout\u001b[0m\u001b[0;34m.\u001b[0m\u001b[0marr\u001b[0m\u001b[0;34m)\u001b[0m\u001b[0;34m,\u001b[0m \u001b[0ma\u001b[0m\u001b[0;34m.\u001b[0m\u001b[0marr\u001b[0m\u001b[0;34m,\u001b[0m \u001b[0;36m4\u001b[0m\u001b[0;34m,\u001b[0m \u001b[0mc_pointer\u001b[0m\u001b[0;34m(\u001b[0m\u001b[0mdims\u001b[0m\u001b[0;34m)\u001b[0m\u001b[0;34m)\u001b[0m\u001b[0;34m)\u001b[0m\u001b[0;34m\u001b[0m\u001b[0m\n\u001b[0m\u001b[1;32m    573\u001b[0m     \u001b[0;32mreturn\u001b[0m \u001b[0mout\u001b[0m\u001b[0;34m\u001b[0m\u001b[0m\n\u001b[1;32m    574\u001b[0m \u001b[0;34m\u001b[0m\u001b[0m\n",
      "\u001b[0;32m~/.local/anaconda3/lib/python3.6/site-packages/arrayfire/util.py\u001b[0m in \u001b[0;36msafe_call\u001b[0;34m(af_error)\u001b[0m\n\u001b[1;32m     77\u001b[0m         \u001b[0merr_len\u001b[0m \u001b[0;34m=\u001b[0m \u001b[0mc_dim_t\u001b[0m\u001b[0;34m(\u001b[0m\u001b[0;36m0\u001b[0m\u001b[0;34m)\u001b[0m\u001b[0;34m\u001b[0m\u001b[0m\n\u001b[1;32m     78\u001b[0m         \u001b[0mbackend\u001b[0m\u001b[0;34m.\u001b[0m\u001b[0mget\u001b[0m\u001b[0;34m(\u001b[0m\u001b[0;34m)\u001b[0m\u001b[0;34m.\u001b[0m\u001b[0maf_get_last_error\u001b[0m\u001b[0;34m(\u001b[0m\u001b[0mc_pointer\u001b[0m\u001b[0;34m(\u001b[0m\u001b[0merr_str\u001b[0m\u001b[0;34m)\u001b[0m\u001b[0;34m,\u001b[0m \u001b[0mc_pointer\u001b[0m\u001b[0;34m(\u001b[0m\u001b[0merr_len\u001b[0m\u001b[0;34m)\u001b[0m\u001b[0;34m)\u001b[0m\u001b[0;34m\u001b[0m\u001b[0m\n\u001b[0;32m---> 79\u001b[0;31m         \u001b[0;32mraise\u001b[0m \u001b[0mRuntimeError\u001b[0m\u001b[0;34m(\u001b[0m\u001b[0mto_str\u001b[0m\u001b[0;34m(\u001b[0m\u001b[0merr_str\u001b[0m\u001b[0;34m)\u001b[0m\u001b[0;34m)\u001b[0m\u001b[0;34m\u001b[0m\u001b[0m\n\u001b[0m\u001b[1;32m     80\u001b[0m \u001b[0;34m\u001b[0m\u001b[0m\n\u001b[1;32m     81\u001b[0m \u001b[0;32mdef\u001b[0m \u001b[0mget_version\u001b[0m\u001b[0;34m(\u001b[0m\u001b[0;34m)\u001b[0m\u001b[0;34m:\u001b[0m\u001b[0;34m\u001b[0m\u001b[0m\n",
      "\u001b[0;31mRuntimeError\u001b[0m: In function af_err af_moddims(void**, af_array, unsigned int, const dim_t*)\nIn file src/api/c/moddims.cpp:68\nInvalid dimension for argument 1\nExpected: in_elements == new_elements\n"
     ]
    }
   ],
   "source": [
    "element_nodes[0] = af.moddims(nodes[elements[0, :-1]], d0 = 1, d1 = 8, d2 = 2)"
   ]
  },
  {
   "cell_type": "code",
   "execution_count": 97,
   "metadata": {},
   "outputs": [
    {
     "data": {
      "text/plain": [
       "arrayfire.Array()\n",
       "Type: double\n",
       "Dims: (8, 2)"
      ]
     },
     "execution_count": 97,
     "metadata": {},
     "output_type": "execute_result"
    }
   ],
   "source": [
    "nodes[elements[0, :-1]]"
   ]
  },
  {
   "cell_type": "code",
   "execution_count": 102,
   "metadata": {},
   "outputs": [
    {
     "name": "stdout",
     "output_type": "stream",
     "text": [
      "arrayfire.Array()\n",
      "Type: double\n",
      "\n",
      "[1 8 2 1]\n",
      "   -0.0000    -2.1213    -3.0000    -2.0000    -1.0000    -0.7071    -0.0000     0.0000 \n",
      "\n",
      "    3.0000     2.1213     0.0000     0.0000     0.0000     0.7071     1.0000     2.0000 \n",
      "\n",
      "\n",
      "\n"
     ]
    }
   ],
   "source": [
    "print(element_nodes[0])"
   ]
  },
  {
   "cell_type": "code",
   "execution_count": 111,
   "metadata": {},
   "outputs": [
    {
     "name": "stdout",
     "output_type": "stream",
     "text": [
      "arrayfire.Array()\n",
      "Type: double\n",
      "\n",
      "[9 2 1 1]\n",
      "   -0.0000     3.0000 \n",
      "   -2.1213     2.1213 \n",
      "   -3.0000     0.0000 \n",
      "   -2.0000     0.0000 \n",
      "   -1.0000     0.0000 \n",
      "   -0.7071     0.7071 \n",
      "   -0.0000     1.0000 \n",
      "    0.0000     2.0000 \n",
      "   -1.4142     1.4142 \n",
      "\n",
      "\n"
     ]
    }
   ],
   "source": [
    "print(nodes[elements[0]])\n",
    "# print(nodes[elements[1]])\n",
    "# print(nodes[elements[2]])\n",
    "# print(nodes[elements[3]])"
   ]
  },
  {
   "cell_type": "code",
   "execution_count": 117,
   "metadata": {},
   "outputs": [
    {
     "name": "stdout",
     "output_type": "stream",
     "text": [
      "1.0\n",
      "1.0\n",
      "1.0\n",
      "1.0\n"
     ]
    }
   ],
   "source": [
    "print(af.all_true((af.moddims(nodes[elements], d0 = elements.shape[0], d1 = elements.shape[1], d2 = 2)[0] - af.moddims(nodes[elements[0, :]], d0 = 1, d1 = 9, d2 = 2)) < 1e-14))\n",
    "print(af.all_true((af.moddims(nodes[elements], d0 = elements.shape[0], d1 = elements.shape[1], d2 = 2)[1] - af.moddims(nodes[elements[1, :]], d0 = 1, d1 = 9, d2 = 2)) < 1e-14))\n",
    "print(af.all_true((af.moddims(nodes[elements], d0 = elements.shape[0], d1 = elements.shape[1], d2 = 2)[2] - af.moddims(nodes[elements[2, :]], d0 = 1, d1 = 9, d2 = 2)) < 1e-14))\n",
    "print(af.all_true((af.moddims(nodes[elements], d0 = elements.shape[0], d1 = elements.shape[1], d2 = 2)[3] - af.moddims(nodes[elements[3, :]], d0 = 1, d1 = 9, d2 = 2)) < 1e-14))"
   ]
  },
  {
   "cell_type": "code",
   "execution_count": 20,
   "metadata": {},
   "outputs": [
    {
     "name": "stdout",
     "output_type": "stream",
     "text": [
      "3.0\n"
     ]
    }
   ],
   "source": [
    "print(np.array(element_nodes[:, 1, 0][0])[0])"
   ]
  },
  {
   "cell_type": "code",
   "execution_count": 27,
   "metadata": {},
   "outputs": [
    {
     "name": "stdout",
     "output_type": "stream",
     "text": [
      "gmshTranslator: Ending\n"
     ]
    }
   ],
   "source": [
    "xi = Xi\n",
    "eta = Eta\n",
    "\n",
    "N = \n",
    "N_0 = (-1.0 / 4.0) * (1 - xi)  * (1 + eta) * (1 + xi - eta)\n",
    "N_1 = (1.0 / 2.0)  * (1 - xi)  * (1 - eta**2)\n",
    "N_2 = (-1.0 / 4.0) * (1 - xi)  * (1 - eta) * (1 + xi + eta)\n",
    "N_3 = (1.0 / 2.0)  * (1 - eta) * (1 - xi**2)\n",
    "N_4 = (-1.0 / 4.0) * (1 + xi)  * (1 - eta) * (1 - xi + eta)\n",
    "N_5 = (1.0 / 2.0)  * (1 + xi)  * (1 - eta**2)\n",
    "N_6 = (-1.0 / 4.0) * (1 + xi)  * (1 + eta) * (1 - xi - eta)\n",
    "N_7 = (1.0 / 2.0)  * (1 + eta) * (1 - xi**2)\n"
   ]
  },
  {
   "cell_type": "code",
   "execution_count": 28,
   "metadata": {},
   "outputs": [
    {
     "name": "stdout",
     "output_type": "stream",
     "text": [
      "arrayfire.Array()\n",
      "Type: double\n",
      "\n",
      "[8 8 1 1]\n",
      "   -0.0000    -0.0000    -0.0000    -0.0000    -0.0000    -0.0000    -0.0000    -0.0000 \n",
      "   -0.0559    -0.0600    -0.0653    -0.0645    -0.0528    -0.0323    -0.0113    -0.0000 \n",
      "   -0.1208    -0.1376    -0.1625    -0.1706    -0.1454    -0.0910    -0.0323    -0.0000 \n",
      "   -0.0827    -0.1249    -0.1943    -0.2390    -0.2217    -0.1454    -0.0528    -0.0000 \n",
      "    0.1266     0.0459    -0.0958    -0.2126    -0.2390    -0.1706    -0.0645    -0.0000 \n",
      "    0.4709     0.3452     0.1162    -0.0958    -0.1943    -0.1625    -0.0653    -0.0000 \n",
      "    0.8158     0.6512     0.3452     0.0459    -0.1249    -0.1376    -0.0600    -0.0000 \n",
      "    1.0000     0.8158     0.4709     0.1266    -0.0827    -0.1208    -0.0559    -0.0000 \n",
      "\n",
      "\n"
     ]
    }
   ],
   "source": [
    "N = [N_0, N_1, N_2, N_3, N_4, N_5, N_6, N_7]\n"
   ]
  },
  {
   "cell_type": "code",
   "execution_count": null,
   "metadata": {
    "collapsed": true
   },
   "outputs": [],
   "source": []
  }
 ],
 "metadata": {
  "kernelspec": {
   "display_name": "Python 3",
   "language": "python",
   "name": "python3"
  },
  "language_info": {
   "codemirror_mode": {
    "name": "ipython",
    "version": 3
   },
   "file_extension": ".py",
   "mimetype": "text/x-python",
   "name": "python",
   "nbconvert_exporter": "python",
   "pygments_lexer": "ipython3",
   "version": "3.6.3"
  }
 },
 "nbformat": 4,
 "nbformat_minor": 2
}
