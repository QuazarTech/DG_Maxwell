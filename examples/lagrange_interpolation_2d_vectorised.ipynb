{
 "cells": [
  {
   "cell_type": "code",
   "execution_count": 1,
   "metadata": {},
   "outputs": [
    {
     "name": "stdout",
     "output_type": "stream",
     "text": [
      "gmshtranslator friendly reminder: rules and actions prototypes\n",
      "\n",
      "\n",
      "def node_condition(tag,x,y,z,physgroups): \n",
      "def node_action(tag,x,y,z):\n",
      "def element_condition(eletag,eletype,physgrp,nodes):\n",
      "def element_action(eletag,eletype,physgrp,nodes):\n"
     ]
    },
    {
     "name": "stderr",
     "output_type": "stream",
     "text": [
      "/home/ubermensch/.local/anaconda3/lib/python3.6/site-packages/numpy/lib/polynomial.py:1193: FutureWarning: In the future extra properties will not be copied across when constructing one poly1d from another\n",
      "  other = poly1d(other)\n",
      "/home/ubermensch/.local/anaconda3/lib/python3.6/site-packages/numpy/lib/polynomial.py:1220: FutureWarning: In the future extra properties will not be copied across when constructing one poly1d from another\n",
      "  other = poly1d(other)\n"
     ]
    }
   ],
   "source": [
    "import os\n",
    "import sys\n",
    "import csv\n",
    "sys.path.insert(0, os.path.abspath('../'))\n",
    "\n",
    "import numpy as np\n",
    "from matplotlib import pyplot as plt\n",
    "from mpl_toolkits.mplot3d import Axes3D as ax\n",
    "import arrayfire as af\n",
    "\n",
    "from dg_maxwell import params\n",
    "from dg_maxwell import utils\n",
    "from dg_maxwell import lagrange\n",
    "from dg_maxwell import wave_equation_2d as w2d\n",
    "from dg_maxwell import msh_parser\n",
    "from dg_maxwell import isoparam\n",
    "\n",
    "af.set_backend(params.backend)\n",
    "af.set_device(params.device)\n",
    "af.info()"
   ]
  },
  {
   "cell_type": "code",
   "execution_count": 2,
   "metadata": {},
   "outputs": [
    {
     "name": "stdout",
     "output_type": "stream",
     "text": [
      "gmshTranslator: Initializing...\n",
      "gmshTranslator: Mesh has 441 nodes.\n",
      "gmshTranslator: Mesh has 144 elements.\n",
      "gmshTranslator: Processed 589 lines.\n",
      "gmshTranslator: There are 1 physical groups available: \n",
      "gmshTranslator:      > 0\n",
      "gmshTranslator: Parsing nodes\n",
      "gmshTranslator: Parsing elements\n",
      "gmshTranslator: No rules for elements... skipping elements.\n",
      "gmshTranslator: Parsing nodes\n",
      "gmshTranslator: No rules for nodes... skipping nodes.\n",
      "gmshTranslator: Parsing elements\n"
     ]
    }
   ],
   "source": [
    "nodes, elements = msh_parser.read_order_2_msh('read_and_plot_mesh/mesh/square_10_10.msh')"
   ]
  },
  {
   "cell_type": "code",
   "execution_count": 3,
   "metadata": {},
   "outputs": [],
   "source": [
    "def u_init(x, y):\n",
    "    return np.e**(-x**2 / 0.6**2)"
   ]
  },
  {
   "cell_type": "code",
   "execution_count": 4,
   "metadata": {},
   "outputs": [
    {
     "name": "stderr",
     "output_type": "stream",
     "text": [
      "/home/ubermensch/.local/anaconda3/lib/python3.6/site-packages/numpy/lib/polynomial.py:1193: FutureWarning: In the future extra properties will not be copied across when constructing one poly1d from another\n",
      "  other = poly1d(other)\n",
      "/home/ubermensch/.local/anaconda3/lib/python3.6/site-packages/numpy/lib/polynomial.py:1220: FutureWarning: In the future extra properties will not be copied across when constructing one poly1d from another\n",
      "  other = poly1d(other)\n"
     ]
    }
   ],
   "source": [
    "N_LGL   = 8\n",
    "x_e_ij  = af.np_to_af_array(np.zeros([N_LGL * N_LGL, len(elements)]))\n",
    "y_e_ij  = af.np_to_af_array(np.zeros([N_LGL * N_LGL, len(elements)]))\n",
    "\n",
    "xi_LGL  = lagrange.LGL_points(N_LGL)\n",
    "eta_LGL = lagrange.LGL_points(N_LGL)\n",
    "\n",
    "Xi_LGL, Eta_LGL = utils.af_meshgrid(xi_LGL, eta_LGL)\n",
    "xi_i  = af.flat(Xi_LGL)\n",
    "eta_j = af.flat(Eta_LGL)\n",
    "\n",
    "for element_tag, element in enumerate(elements):\n",
    "    x_e_ij[:, element_tag] = isoparam.isoparam_x_2D(nodes[element, 0], xi_i, eta_j)\n",
    "    y_e_ij[:, element_tag] = isoparam.isoparam_y_2D(nodes[element, 1], xi_i, eta_j)\n"
   ]
  },
  {
   "cell_type": "code",
   "execution_count": 5,
   "metadata": {},
   "outputs": [],
   "source": [
    "u_e_ij = u_init(x_e_ij, y_e_ij)"
   ]
  },
  {
   "cell_type": "code",
   "execution_count": 6,
   "metadata": {},
   "outputs": [],
   "source": [
    "_, Lp_xi  = lagrange.lagrange_polynomials(xi_LGL)\n",
    "_, Lq_eta = lagrange.lagrange_polynomials(eta_LGL)\n",
    "Lp_xi = af.np_to_af_array(Lp_xi)\n",
    "Lq_eta = af.np_to_af_array(Lq_eta)\n",
    "\n",
    "dLp_dxi_coeffs  = utils.polynomial_derivative(Lp_xi)\n",
    "dLq_deta_coeffs = utils.polynomial_derivative(Lq_eta)"
   ]
  },
  {
   "cell_type": "code",
   "execution_count": 7,
   "metadata": {},
   "outputs": [],
   "source": [
    "Lp_xi_tp = af.reorder(Lp_xi, d0 = 2, d1 = 0, d2 = 1)\n",
    "Lp_xi_tp = af.tile(Lp_xi_tp, d0 = N_LGL)\n",
    "Lp_xi_tp = af.moddims(Lp_xi_tp, d0 = N_LGL * N_LGL, d1 = 1, d2 = N_LGL)\n",
    "Lp_xi_tp = af.reorder(Lp_xi_tp, d0 = 0, d1 = 2, d2 = 1)\n",
    "\n",
    "Lq_eta_tp = af.reorder(Lq_eta, d0 = 0, d1 = 2, d2 = 1)\n",
    "Lq_eta_tp = af.tile(Lq_eta_tp, d0 = N_LGL)\n",
    "Lq_eta_tp = af.reorder(Lq_eta_tp, d0 = 0, d1 = 2, d2 = 1)"
   ]
  },
  {
   "cell_type": "code",
   "execution_count": 8,
   "metadata": {},
   "outputs": [],
   "source": [
    "dLp_dxi_tp = af.reorder(dLp_dxi_coeffs, d0 = 2, d1 = 0, d2 = 1)\n",
    "dLp_dxi_tp = af.tile(dLp_dxi_tp, d0 = N_LGL)\n",
    "dLp_dxi_tp = af.moddims(dLp_dxi_tp, d0 = N_LGL * N_LGL, d1 = 1, d2 = N_LGL - 1)\n",
    "dLp_dxi_tp = af.reorder(dLp_dxi_tp, d0 = 0, d1 = 2, d2 = 1)\n",
    "\n",
    "dLq_deta_tp = af.reorder(dLq_deta_coeffs, d0 = 0, d1 = 2, d2 = 1)\n",
    "dLq_deta_tp = af.tile(dLq_deta_tp, d0 = N_LGL)\n",
    "dLq_deta_tp = af.reorder(dLq_deta_tp, d0 = 0, d1 = 2, d2 = 1)"
   ]
  },
  {
   "cell_type": "code",
   "execution_count": 9,
   "metadata": {},
   "outputs": [],
   "source": [
    "dxi_dx  = af.constant(0, N_LGL**2, len(elements), dtype = af.Dtype.f64)\n",
    "dxi_dy  = af.constant(0, N_LGL**2, len(elements), dtype = af.Dtype.f64)\n",
    "deta_dx = af.constant(0, N_LGL**2, len(elements), dtype = af.Dtype.f64)\n",
    "deta_dy = af.constant(0, N_LGL**2, len(elements), dtype = af.Dtype.f64)\n",
    "\n",
    "for element_tag, element in enumerate(elements):\n",
    "    dxi_dx[:, element_tag]  = w2d.dxi_dx(nodes[element][:, 0], nodes[element][:, 1], xi_i, eta_j)\n",
    "    dxi_dy[:, element_tag]  = w2d.dxi_dy(nodes[element][:, 0], nodes[element][:, 1], xi_i, eta_j)\n",
    "    deta_dx[:, element_tag] = w2d.deta_dx(nodes[element][:, 0], nodes[element][:, 1], xi_i, eta_j)\n",
    "    deta_dy[:, element_tag] = w2d.deta_dy(nodes[element][:, 0], nodes[element][:, 1], xi_i, eta_j)"
   ]
  },
  {
   "cell_type": "code",
   "execution_count": 10,
   "metadata": {},
   "outputs": [],
   "source": [
    "def F_xi(u, dxi_dx, dxi_dy):\n",
    "    '''\n",
    "    '''\n",
    "    F_xi_u = w2d.F_x(u) * dxi_dx + w2d.F_y(u) * dxi_dy\n",
    "\n",
    "    return F_xi_u\n",
    "\n",
    "def F_eta(u, deta_dx, deta_dy):\n",
    "    '''\n",
    "    '''\n",
    "    F_eta_u = w2d.F_x(u) * deta_dx + w2d.F_y(u) * deta_dy\n",
    "    \n",
    "    return F_eta_u"
   ]
  },
  {
   "cell_type": "code",
   "execution_count": 11,
   "metadata": {},
   "outputs": [],
   "source": [
    "def g_dd(x_nodes, y_nodes, xi, eta):\n",
    "    '''\n",
    "    '''\n",
    "    ans00  =   (w2d.dx_dxi(x_nodes, xi, eta))**2 \\\n",
    "             + (w2d.dy_dxi(y_nodes, xi, eta))**2\n",
    "    ans11  =   (w2d.dx_deta(x_nodes, xi, eta))**2 \\\n",
    "             + (w2d.dy_deta(y_nodes, xi, eta))**2\n",
    "    \n",
    "    ans01  =  (w2d.dx_dxi(x_nodes, xi, eta))  \\\n",
    "            * (w2d.dx_deta(x_nodes, xi, eta)) \\\n",
    "            + (w2d.dy_dxi(y_nodes, xi, eta))  \\\n",
    "            * (w2d.dy_deta(y_nodes, xi, eta))\n",
    "    \n",
    "    ans =  [[ans00, ans01],\n",
    "            [ans01, ans11]\n",
    "           ]\n",
    "    \n",
    "    return ans\n",
    "\n",
    "\n",
    "def g_uu(x_nodes, y_nodes, xi, eta):\n",
    "    gCov = g_dd(x_nodes, y_nodes, xi, eta)\n",
    "    \n",
    "    \n",
    "    a = gCov[0][0]\n",
    "    b = gCov[0][1]\n",
    "    c = gCov[1][0]\n",
    "    d = gCov[1][1]\n",
    "    \n",
    "    det = (a*d - b*c)\n",
    "    \n",
    "    ans = [[d / det, -b / det],\n",
    "           [-c / det, a / det]]\n",
    "    \n",
    "    return ans"
   ]
  },
  {
   "cell_type": "code",
   "execution_count": 12,
   "metadata": {},
   "outputs": [],
   "source": [
    "G_ab = [[af.constant(0, N_LGL * N_LGL, len(elements), dtype = af.Dtype.f64),\n",
    "         af.constant(0, N_LGL * N_LGL, len(elements), dtype = af.Dtype.f64)],\n",
    "        [af.constant(0, N_LGL * N_LGL, len(elements), dtype = af.Dtype.f64),\n",
    "         af.constant(0, N_LGL * N_LGL, len(elements), dtype = af.Dtype.f64)]]\n",
    "\n",
    "for element_tag, element in enumerate(elements):\n",
    "    g_ab = g_uu(nodes[element][:, 0], nodes[element][:, 1], xi_i, eta_j)\n",
    "    G_ab[0][0][:, element_tag] = g_ab[0][0]\n",
    "    G_ab[0][1][:, element_tag] = g_ab[0][1]\n",
    "    G_ab[1][0][:, element_tag] = g_ab[1][0]\n",
    "    G_ab[1][1][:, element_tag] = g_ab[1][1]"
   ]
  },
  {
   "cell_type": "code",
   "execution_count": 13,
   "metadata": {},
   "outputs": [],
   "source": [
    "f_xi  = F_xi(u_e_ij, dxi_dx, deta_dy)\n",
    "f_eta = F_eta(u_e_ij, deta_dx, deta_dy)"
   ]
  },
  {
   "cell_type": "code",
   "execution_count": 14,
   "metadata": {},
   "outputs": [],
   "source": [
    "# for p in np.arange(N_LGL):\n",
    "#     for q in np.arange(N_LGL):\n",
    "\n",
    "p = 0\n",
    "q = 0\n",
    "index = p * N_LGL + q\n",
    "\n",
    "dLp_dxi_tp_ij = utils.polyval_1d(dLp_dxi_tp[index], af.np_to_af_array(np.array(xi_i)))\n",
    "dLp_dxi_tp_ij = af.tile(af.transpose(dLp_dxi_tp_ij), d0 = 1, d1 = len(elements))\n",
    "\n",
    "Lq_eta_tp_ij = utils.polyval_1d(Lq_eta_tp[index], af.np_to_af_array(np.array(eta_j)))\n",
    "Lq_eta_tp_ij = af.tile(af.transpose(Lq_eta_tp_ij), d0 = 1, d1 = len(elements))\n",
    "\n",
    "Lp_xi_tp_ij = utils.polyval_1d(Lp_xi_tp[index], af.np_to_af_array(np.array(xi_i)))\n",
    "Lp_xi_tp_ij = af.tile(af.transpose(Lp_xi_tp_ij), d0 = 1, d1 = len(elements))\n",
    "\n",
    "dLq_deta_tp_ij = utils.polyval_1d(dLq_deta_tp[index], af.np_to_af_array(np.array(eta_j)))\n",
    "dLq_deta_tp_ij = af.tile(af.transpose(dLq_deta_tp_ij), d0 = 1, d1 = len(elements))\n",
    "\n",
    "\n",
    "volume_integral_pq_ij = G_ab[0][0] * f_xi  * Lq_eta_tp_ij * dLp_dxi_tp_ij \\\n",
    "                      + G_ab[0][1] * f_eta * Lp_xi_tp_ij * dLq_deta_tp_ij \\\n",
    "                      + G_ab[1][0] * f_xi  * Lq_eta_tp_ij * dLp_dxi_tp_ij \\\n",
    "                      + G_ab[1][1] * f_eta * Lp_xi_tp_ij * dLq_deta_tp_ij\n"
   ]
  },
  {
   "cell_type": "code",
   "execution_count": 42,
   "metadata": {},
   "outputs": [
    {
     "name": "stdout",
     "output_type": "stream",
     "text": [
      "(8, 8, 100)\n"
     ]
    },
    {
     "name": "stderr",
     "output_type": "stream",
     "text": [
      "/home/ubermensch/.local/anaconda3/lib/python3.6/site-packages/numpy/lib/polynomial.py:1193: FutureWarning: In the future extra properties will not be copied across when constructing one poly1d from another\n",
      "  other = poly1d(other)\n",
      "/home/ubermensch/.local/anaconda3/lib/python3.6/site-packages/numpy/lib/polynomial.py:1220: FutureWarning: In the future extra properties will not be copied across when constructing one poly1d from another\n",
      "  other = poly1d(other)\n"
     ]
    }
   ],
   "source": [
    "u_e_ij_shape = utils.shape(u_e_ij[:, 0])\n",
    "\n",
    "Li_xi_Lj_eta_coeffs = af.tile(w2d.Li_Lj_coeffs(N_LGL), d0 = 1, d1 = 1, d2 = 1, d3 = u_e_ij_shape[1])\n",
    "f_ij = af.reorder(u_e_ij, 2, 3, 0, 1)\n",
    "\n",
    "f_ij_Li_Lj_coeffs = af.broadcast(utils.multiply, f_ij, Li_xi_Lj_eta_coeffs)\n",
    "interpolated_f    = af.reorder(af.sum(f_ij_Li_Lj_coeffs, 2), 0, 1, 3, 2)\n",
    "\n",
    "# return interpolated_f\n",
    "print(interpolated_f.shape)"
   ]
  },
  {
   "cell_type": "code",
   "execution_count": 15,
   "metadata": {},
   "outputs": [
    {
     "name": "stderr",
     "output_type": "stream",
     "text": [
      "/home/ubermensch/.local/anaconda3/lib/python3.6/site-packages/numpy/lib/polynomial.py:1193: FutureWarning: In the future extra properties will not be copied across when constructing one poly1d from another\n",
      "  other = poly1d(other)\n",
      "/home/ubermensch/.local/anaconda3/lib/python3.6/site-packages/numpy/lib/polynomial.py:1220: FutureWarning: In the future extra properties will not be copied across when constructing one poly1d from another\n",
      "  other = poly1d(other)\n"
     ]
    },
    {
     "data": {
      "text/plain": [
       "arrayfire.Array()\n",
       "Type: double\n",
       "Dims: (8, 8, 100)"
      ]
     },
     "execution_count": 15,
     "metadata": {},
     "output_type": "execute_result"
    }
   ],
   "source": [
    "w2d.lag_interpolation_2d(u_e_ij, N_LGL)"
   ]
  },
  {
   "cell_type": "code",
   "execution_count": null,
   "metadata": {},
   "outputs": [],
   "source": []
  }
 ],
 "metadata": {
  "kernelspec": {
   "display_name": "Python 3",
   "language": "python",
   "name": "python3"
  },
  "language_info": {
   "codemirror_mode": {
    "name": "ipython",
    "version": 3
   },
   "file_extension": ".py",
   "mimetype": "text/x-python",
   "name": "python",
   "nbconvert_exporter": "python",
   "pygments_lexer": "ipython3",
   "version": "3.6.3"
  }
 },
 "nbformat": 4,
 "nbformat_minor": 2
}
